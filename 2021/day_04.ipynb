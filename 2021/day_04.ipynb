{
 "cells": [
  {
   "cell_type": "markdown",
   "id": "0739b298",
   "metadata": {},
   "source": [
    "### Day 4: Giant Squid\n",
    "\n",
    "You're already almost 1.5km (almost a mile) below the surface of the ocean, already so deep that you can't see any sunlight. What you can see, however, is a giant squid that has attached itself to the outside of your submarine.\n",
    "\n",
    "Maybe it wants to play bingo?\n",
    "\n",
    "Bingo is played on a set of boards each consisting of a 5x5 grid of numbers. Numbers are chosen at random, and the chosen number is marked on all boards on which it appears. (Numbers may not appear on all boards.) If all numbers in any row or any column of a board are marked, that board wins. (Diagonals don't count.)\n",
    "\n",
    "The submarine has a bingo subsystem to help passengers (currently, you and the giant squid) pass the time. It automatically generates a random order in which to draw numbers and a random set of boards (your puzzle input). For example:\n",
    "\n",
    "    7,4,9,5,11,17,23,2,0,14,21,24,10,16,13,6,15,25,12,22,18,20,8,19,3,26,1\n",
    "\n",
    "    22 13 17 11  0\n",
    "     8  2 23  4 24\n",
    "    21  9 14 16  7\n",
    "     6 10  3 18  5\n",
    "     1 12 20 15 19\n",
    "\n",
    "     3 15  0  2 22\n",
    "     9 18 13 17  5\n",
    "    19  8  7 25 23\n",
    "    20 11 10 24  4\n",
    "    14 21 16 12  6\n",
    "\n",
    "    14 21 17 24  4\n",
    "    10 16 15  9 19\n",
    "    18  8 23 26 20\n",
    "    22 11 13  6  5\n",
    "     2  0 12  3  7\n",
    "     \n",
    "After the first five numbers are drawn (7, 4, 9, 5, and 11), there are no winners, but the boards are marked as follows (shown here adjacent to each other to save space):\n",
    "\n",
    "    22 13 17 11  0         3 15  0  2 22        14 21 17 24  4\n",
    "     8  2 23  4 24         9 18 13 17  5        10 16 15  9 19\n",
    "    21  9 14 16  7        19  8  7 25 23        18  8 23 26 20\n",
    "     6 10  3 18  5        20 11 10 24  4        22 11 13  6  5\n",
    "     1 12 20 15 19        14 21 16 12  6         2  0 12  3  7\n",
    "     \n",
    "After the next six numbers are drawn (17, 23, 2, 0, 14, and 21), there are still no winners:\n",
    "\n",
    "    22 13 17 11  0         3 15  0  2 22        14 21 17 24  4\n",
    "     8  2 23  4 24         9 18 13 17  5        10 16 15  9 19\n",
    "    21  9 14 16  7        19  8  7 25 23        18  8 23 26 20\n",
    "     6 10  3 18  5        20 11 10 24  4        22 11 13  6  5\n",
    "     1 12 20 15 19        14 21 16 12  6         2  0 12  3  7\n",
    "     \n",
    "Finally, 24 is drawn:\n",
    "\n",
    "    22 13 17 11  0         3 15  0  2 22        14 21 17 24  4\n",
    "     8  2 23  4 24         9 18 13 17  5        10 16 15  9 19\n",
    "    21  9 14 16  7        19  8  7 25 23        18  8 23 26 20\n",
    "     6 10  3 18  5        20 11 10 24  4        22 11 13  6  5\n",
    "     1 12 20 15 19        14 21 16 12  6         2  0 12  3  7\n",
    "     \n",
    "At this point, the third board wins because it has at least one complete row or column of marked numbers (in this case, the entire top row is marked: 14 21 17 24 4).\n",
    "\n",
    "The score of the winning board can now be calculated. Start by finding the sum of all unmarked numbers on that board; in this case, the sum is 188. Then, multiply that sum by the number that was just called when the board won, 24, to get the final score, 188 * 24 = 4512.\n",
    "\n",
    "To guarantee victory against the giant squid, figure out which board will win first. What will your final score be if you choose that board?"
   ]
  },
  {
   "cell_type": "code",
   "execution_count": 1,
   "id": "88d772a2",
   "metadata": {
    "ExecuteTime": {
     "end_time": "2021-12-04T10:32:23.161835Z",
     "start_time": "2021-12-04T10:32:23.144813Z"
    }
   },
   "outputs": [],
   "source": [
    "import copy"
   ]
  },
  {
   "cell_type": "code",
   "execution_count": 2,
   "id": "318ffc3d",
   "metadata": {
    "ExecuteTime": {
     "end_time": "2021-12-04T10:32:23.177687Z",
     "start_time": "2021-12-04T10:32:23.164394Z"
    }
   },
   "outputs": [],
   "source": [
    "with open('data/advent_04.txt', 'r') as f:\n",
    "    data = f.read().rstrip('\\n')\n",
    "    numbers = list(map(int, data.split('\\n\\n')[0].split(',')))\n",
    "    boards = data.replace('  ', ' ').replace('\\n ', '\\n').split('\\n\\n')[1:]\n",
    "\n",
    "aux = []\n",
    "for i, board in enumerate(boards):\n",
    "    aux.append([])\n",
    "    rows = board.split('\\n')\n",
    "    for row in rows:\n",
    "        row = list(map(int, row.split(' ')))\n",
    "        aux[i].append(row)\n",
    "    columns = [[aux[i][j][k] for j in range(len(aux[i]))] for k in range(len(aux[i][0]))]\n",
    "    aux[i] += columns\n",
    "    \n",
    "boards = aux"
   ]
  },
  {
   "cell_type": "code",
   "execution_count": 3,
   "id": "6f676986",
   "metadata": {
    "ExecuteTime": {
     "end_time": "2021-12-04T10:32:23.181781Z",
     "start_time": "2021-12-04T10:32:23.178821Z"
    }
   },
   "outputs": [],
   "source": [
    "def play_bingo(numbers, boards):\n",
    "    winner = None\n",
    "    for number in numbers:\n",
    "        for i, board in enumerate(boards):\n",
    "            for row in board:\n",
    "                if number in row:\n",
    "                    row.remove(number)\n",
    "                    if len(row) == 0:\n",
    "                        winner = i, number\n",
    "                        \n",
    "            if winner is not None:\n",
    "                return i, number"
   ]
  },
  {
   "cell_type": "code",
   "execution_count": 4,
   "id": "a75e8981",
   "metadata": {
    "ExecuteTime": {
     "end_time": "2021-12-04T10:32:23.189819Z",
     "start_time": "2021-12-04T10:32:23.183915Z"
    }
   },
   "outputs": [],
   "source": [
    "game_boards = copy.deepcopy(boards)\n",
    "winner_board, last_number = play_bingo(numbers, game_boards)"
   ]
  },
  {
   "cell_type": "code",
   "execution_count": 5,
   "id": "3a0cf415",
   "metadata": {
    "ExecuteTime": {
     "end_time": "2021-12-04T10:32:23.192616Z",
     "start_time": "2021-12-04T10:32:23.190473Z"
    }
   },
   "outputs": [
    {
     "name": "stdout",
     "output_type": "stream",
     "text": [
      "Solution: The final score is 806 * 73 = 58838\n"
     ]
    }
   ],
   "source": [
    "sum_unmatched = sum(set([number for row in game_boards[winner_board] for number in row]))\n",
    "res = sum_unmatched * last_number\n",
    "print(f\"Solution: The final score is {sum_unmatched} * {last_number} = {res}\")"
   ]
  },
  {
   "cell_type": "markdown",
   "id": "c28ac179",
   "metadata": {
    "ExecuteTime": {
     "end_time": "2021-12-04T09:32:14.076928Z",
     "start_time": "2021-12-04T09:32:14.066752Z"
    }
   },
   "source": [
    "### Part Two\n",
    "\n",
    "On the other hand, it might be wise to try a different strategy: let the giant squid win.\n",
    "\n",
    "You aren't sure how many bingo boards a giant squid could play at once, so rather than waste time counting its arms, the safe thing to do is to figure out which board will win last and choose that one. That way, no matter which boards it picks, it will win for sure.\n",
    "\n",
    "In the above example, the second board is the last to win, which happens after 13 is eventually called and its middle column is completely marked. If you were to keep playing until this point, the second board would have a sum of unmarked numbers equal to 148 for a final score of 148 * 13 = 1924.\n",
    "\n",
    "Figure out which board will win last. Once it wins, what would its final score be?"
   ]
  },
  {
   "cell_type": "code",
   "execution_count": 6,
   "id": "808938ad",
   "metadata": {
    "ExecuteTime": {
     "end_time": "2021-12-04T10:32:23.195751Z",
     "start_time": "2021-12-04T10:32:23.193576Z"
    }
   },
   "outputs": [],
   "source": [
    "def get_loser_board(numbers, boards):\n",
    "    while len(boards) > 1:\n",
    "        winner_board, last_number = play_bingo(numbers, boards)\n",
    "        boards.pop(winner_board)\n",
    "    return play_bingo(numbers, boards)"
   ]
  },
  {
   "cell_type": "code",
   "execution_count": 7,
   "id": "0cd2c46e",
   "metadata": {
    "ExecuteTime": {
     "end_time": "2021-12-04T10:32:23.304400Z",
     "start_time": "2021-12-04T10:32:23.196392Z"
    }
   },
   "outputs": [],
   "source": [
    "game2_boards = copy.deepcopy(boards)\n",
    "loser_board, last_number = get_loser_board(numbers, game2_boards)"
   ]
  },
  {
   "cell_type": "code",
   "execution_count": 8,
   "id": "595a5cc8",
   "metadata": {
    "ExecuteTime": {
     "end_time": "2021-12-04T10:32:23.307175Z",
     "start_time": "2021-12-04T10:32:23.305048Z"
    }
   },
   "outputs": [
    {
     "name": "stdout",
     "output_type": "stream",
     "text": [
      "Solution: The final score is 136 * 46 = 6256\n"
     ]
    }
   ],
   "source": [
    "sum_unmatched = sum(set([number for row in game2_boards[loser_board] for number in row]))\n",
    "res = sum_unmatched * last_number\n",
    "print(f\"Solution: The final score is {sum_unmatched} * {last_number} = {res}\")"
   ]
  }
 ],
 "metadata": {
  "kernelspec": {
   "display_name": "Python 3 (ipykernel)",
   "language": "python",
   "name": "python3"
  },
  "language_info": {
   "codemirror_mode": {
    "name": "ipython",
    "version": 3
   },
   "file_extension": ".py",
   "mimetype": "text/x-python",
   "name": "python",
   "nbconvert_exporter": "python",
   "pygments_lexer": "ipython3",
   "version": "3.9.9"
  }
 },
 "nbformat": 4,
 "nbformat_minor": 5
}
