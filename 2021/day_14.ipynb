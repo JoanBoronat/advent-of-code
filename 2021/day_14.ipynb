{
 "cells": [
  {
   "cell_type": "markdown",
   "id": "02b0cc26",
   "metadata": {},
   "source": [
    "### Day 14: Extended Polymerization\n",
    "\n",
    "The incredible pressures at this depth are starting to put a strain on your submarine. The submarine has polymerization equipment that would produce suitable materials to reinforce the submarine, and the nearby volcanically-active caves should even have the necessary input elements in sufficient quantities.\n",
    "\n",
    "The submarine manual contains instructions for finding the optimal polymer formula; specifically, it offers a polymer template and a list of pair insertion rules (your puzzle input). You just need to work out what polymer would result after repeating the pair insertion process a few times.\n",
    "\n",
    "For example:\n",
    "\n",
    "    NNCB\n",
    "\n",
    "    CH -> B\n",
    "    HH -> N\n",
    "    CB -> H\n",
    "    NH -> C\n",
    "    HB -> C\n",
    "    HC -> B\n",
    "    HN -> C\n",
    "    NN -> C\n",
    "    BH -> H\n",
    "    NC -> B\n",
    "    NB -> B\n",
    "    BN -> B\n",
    "    BB -> N\n",
    "    BC -> B\n",
    "    CC -> N\n",
    "    CN -> C\n",
    "    \n",
    "The first line is the polymer template - this is the starting point of the process.\n",
    "\n",
    "The following section defines the pair insertion rules. A rule like AB -> C means that when elements A and B are immediately adjacent, element C should be inserted between them. These insertions all happen simultaneously.\n",
    "\n",
    "So, starting with the polymer template NNCB, the first step simultaneously considers all three pairs:\n",
    "\n",
    "- The first pair (NN) matches the rule NN -> C, so element C is inserted between the first N and the second N.\n",
    "- The second pair (NC) matches the rule NC -> B, so element B is inserted between the N and the C.\n",
    "- The third pair (CB) matches the rule CB -> H, so element H is inserted between the C and the B.\n",
    "\n",
    "Note that these pairs overlap: the second element of one pair is the first element of the next pair. Also, because all pairs are considered simultaneously, inserted elements are not considered to be part of a pair until the next step.\n",
    "\n",
    "After the first step of this process, the polymer becomes NCNBCHB.\n",
    "\n",
    "Here are the results of a few steps using the above rules:\n",
    "\n",
    "    Template:     NNCB\n",
    "    After step 1: NCNBCHB\n",
    "    After step 2: NBCCNBBBCBHCB\n",
    "    After step 3: NBBBCNCCNBBNBNBBCHBHHBCHB\n",
    "    After step 4: NBBNBNBBCCNBCNCCNBBNBBNBBBNBBNBBCBHCBHHNHCBBCBHCB\n",
    "    \n",
    "This polymer grows quickly. After step 5, it has length 97; After step 10, it has length 3073. After step 10, B occurs 1749 times, C occurs 298 times, H occurs 161 times, and N occurs 865 times; taking the quantity of the most common element (B, 1749) and subtracting the quantity of the least common element (H, 161) produces 1749 - 161 = 1588.\n",
    "\n",
    "Apply 10 steps of pair insertion to the polymer template and find the most and least common elements in the result. What do you get if you take the quantity of the most common element and subtract the quantity of the least common element?"
   ]
  },
  {
   "cell_type": "code",
   "execution_count": 1,
   "id": "0a7b94a1",
   "metadata": {
    "ExecuteTime": {
     "end_time": "2021-12-15T17:58:57.170346Z",
     "start_time": "2021-12-15T17:58:57.164720Z"
    }
   },
   "outputs": [],
   "source": [
    "from collections import defaultdict"
   ]
  },
  {
   "cell_type": "code",
   "execution_count": 2,
   "id": "a33efe14",
   "metadata": {
    "ExecuteTime": {
     "end_time": "2021-12-15T17:58:57.180218Z",
     "start_time": "2021-12-15T17:58:57.174023Z"
    }
   },
   "outputs": [],
   "source": [
    "with open('data/advent_14.txt', 'r') as f:\n",
    "    template, rules_raw = f.read().rstrip('\\n').split('\\n\\n')"
   ]
  },
  {
   "cell_type": "code",
   "execution_count": 3,
   "id": "0faca892",
   "metadata": {
    "ExecuteTime": {
     "end_time": "2021-12-15T17:58:57.186217Z",
     "start_time": "2021-12-15T17:58:57.182167Z"
    }
   },
   "outputs": [],
   "source": [
    "rules = {}\n",
    "for rule in rules_raw.split('\\n'):\n",
    "    rules[rule[:2]] = rule[-1], rule[0] + rule[-1], rule[-1] + rule[1]\n",
    "    \n",
    "elements = defaultdict(int)\n",
    "for element in template:\n",
    "    elements[element] += 1\n",
    "\n",
    "polymer_pairs = [template[i:i+2] for i in range(0, len(template)-1)]    \n",
    "polymer = defaultdict(int)\n",
    "for pair in polymer_pairs:\n",
    "    polymer[pair] += 1"
   ]
  },
  {
   "cell_type": "code",
   "execution_count": 4,
   "id": "ddbb8491",
   "metadata": {
    "ExecuteTime": {
     "end_time": "2021-12-15T17:58:57.191405Z",
     "start_time": "2021-12-15T17:58:57.187885Z"
    }
   },
   "outputs": [],
   "source": [
    "def process(polymer, elements, rules):\n",
    "\n",
    "    new_polymer = polymer.copy()\n",
    "\n",
    "    for pair in list(polymer.keys()):\n",
    "        new_element, new_pair_a, new_pair_b = rules[pair]\n",
    "    \n",
    "        elements[new_element] += polymer[pair]\n",
    "        new_polymer[new_pair_a] += polymer[pair]\n",
    "        new_polymer[new_pair_b] += polymer[pair]\n",
    "        new_polymer[pair] -= polymer[pair]\n",
    "        \n",
    "        if new_polymer[pair] == 0:\n",
    "            new_polymer.pop(pair)\n",
    "        \n",
    "    return new_polymer, elements"
   ]
  },
  {
   "cell_type": "code",
   "execution_count": 8,
   "id": "beae9365",
   "metadata": {
    "ExecuteTime": {
     "end_time": "2021-12-15T17:59:55.172027Z",
     "start_time": "2021-12-15T17:59:55.163498Z"
    }
   },
   "outputs": [],
   "source": [
    "new_polymer = polymer.copy()\n",
    "new_polymer_elements = elements.copy()\n",
    "\n",
    "for step in range(10):\n",
    "    new_polymer, new_polymer_elements = process(new_polymer, new_polymer_elements, rules)\n",
    "\n",
    "elements_count = sorted(new_polymer_elements.values())\n",
    "res = elements_count[-1] - elements_count[0]"
   ]
  },
  {
   "cell_type": "code",
   "execution_count": 9,
   "id": "7ddea9f3",
   "metadata": {
    "ExecuteTime": {
     "end_time": "2021-12-15T17:59:55.488725Z",
     "start_time": "2021-12-15T17:59:55.479941Z"
    }
   },
   "outputs": [
    {
     "name": "stdout",
     "output_type": "stream",
     "text": [
      "Solution: After 10 steps the difference between the most common and the leas common element is 2967.\n"
     ]
    }
   ],
   "source": [
    "print(f\"Solution: After 10 steps the difference between the most common and the leas common element is {res}.\")"
   ]
  },
  {
   "cell_type": "markdown",
   "id": "6caa4b69",
   "metadata": {},
   "source": [
    "### Part Two\n",
    "\n",
    "The resulting polymer isn't nearly strong enough to reinforce the submarine. You'll need to run more steps of the pair insertion process; a total of 40 steps should do it.\n",
    "\n",
    "In the above example, the most common element is B (occurring 2192039569602 times) and the least common element is H (occurring 3849876073 times); subtracting these produces 2188189693529.\n",
    "\n",
    "Apply 40 steps of pair insertion to the polymer template and find the most and least common elements in the result. What do you get if you take the quantity of the most common element and subtract the quantity of the least common element?"
   ]
  },
  {
   "cell_type": "code",
   "execution_count": 6,
   "id": "24d14f3f",
   "metadata": {
    "ExecuteTime": {
     "end_time": "2021-12-15T17:58:57.206609Z",
     "start_time": "2021-12-15T17:58:57.201858Z"
    }
   },
   "outputs": [
    {
     "data": {
      "text/plain": [
       "3692219987038"
      ]
     },
     "execution_count": 6,
     "metadata": {},
     "output_type": "execute_result"
    }
   ],
   "source": [
    "new_polymer = polymer.copy()\n",
    "new_polymer_elements = elements.copy()\n",
    "\n",
    "for step in range(40):\n",
    "    new_polymer, new_polymer_elements = process(new_polymer, new_polymer_elements, rules)\n",
    "\n",
    "elements_count = sorted(new_polymer_elements.values())\n",
    "res = elements_count[-1] - elements_count[0]"
   ]
  },
  {
   "cell_type": "code",
   "execution_count": 10,
   "id": "6eac7cb6",
   "metadata": {
    "ExecuteTime": {
     "end_time": "2021-12-15T18:00:06.466858Z",
     "start_time": "2021-12-15T18:00:06.459541Z"
    }
   },
   "outputs": [
    {
     "name": "stdout",
     "output_type": "stream",
     "text": [
      "Solution: After 40 steps the difference between the most common and the leas common element is 2967.\n"
     ]
    }
   ],
   "source": [
    "print(f\"Solution: After 40 steps the difference between the most common and the leas common element is {res}.\")"
   ]
  }
 ],
 "metadata": {
  "kernelspec": {
   "display_name": "Python 3 (ipykernel)",
   "language": "python",
   "name": "python3"
  },
  "language_info": {
   "codemirror_mode": {
    "name": "ipython",
    "version": 3
   },
   "file_extension": ".py",
   "mimetype": "text/x-python",
   "name": "python",
   "nbconvert_exporter": "python",
   "pygments_lexer": "ipython3",
   "version": "3.9.9"
  }
 },
 "nbformat": 4,
 "nbformat_minor": 5
}
