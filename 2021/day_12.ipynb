{
 "cells": [
  {
   "cell_type": "markdown",
   "id": "ee692ce7",
   "metadata": {},
   "source": [
    "### Day 12: Passage Pathing\n",
    "\n",
    "With your submarine's subterranean subsystems subsisting suboptimally, the only way you're getting out of this cave anytime soon is by finding a path yourself. Not just a path - the only way to know if you've found the best path is to find all of them.\n",
    "\n",
    "Fortunately, the sensors are still mostly working, and so you build a rough map of the remaining caves (your puzzle input). For example:\n",
    "\n",
    "    start-A\n",
    "    start-b\n",
    "    A-c\n",
    "    A-b\n",
    "    b-d\n",
    "    A-end\n",
    "    b-end\n",
    "    \n",
    "This is a list of how all of the caves are connected. You start in the cave named start, and your destination is the cave named end. An entry like b-d means that cave b is connected to cave d - that is, you can move between them.\n",
    "\n",
    "So, the above cave system looks roughly like this:\n",
    "\n",
    "        start\n",
    "        /   \\\n",
    "    c--A-----b--d\n",
    "        \\   /\n",
    "         end\n",
    "         \n",
    "Your goal is to find the number of distinct paths that start at start, end at end, and don't visit small caves more than once. There are two types of caves: big caves (written in uppercase, like A) and small caves (written in lowercase, like b). It would be a waste of time to visit any small cave more than once, but big caves are large enough that it might be worth visiting them multiple times. So, all paths you find should visit small caves at most once, and can visit big caves any number of times.\n",
    "\n",
    "Given these rules, there are 10 paths through this example cave system:\n",
    "\n",
    "    start,A,b,A,c,A,end\n",
    "    start,A,b,A,end\n",
    "    start,A,b,end\n",
    "    start,A,c,A,b,A,end\n",
    "    start,A,c,A,b,end\n",
    "    start,A,c,A,end\n",
    "    start,A,end\n",
    "    start,b,A,c,A,end\n",
    "    start,b,A,end\n",
    "    start,b,end\n",
    "    \n",
    "(Each line in the above list corresponds to a single path; the caves visited by that path are listed in the order they are visited and separated by commas.)\n",
    "\n",
    "Note that in this cave system, cave d is never visited by any path: to do so, cave b would need to be visited twice (once on the way to cave d and a second time when returning from cave d), and since cave b is small, this is not allowed.\n",
    "\n",
    "Here is a slightly larger example:\n",
    "\n",
    "    dc-end\n",
    "    HN-start\n",
    "    start-kj\n",
    "    dc-start\n",
    "    dc-HN\n",
    "    LN-dc\n",
    "    HN-end\n",
    "    kj-sa\n",
    "    kj-HN\n",
    "    kj-dc\n",
    "    \n",
    "The 19 paths through it are as follows:\n",
    "\n",
    "    start,HN,dc,HN,end\n",
    "    start,HN,dc,HN,kj,HN,end\n",
    "    start,HN,dc,end\n",
    "    start,HN,dc,kj,HN,end\n",
    "    start,HN,end\n",
    "    start,HN,kj,HN,dc,HN,end\n",
    "    start,HN,kj,HN,dc,end\n",
    "    start,HN,kj,HN,end\n",
    "    start,HN,kj,dc,HN,end\n",
    "    start,HN,kj,dc,end\n",
    "    start,dc,HN,end\n",
    "    start,dc,HN,kj,HN,end\n",
    "    start,dc,end\n",
    "    start,dc,kj,HN,end\n",
    "    start,kj,HN,dc,HN,end\n",
    "    start,kj,HN,dc,end\n",
    "    start,kj,HN,end\n",
    "    start,kj,dc,HN,end\n",
    "    start,kj,dc,end\n",
    "    \n",
    "Finally, this even larger example has 226 paths through it:\n",
    "\n",
    "    fs-end\n",
    "    he-DX\n",
    "    fs-he\n",
    "    start-DX\n",
    "    pj-DX\n",
    "    end-zg\n",
    "    zg-sl\n",
    "    zg-pj\n",
    "    pj-he\n",
    "    RW-he\n",
    "    fs-DX\n",
    "    pj-RW\n",
    "    zg-RW\n",
    "    start-pj\n",
    "    he-WI\n",
    "    zg-he\n",
    "    pj-fs\n",
    "    start-RW\n",
    "    \n",
    "How many paths through this cave system are there that visit small caves at most once?"
   ]
  },
  {
   "cell_type": "code",
   "execution_count": 1,
   "id": "10bc061a",
   "metadata": {
    "ExecuteTime": {
     "end_time": "2021-12-12T20:39:53.085796Z",
     "start_time": "2021-12-12T20:39:53.079080Z"
    }
   },
   "outputs": [],
   "source": [
    "from collections import defaultdict"
   ]
  },
  {
   "cell_type": "code",
   "execution_count": 2,
   "id": "52cd3700",
   "metadata": {
    "ExecuteTime": {
     "end_time": "2021-12-12T20:39:53.094238Z",
     "start_time": "2021-12-12T20:39:53.090454Z"
    }
   },
   "outputs": [],
   "source": [
    "with open('data/advent_12.txt', 'r') as f:\n",
    "    data = f.read().rstrip('\\n').split('\\n')"
   ]
  },
  {
   "cell_type": "code",
   "execution_count": 3,
   "id": "2c3411e7",
   "metadata": {
    "ExecuteTime": {
     "end_time": "2021-12-12T20:39:53.098703Z",
     "start_time": "2021-12-12T20:39:53.096098Z"
    }
   },
   "outputs": [],
   "source": [
    "graph = defaultdict(list)\n",
    "\n",
    "for edge in data:\n",
    "    start_node, end_node = edge.split('-')\n",
    "    graph[start_node].append(end_node)\n",
    "    graph[end_node].append(start_node)"
   ]
  },
  {
   "cell_type": "code",
   "execution_count": 4,
   "id": "dcaec2b7",
   "metadata": {
    "ExecuteTime": {
     "end_time": "2021-12-12T20:39:53.103751Z",
     "start_time": "2021-12-12T20:39:53.099737Z"
    }
   },
   "outputs": [],
   "source": [
    "def find_paths(graph, start_node, current_path=None, small_cave_exception=None):\n",
    "    paths = set()\n",
    "\n",
    "    current_path = current_path or []\n",
    "    current_path.append(start_node)\n",
    "    \n",
    "    neighbours = None\n",
    "    if start_node == 'end':\n",
    "        paths.add(','.join(current_path))\n",
    "        return paths\n",
    "\n",
    "    elif start_node == small_cave_exception:\n",
    "        small_cave_exception = None\n",
    "        neighbours = graph[start_node]\n",
    "        \n",
    "    elif start_node.islower():\n",
    "        neighbours = graph.pop(start_node)\n",
    "    \n",
    "    else:\n",
    "        neighbours = graph[start_node]\n",
    "        \n",
    "    for node in neighbours:\n",
    "        if node in graph:\n",
    "            sub_paths = find_paths(graph.copy(), node, current_path[:], small_cave_exception)\n",
    "            paths = paths.union(sub_paths)\n",
    "            \n",
    "    return paths"
   ]
  },
  {
   "cell_type": "code",
   "execution_count": 5,
   "id": "c8ef2b86",
   "metadata": {
    "ExecuteTime": {
     "end_time": "2021-12-12T20:39:53.129376Z",
     "start_time": "2021-12-12T20:39:53.105520Z"
    }
   },
   "outputs": [],
   "source": [
    "paths = find_paths(graph.copy(), 'start')"
   ]
  },
  {
   "cell_type": "code",
   "execution_count": 6,
   "id": "5ae43996",
   "metadata": {
    "ExecuteTime": {
     "end_time": "2021-12-12T20:39:53.132568Z",
     "start_time": "2021-12-12T20:39:53.130430Z"
    }
   },
   "outputs": [
    {
     "name": "stdout",
     "output_type": "stream",
     "text": [
      "Solution: There are 4241 paths that lead to the end of the cave system.\n"
     ]
    }
   ],
   "source": [
    "print(f\"Solution: There are {len(paths)} paths that lead to the end of the cave system.\")"
   ]
  },
  {
   "cell_type": "markdown",
   "id": "2f0847f2",
   "metadata": {},
   "source": [
    "<br>\n",
    "\n",
    "### Part Two\n",
    "\n",
    "After reviewing the available paths, you realize you might have time to visit a single small cave twice. Specifically, big caves can be visited any number of times, a single small cave can be visited at most twice, and the remaining small caves can be visited at most once. However, the caves named start and end can only be visited exactly once each: once you leave the start cave, you may not return to it, and once you reach the end cave, the path must end immediately.\n",
    "\n",
    "Now, the 36 possible paths through the first example above are:\n",
    "\n",
    "    start,A,b,A,b,A,c,A,end\n",
    "    start,A,b,A,b,A,end\n",
    "    start,A,b,A,b,end\n",
    "    start,A,b,A,c,A,b,A,end\n",
    "    start,A,b,A,c,A,b,end\n",
    "    start,A,b,A,c,A,c,A,end\n",
    "    start,A,b,A,c,A,end\n",
    "    start,A,b,A,end\n",
    "    start,A,b,d,b,A,c,A,end\n",
    "    start,A,b,d,b,A,end\n",
    "    start,A,b,d,b,end\n",
    "    start,A,b,end\n",
    "    start,A,c,A,b,A,b,A,end\n",
    "    start,A,c,A,b,A,b,end\n",
    "    start,A,c,A,b,A,c,A,end\n",
    "    start,A,c,A,b,A,end\n",
    "    start,A,c,A,b,d,b,A,end\n",
    "    start,A,c,A,b,d,b,end\n",
    "    start,A,c,A,b,end\n",
    "    start,A,c,A,c,A,b,A,end\n",
    "    start,A,c,A,c,A,b,end\n",
    "    start,A,c,A,c,A,end\n",
    "    start,A,c,A,end\n",
    "    start,A,end\n",
    "    start,b,A,b,A,c,A,end\n",
    "    start,b,A,b,A,end\n",
    "    start,b,A,b,end\n",
    "    start,b,A,c,A,b,A,end\n",
    "    start,b,A,c,A,b,end\n",
    "    start,b,A,c,A,c,A,end\n",
    "    start,b,A,c,A,end\n",
    "    start,b,A,end\n",
    "    start,b,d,b,A,c,A,end\n",
    "    start,b,d,b,A,end\n",
    "    start,b,d,b,end\n",
    "    start,b,end\n",
    "    \n",
    "The slightly larger example above now has 103 paths through it, and the even larger example now has 3509 paths through it.\n",
    "\n",
    "Given these new rules, how many paths through this cave system are there?"
   ]
  },
  {
   "cell_type": "code",
   "execution_count": 7,
   "id": "a0ebe732",
   "metadata": {
    "ExecuteTime": {
     "end_time": "2021-12-12T20:39:53.697218Z",
     "start_time": "2021-12-12T20:39:53.133314Z"
    }
   },
   "outputs": [],
   "source": [
    "paths = set()\n",
    "for node in graph.keys():\n",
    "    if node.islower() and node not in ['start', 'end']:\n",
    "        sub_paths = find_paths(graph.copy(), 'start', small_cave_exception=node)\n",
    "        paths = paths.union(sub_paths)"
   ]
  },
  {
   "cell_type": "code",
   "execution_count": 8,
   "id": "6f22de06",
   "metadata": {
    "ExecuteTime": {
     "end_time": "2021-12-12T20:39:53.699586Z",
     "start_time": "2021-12-12T20:39:53.697847Z"
    }
   },
   "outputs": [
    {
     "name": "stdout",
     "output_type": "stream",
     "text": [
      "Solution: There are 122134 paths that lead to the end of the cave system.\n"
     ]
    }
   ],
   "source": [
    "print(f\"Solution: There are {len(paths)} paths that lead to the end of the cave system.\")"
   ]
  }
 ],
 "metadata": {
  "kernelspec": {
   "display_name": "Python 3 (ipykernel)",
   "language": "python",
   "name": "python3"
  },
  "language_info": {
   "codemirror_mode": {
    "name": "ipython",
    "version": 3
   },
   "file_extension": ".py",
   "mimetype": "text/x-python",
   "name": "python",
   "nbconvert_exporter": "python",
   "pygments_lexer": "ipython3",
   "version": "3.9.9"
  }
 },
 "nbformat": 4,
 "nbformat_minor": 5
}
