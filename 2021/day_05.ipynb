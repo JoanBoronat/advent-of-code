{
 "cells": [
  {
   "cell_type": "markdown",
   "id": "6ff05066",
   "metadata": {},
   "source": [
    "### Day 5: Hydrothermal Venture\n",
    "\n",
    "You come across a field of hydrothermal vents on the ocean floor! These vents constantly produce large, opaque clouds, so it would be best to avoid them if possible.\n",
    "\n",
    "They tend to form in lines; the submarine helpfully produces a list of nearby lines of vents (your puzzle input) for you to review. For example:\n",
    "\n",
    "    0,9 -> 5,9\n",
    "    8,0 -> 0,8\n",
    "    9,4 -> 3,4\n",
    "    2,2 -> 2,1\n",
    "    7,0 -> 7,4\n",
    "    6,4 -> 2,0\n",
    "    0,9 -> 2,9\n",
    "    3,4 -> 1,4\n",
    "    0,0 -> 8,8\n",
    "    5,5 -> 8,2\n",
    "    \n",
    "Each line of vents is given as a line segment in the format x1,y1 -> x2,y2 where x1,y1 are the coordinates of one end the line segment and x2,y2 are the coordinates of the other end. These line segments include the points at both ends. In other words:\n",
    "\n",
    "    An entry like 1,1 -> 1,3 covers points 1,1, 1,2, and 1,3.\n",
    "    An entry like 9,7 -> 7,7 covers points 9,7, 8,7, and 7,7.\n",
    "    \n",
    "For now, only consider horizontal and vertical lines: lines where either x1 = x2 or y1 = y2.\n",
    "\n",
    "So, the horizontal and vertical lines from the above list would produce the following diagram:\n",
    "\n",
    "    .......1..\n",
    "    ..1....1..\n",
    "    ..1....1..\n",
    "    .......1..\n",
    "    .112111211\n",
    "    ..........\n",
    "    ..........\n",
    "    ..........\n",
    "    ..........\n",
    "    222111....\n",
    "    \n",
    "In this diagram, the top left corner is 0,0 and the bottom right corner is 9,9. Each position is shown as the number of lines which cover that point or . if no line covers that point. The top-left pair of 1s, for example, comes from 2,2 -> 2,1; the very bottom row is formed by the overlapping lines 0,9 -> 5,9 and 0,9 -> 2,9.\n",
    "\n",
    "To avoid the most dangerous areas, you need to determine the number of points where at least two lines overlap. In the above example, this is anywhere in the diagram with a 2 or larger - a total of 5 points.\n",
    "\n",
    "Consider only horizontal and vertical lines. At how many points do at least two lines overlap?"
   ]
  },
  {
   "cell_type": "code",
   "execution_count": 1,
   "id": "9b3b10b3",
   "metadata": {
    "ExecuteTime": {
     "end_time": "2021-12-05T09:29:52.175078Z",
     "start_time": "2021-12-05T09:29:52.165781Z"
    }
   },
   "outputs": [],
   "source": [
    "from collections import defaultdict"
   ]
  },
  {
   "cell_type": "code",
   "execution_count": 2,
   "id": "9bccded8",
   "metadata": {
    "ExecuteTime": {
     "end_time": "2021-12-05T09:29:52.186542Z",
     "start_time": "2021-12-05T09:29:52.177599Z"
    }
   },
   "outputs": [],
   "source": [
    "with open('data/advent_05.txt', 'r') as f:\n",
    "    data = f.read().rstrip('\\n')\n",
    "\n",
    "lines = []\n",
    "for line in data.split('\\n'):\n",
    "    p1, p2 = line.split(' -> ')\n",
    "    x1, y1 = list(map(int, p1.split(',')))\n",
    "    x2, y2 = list(map(int, p2.split(',')))\n",
    "    lines.append((x1, y1, x2, y2))"
   ]
  },
  {
   "cell_type": "code",
   "execution_count": 3,
   "id": "1d03183d",
   "metadata": {
    "ExecuteTime": {
     "end_time": "2021-12-05T09:29:52.193169Z",
     "start_time": "2021-12-05T09:29:52.188670Z"
    }
   },
   "outputs": [],
   "source": [
    "def create_line(x1, y1, x2, y2):\n",
    "    \n",
    "    # Vertical line\n",
    "    if x1 == x2:\n",
    "        increment = 1 if y1 < y2 else -1\n",
    "        while y1 != y2:\n",
    "            diagram[(x1, y1)] += 1\n",
    "            y1 += increment\n",
    "        diagram[(x1, y1)] += 1\n",
    "    \n",
    "    # Horizontal line\n",
    "    elif y1 == y2:\n",
    "        increment = 1 if x1 < x2 else -1\n",
    "        while x1 != x2:\n",
    "            diagram[(x1, y1)] += 1\n",
    "            x1 += increment\n",
    "        diagram[(x1, y1)] += 1\n",
    "    \n",
    "    # Diagonal at 45º line (Only for part 2)\n",
    "    elif abs(x1 - x2) == abs(y1 - y2):\n",
    "        increment_x = 1 if x1 < x2 else -1\n",
    "        increment_y = 1 if y1 < y2 else -1\n",
    "        while x1 != x2 and y1 != y2:\n",
    "            diagram[(x1, y1)] += 1\n",
    "            x1 += increment_x\n",
    "            y1 += increment_y\n",
    "        diagram[(x1, y1)] += 1"
   ]
  },
  {
   "cell_type": "code",
   "execution_count": 4,
   "id": "a0cfd778",
   "metadata": {
    "ExecuteTime": {
     "end_time": "2021-12-05T09:29:52.247077Z",
     "start_time": "2021-12-05T09:29:52.194391Z"
    }
   },
   "outputs": [],
   "source": [
    "diagram = defaultdict(lambda: 0)\n",
    "\n",
    "for x1, y1, x2, y2 in lines:\n",
    "    if x1 == x2 or y1 == y2:\n",
    "        create_line(x1, y1, x2, y2)\n",
    "\n",
    "res = len([i for i in diagram.values() if i >= 2])"
   ]
  },
  {
   "cell_type": "code",
   "execution_count": 5,
   "id": "60287813",
   "metadata": {
    "ExecuteTime": {
     "end_time": "2021-12-05T09:29:52.250495Z",
     "start_time": "2021-12-05T09:29:52.248623Z"
    }
   },
   "outputs": [
    {
     "name": "stdout",
     "output_type": "stream",
     "text": [
      "Solution: The number of points overlapped is 6564.\n"
     ]
    }
   ],
   "source": [
    "print(f\"Solution: The number of points overlapped is {res}.\")"
   ]
  },
  {
   "cell_type": "markdown",
   "id": "2ae3f1c6",
   "metadata": {},
   "source": [
    "### Part Two\n",
    "\n",
    "Unfortunately, considering only horizontal and vertical lines doesn't give you the full picture; you need to also consider diagonal lines.\n",
    "\n",
    "Because of the limits of the hydrothermal vent mapping system, the lines in your list will only ever be horizontal, vertical, or a diagonal line at exactly 45 degrees. In other words:\n",
    "\n",
    "    An entry like 1,1 -> 3,3 covers points 1,1, 2,2, and 3,3.\n",
    "    An entry like 9,7 -> 7,9 covers points 9,7, 8,8, and 7,9.\n",
    "    \n",
    "Considering all lines from the above example would now produce the following diagram:\n",
    "\n",
    "    1.1....11.\n",
    "    .111...2..\n",
    "    ..2.1.111.\n",
    "    ...1.2.2..\n",
    "    .112313211\n",
    "    ...1.2....\n",
    "    ..1...1...\n",
    "    .1.....1..\n",
    "    1.......1.\n",
    "    222111....\n",
    "    \n",
    "You still need to determine the number of points where at least two lines overlap. In the above example, this is still anywhere in the diagram with a 2 or larger - now a total of 12 points.\n",
    "\n",
    "Consider all of the lines. At how many points do at least two lines overlap?"
   ]
  },
  {
   "cell_type": "code",
   "execution_count": 6,
   "id": "c8440e62",
   "metadata": {
    "ExecuteTime": {
     "end_time": "2021-12-05T09:29:52.303537Z",
     "start_time": "2021-12-05T09:29:52.251147Z"
    }
   },
   "outputs": [],
   "source": [
    "diagram = defaultdict(lambda: 0)\n",
    "\n",
    "for x1, y1, x2, y2 in lines:\n",
    "    create_line(x1, y1, x2, y2)\n",
    "        \n",
    "res = len([i for i in diagram.values() if i >= 2])"
   ]
  },
  {
   "cell_type": "code",
   "execution_count": 7,
   "id": "8f789390",
   "metadata": {
    "ExecuteTime": {
     "end_time": "2021-12-05T09:29:52.305935Z",
     "start_time": "2021-12-05T09:29:52.304216Z"
    }
   },
   "outputs": [
    {
     "name": "stdout",
     "output_type": "stream",
     "text": [
      "Solution: The number of points overlapped is 19172.\n"
     ]
    }
   ],
   "source": [
    "print(f\"Solution: The number of points overlapped is {res}.\")"
   ]
  }
 ],
 "metadata": {
  "kernelspec": {
   "display_name": "Python 3 (ipykernel)",
   "language": "python",
   "name": "python3"
  },
  "language_info": {
   "codemirror_mode": {
    "name": "ipython",
    "version": 3
   },
   "file_extension": ".py",
   "mimetype": "text/x-python",
   "name": "python",
   "nbconvert_exporter": "python",
   "pygments_lexer": "ipython3",
   "version": "3.9.9"
  }
 },
 "nbformat": 4,
 "nbformat_minor": 5
}
