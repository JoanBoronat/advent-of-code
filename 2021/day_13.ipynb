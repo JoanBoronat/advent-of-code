{
 "cells": [
  {
   "cell_type": "markdown",
   "id": "74d12cc3",
   "metadata": {},
   "source": [
    "### Day 13: Transparent Origami\n",
    "\n",
    "You reach another volcanically active part of the cave. It would be nice if you could do some kind of thermal imaging so you could tell ahead of time which caves are too hot to safely enter.\n",
    "\n",
    "Fortunately, the submarine seems to be equipped with a thermal camera! When you activate it, you are greeted with:\n",
    "\n",
    "Congratulations on your purchase! To activate this infrared thermal imaging\n",
    "camera system, please enter the code found on page 1 of the manual.\n",
    "Apparently, the Elves have never used this feature. To your surprise, you manage to find the manual; as you go to open it, page 1 falls out. It's a large sheet of transparent paper! The transparent paper is marked with random dots and includes instructions on how to fold it up (your puzzle input). For example:\n",
    "\n",
    "    6,10\n",
    "    0,14\n",
    "    9,10\n",
    "    0,3\n",
    "    10,4\n",
    "    4,11\n",
    "    6,0\n",
    "    6,12\n",
    "    4,1\n",
    "    0,13\n",
    "    10,12\n",
    "    3,4\n",
    "    3,0\n",
    "    8,4\n",
    "    1,10\n",
    "    2,14\n",
    "    8,10\n",
    "    9,0\n",
    "\n",
    "    fold along y=7\n",
    "    fold along x=5\n",
    "    \n",
    "The first section is a list of dots on the transparent paper. 0,0 represents the top-left coordinate. The first value, x, increases to the right. The second value, y, increases downward. So, the coordinate 3,0 is to the right of 0,0, and the coordinate 0,7 is below 0,0. The coordinates in this example form the following pattern, where # is a dot on the paper and . is an empty, unmarked position:\n",
    "\n",
    "    ...#..#..#.\n",
    "    ....#......\n",
    "    ...........\n",
    "    #..........\n",
    "    ...#....#.#\n",
    "    ...........\n",
    "    ...........\n",
    "    ...........\n",
    "    ...........\n",
    "    ...........\n",
    "    .#....#.##.\n",
    "    ....#......\n",
    "    ......#...#\n",
    "    #..........\n",
    "    #.#........\n",
    "    \n",
    "Then, there is a list of fold instructions. Each instruction indicates a line on the transparent paper and wants you to fold the paper up (for horizontal y=... lines) or left (for vertical x=... lines). In this example, the first fold instruction is fold along y=7, which designates the line formed by all of the positions where y is 7 (marked here with -):\n",
    "\n",
    "    ...#..#..#.\n",
    "    ....#......\n",
    "    ...........\n",
    "    #..........\n",
    "    ...#....#.#\n",
    "    ...........\n",
    "    ...........\n",
    "    -----------\n",
    "    ...........\n",
    "    ...........\n",
    "    .#....#.##.\n",
    "    ....#......\n",
    "    ......#...#\n",
    "    #..........\n",
    "    #.#........\n",
    "    \n",
    "Because this is a horizontal line, fold the bottom half up. Some of the dots might end up overlapping after the fold is complete, but dots will never appear exactly on a fold line. The result of doing this fold looks like this:\n",
    "\n",
    "    #.##..#..#.\n",
    "    #...#......\n",
    "    ......#...#\n",
    "    #...#......\n",
    "    .#.#..#.###\n",
    "    ...........\n",
    "    ...........\n",
    "    \n",
    "Now, only 17 dots are visible.\n",
    "\n",
    "Notice, for example, the two dots in the bottom left corner before the transparent paper is folded; after the fold is complete, those dots appear in the top left corner (at 0,0 and 0,1). Because the paper is transparent, the dot just below them in the result (at 0,3) remains visible, as it can be seen through the transparent paper.\n",
    "\n",
    "Also notice that some dots can end up overlapping; in this case, the dots merge together and become a single dot.\n",
    "\n",
    "The second fold instruction is fold along x=5, which indicates this line:\n",
    "\n",
    "    #.##.|#..#.\n",
    "    #...#|.....\n",
    "    .....|#...#\n",
    "    #...#|.....\n",
    "    .#.#.|#.###\n",
    "    .....|.....\n",
    "    .....|.....\n",
    "    \n",
    "Because this is a vertical line, fold left:\n",
    "\n",
    "    #####\n",
    "    #...#\n",
    "    #...#\n",
    "    #...#\n",
    "    #####\n",
    "    .....\n",
    "    .....\n",
    "    \n",
    "The instructions made a square!\n",
    "\n",
    "The transparent paper is pretty big, so for now, focus on just completing the first fold. After the first fold in the example above, 17 dots are visible - dots that end up overlapping after the fold is completed count as a single dot.\n",
    "\n",
    "How many dots are visible after completing just the first fold instruction on your transparent paper?\n",
    "\n"
   ]
  },
  {
   "cell_type": "code",
   "execution_count": 1,
   "id": "8426e88b",
   "metadata": {
    "ExecuteTime": {
     "end_time": "2021-12-13T13:05:10.811510Z",
     "start_time": "2021-12-13T13:05:10.804019Z"
    }
   },
   "outputs": [],
   "source": [
    "with open('data/advent_13.txt', 'r') as f:\n",
    "    dots, raw_instructions = f.read().rstrip('\\n').split('\\n\\n')"
   ]
  },
  {
   "cell_type": "code",
   "execution_count": 2,
   "id": "dcc69232",
   "metadata": {
    "ExecuteTime": {
     "end_time": "2021-12-13T13:05:10.820388Z",
     "start_time": "2021-12-13T13:05:10.814344Z"
    }
   },
   "outputs": [],
   "source": [
    "paper = set()\n",
    "for dot in dots.split('\\n'):\n",
    "    x, y = dot.split(',')\n",
    "    paper.add((int(x), int(y)))\n",
    "    \n",
    "    \n",
    "instructions = []\n",
    "for instruction in raw_instructions.split('\\n'):\n",
    "    value = int(instruction.split('=')[1])\n",
    "    if instruction.startswith('fold along x='):\n",
    "        instructions.append((value, None))\n",
    "    else:\n",
    "        instructions.append((None, value))"
   ]
  },
  {
   "cell_type": "code",
   "execution_count": 3,
   "id": "d68c2b33",
   "metadata": {
    "ExecuteTime": {
     "end_time": "2021-12-13T13:05:10.825015Z",
     "start_time": "2021-12-13T13:05:10.821879Z"
    }
   },
   "outputs": [],
   "source": [
    "def fold(paper, instruction):\n",
    "    fold_x, fold_y = instruction\n",
    "\n",
    "    for x, y in paper.copy():\n",
    "\n",
    "        if fold_x is not None and x > fold_x:\n",
    "            paper.add((fold_x + (fold_x - x), y))\n",
    "            paper.remove((x, y))\n",
    "\n",
    "        elif fold_y is not None and y > fold_y:\n",
    "            paper.add((x, fold_y + (fold_y - y)))\n",
    "            paper.remove((x, y))\n",
    "    \n",
    "    return paper"
   ]
  },
  {
   "cell_type": "code",
   "execution_count": 4,
   "id": "43d441f0",
   "metadata": {
    "ExecuteTime": {
     "end_time": "2021-12-13T13:05:10.827956Z",
     "start_time": "2021-12-13T13:05:10.826099Z"
    }
   },
   "outputs": [],
   "source": [
    "folded_paper = fold(paper.copy(), instructions[0])"
   ]
  },
  {
   "cell_type": "code",
   "execution_count": 5,
   "id": "0c18feeb",
   "metadata": {
    "ExecuteTime": {
     "end_time": "2021-12-13T13:05:10.832112Z",
     "start_time": "2021-12-13T13:05:10.829741Z"
    }
   },
   "outputs": [
    {
     "name": "stdout",
     "output_type": "stream",
     "text": [
      "Solution: The number of dots after the first fold is 788.\n"
     ]
    }
   ],
   "source": [
    "print(f\"Solution: The number of dots after the first fold is {len(folded_paper)}.\")"
   ]
  },
  {
   "cell_type": "markdown",
   "id": "b9c38aae",
   "metadata": {},
   "source": [
    "<br>\n",
    "\n",
    "### Part Two\n",
    "\n",
    "Finish folding the transparent paper according to the instructions. The manual says the code is always eight capital letters.\n",
    "\n",
    "What code do you use to activate the infrared thermal imaging camera system?"
   ]
  },
  {
   "cell_type": "code",
   "execution_count": 6,
   "id": "98ac837a",
   "metadata": {
    "ExecuteTime": {
     "end_time": "2021-12-13T13:05:10.837036Z",
     "start_time": "2021-12-13T13:05:10.833667Z"
    }
   },
   "outputs": [],
   "source": [
    "folded_paper = paper.copy()\n",
    "for instruction in instructions:\n",
    "    folded_paper = fold(folded_paper, instruction)"
   ]
  },
  {
   "cell_type": "code",
   "execution_count": 7,
   "id": "91b0ce81",
   "metadata": {
    "ExecuteTime": {
     "end_time": "2021-12-13T13:05:10.840625Z",
     "start_time": "2021-12-13T13:05:10.837895Z"
    }
   },
   "outputs": [],
   "source": [
    "max_x, max_y = max(folded_paper)\n",
    "\n",
    "solution = ''\n",
    "for y in range(max_y + 1):\n",
    "    for x in range(max_x + 1):\n",
    "        solution += '#' if (x, y) in folded_paper else ' '\n",
    "    solution += '\\n'"
   ]
  },
  {
   "cell_type": "code",
   "execution_count": 8,
   "id": "adb99af0",
   "metadata": {
    "ExecuteTime": {
     "end_time": "2021-12-13T13:05:10.844141Z",
     "start_time": "2021-12-13T13:05:10.841801Z"
    }
   },
   "outputs": [
    {
     "name": "stdout",
     "output_type": "stream",
     "text": [
      "Solution: The code to activate the camera system is:\n",
      "#  #   ## ###  #  # #### #  # ###   ## \n",
      "# #     # #  # # #  #    #  # #  # #  #\n",
      "##      # ###  ##   ###  #  # ###  #   \n",
      "# #     # #  # # #  #    #  # #  # # ##\n",
      "# #  #  # #  # # #  #    #  # #  # #  #\n",
      "#  #  ##  ###  #  # ####  ##  ###   ###\n",
      "\n"
     ]
    }
   ],
   "source": [
    "print(\"Solution: The code to activate the camera system is:\")\n",
    "\n",
    "print(solution)"
   ]
  }
 ],
 "metadata": {
  "kernelspec": {
   "display_name": "Python 3 (ipykernel)",
   "language": "python",
   "name": "python3"
  },
  "language_info": {
   "codemirror_mode": {
    "name": "ipython",
    "version": 3
   },
   "file_extension": ".py",
   "mimetype": "text/x-python",
   "name": "python",
   "nbconvert_exporter": "python",
   "pygments_lexer": "ipython3",
   "version": "3.9.9"
  }
 },
 "nbformat": 4,
 "nbformat_minor": 5
}
