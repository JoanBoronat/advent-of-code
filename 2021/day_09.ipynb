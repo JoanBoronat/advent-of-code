{
 "cells": [
  {
   "cell_type": "markdown",
   "id": "dbfde99d",
   "metadata": {},
   "source": [
    "### Day 9: Smoke Basin\n",
    "\n",
    "These caves seem to be lava tubes. Parts are even still volcanically active; small hydrothermal vents release smoke into the caves that slowly settles like rain.\n",
    "\n",
    "If you can model how the smoke flows through the caves, you might be able to avoid it and be that much safer. The submarine generates a heightmap of the floor of the nearby caves for you (your puzzle input).\n",
    "\n",
    "Smoke flows to the lowest point of the area it's in. For example, consider the following heightmap:\n",
    "\n",
    "    2199943210\n",
    "    3987894921\n",
    "    9856789892\n",
    "    8767896789\n",
    "    9899965678\n",
    "    \n",
    "Each number corresponds to the height of a particular location, where 9 is the highest and 0 is the lowest a location can be.\n",
    "\n",
    "Your first goal is to find the low points - the locations that are lower than any of its adjacent locations. Most locations have four adjacent locations (up, down, left, and right); locations on the edge or corner of the map have three or two adjacent locations, respectively. (Diagonal locations do not count as adjacent.)\n",
    "\n",
    "In the above example, there are four low points: two are in the first row (a 1 and a 0), one is in the third row (a 5), and one is in the bottom row (also a 5). All other locations on the heightmap have some lower adjacent location, and so are not low points.\n",
    "\n",
    "The risk level of a low point is 1 plus its height. In the above example, the risk levels of the low points are 2, 1, 6, and 6. The sum of the risk levels of all low points in the heightmap is therefore 15.\n",
    "\n",
    "Find all of the low points on your heightmap. What is the sum of the risk levels of all low points on your heightmap?"
   ]
  },
  {
   "cell_type": "code",
   "execution_count": 1,
   "id": "c17b42b3",
   "metadata": {
    "ExecuteTime": {
     "end_time": "2021-12-09T13:06:26.630406Z",
     "start_time": "2021-12-09T13:06:26.622142Z"
    }
   },
   "outputs": [],
   "source": [
    "with open('data/advent_09.txt', 'r') as f:\n",
    "    data = f.read().rstrip('\\n').split('\\n')"
   ]
  },
  {
   "cell_type": "code",
   "execution_count": 2,
   "id": "1b66be35",
   "metadata": {
    "ExecuteTime": {
     "end_time": "2021-12-09T13:06:26.644064Z",
     "start_time": "2021-12-09T13:06:26.636690Z"
    }
   },
   "outputs": [],
   "source": [
    "heightmap = {}\n",
    "for y, row in enumerate(data):\n",
    "    for x, height in enumerate(row):\n",
    "        heightmap[(x, y)] = int(height)"
   ]
  },
  {
   "cell_type": "code",
   "execution_count": 3,
   "id": "4f26e658",
   "metadata": {
    "ExecuteTime": {
     "end_time": "2021-12-09T13:06:26.647459Z",
     "start_time": "2021-12-09T13:06:26.644844Z"
    }
   },
   "outputs": [],
   "source": [
    "def is_lowpoint(x, y):\n",
    "    is_lowpoint = True\n",
    "    for incr_x, incr_y in [(-1, 0), (1, 0), (0, -1), (0, 1)]:\n",
    "        adjacent = (x + incr_x, y + incr_y)\n",
    "        if adjacent in heightmap and height >= heightmap[adjacent]:\n",
    "            is_lowpoint = False\n",
    "            break\n",
    "            \n",
    "    return is_lowpoint"
   ]
  },
  {
   "cell_type": "code",
   "execution_count": 4,
   "id": "635df19d",
   "metadata": {
    "ExecuteTime": {
     "end_time": "2021-12-09T13:06:26.656533Z",
     "start_time": "2021-12-09T13:06:26.648780Z"
    }
   },
   "outputs": [],
   "source": [
    "risk = 0\n",
    "low_points = []\n",
    "for (x, y), height in heightmap.items():\n",
    "    if is_lowpoint(x, y):\n",
    "        risk += height + 1\n",
    "        low_points.append((x, y))"
   ]
  },
  {
   "cell_type": "code",
   "execution_count": 5,
   "id": "a5ab1042",
   "metadata": {
    "ExecuteTime": {
     "end_time": "2021-12-09T13:06:26.660208Z",
     "start_time": "2021-12-09T13:06:26.658014Z"
    }
   },
   "outputs": [
    {
     "name": "stdout",
     "output_type": "stream",
     "text": [
      "Solution: The sum of the risk levels is 560.\n"
     ]
    }
   ],
   "source": [
    "print(f\"Solution: The sum of the risk levels is {risk}.\")"
   ]
  },
  {
   "cell_type": "markdown",
   "id": "fb2b84a0",
   "metadata": {},
   "source": [
    "### Part Two\n",
    "\n",
    "Next, you need to find the largest basins so you know what areas are most important to avoid.\n",
    "\n",
    "A basin is all locations that eventually flow downward to a single low point. Therefore, every low point has a basin, although some basins are very small. Locations of height 9 do not count as being in any basin, and all other locations will always be part of exactly one basin.\n",
    "\n",
    "The size of a basin is the number of locations within the basin, including the low point. The example above has four basins.\n",
    "\n",
    "The top-left basin, size 3:\n",
    "\n",
    "    2199943210\n",
    "    3987894921\n",
    "    9856789892\n",
    "    8767896789\n",
    "    9899965678\n",
    "    \n",
    "The top-right basin, size 9:\n",
    "\n",
    "    2199943210\n",
    "    3987894921\n",
    "    9856789892\n",
    "    8767896789\n",
    "    9899965678\n",
    "    \n",
    "The middle basin, size 14:\n",
    "\n",
    "    2199943210\n",
    "    3987894921\n",
    "    9856789892\n",
    "    8767896789\n",
    "    9899965678\n",
    "    \n",
    "The bottom-right basin, size 9:\n",
    "\n",
    "    2199943210\n",
    "    3987894921\n",
    "    9856789892\n",
    "    8767896789\n",
    "    9899965678\n",
    "    \n",
    "Find the three largest basins and multiply their sizes together. In the above example, this is 9 * 14 * 9 = 1134.\n",
    "\n",
    "What do you get if you multiply together the sizes of the three largest basins?\n",
    "\n"
   ]
  },
  {
   "cell_type": "code",
   "execution_count": 6,
   "id": "b4dac003",
   "metadata": {
    "ExecuteTime": {
     "end_time": "2021-12-09T13:06:26.664323Z",
     "start_time": "2021-12-09T13:06:26.661072Z"
    }
   },
   "outputs": [],
   "source": [
    "def visit_adjacents(point, visited):\n",
    "    count = 0\n",
    "    x, y = point\n",
    "    for incr_x, incr_y in [(-1, 0), (1, 0), (0, -1), (0, 1)]:\n",
    "        adjacent = (x + incr_x, y + incr_y)\n",
    "\n",
    "        if (adjacent not in visited\n",
    "            and adjacent in heightmap \n",
    "            and heightmap[adjacent] != 9\n",
    "            and heightmap[point] < heightmap[adjacent]):\n",
    "            \n",
    "            count += 1 + visit_adjacents(adjacent, visited)\n",
    "            visited.add(adjacent)\n",
    "    \n",
    "    return count"
   ]
  },
  {
   "cell_type": "code",
   "execution_count": 7,
   "id": "3548095d",
   "metadata": {
    "ExecuteTime": {
     "end_time": "2021-12-09T13:06:26.676547Z",
     "start_time": "2021-12-09T13:06:26.665415Z"
    }
   },
   "outputs": [],
   "source": [
    "basins = []\n",
    "for low_point in low_points:\n",
    "    visited = set([low_point])\n",
    "    basins.append(1 + visit_adjacents(low_point, visited))\n",
    "basins = sorted(basins, reverse=True)"
   ]
  },
  {
   "cell_type": "code",
   "execution_count": 8,
   "id": "8db48f33",
   "metadata": {
    "ExecuteTime": {
     "end_time": "2021-12-09T13:06:26.679751Z",
     "start_time": "2021-12-09T13:06:26.677601Z"
    }
   },
   "outputs": [
    {
     "name": "stdout",
     "output_type": "stream",
     "text": [
      "Solution: The multiplication of the three largest basins is 959136.\n"
     ]
    }
   ],
   "source": [
    "print(f\"Solution: The multiplication of the three largest basins is {basins[0] * basins[1] * basins[2]}.\")"
   ]
  }
 ],
 "metadata": {
  "kernelspec": {
   "display_name": "Python 3 (ipykernel)",
   "language": "python",
   "name": "python3"
  },
  "language_info": {
   "codemirror_mode": {
    "name": "ipython",
    "version": 3
   },
   "file_extension": ".py",
   "mimetype": "text/x-python",
   "name": "python",
   "nbconvert_exporter": "python",
   "pygments_lexer": "ipython3",
   "version": "3.9.9"
  }
 },
 "nbformat": 4,
 "nbformat_minor": 5
}
