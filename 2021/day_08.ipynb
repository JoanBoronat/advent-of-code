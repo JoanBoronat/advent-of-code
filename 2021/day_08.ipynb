{
 "cells": [
  {
   "cell_type": "markdown",
   "id": "4c059535",
   "metadata": {},
   "source": [
    "### Day 8: Seven Segment Search\n",
    "\n",
    "You barely reach the safety of the cave when the whale smashes into the cave mouth, collapsing it. Sensors indicate another exit to this cave at a much greater depth, so you have no choice but to press on.\n",
    "\n",
    "As your submarine slowly makes its way through the cave system, you notice that the four-digit seven-segment displays in your submarine are malfunctioning; they must have been damaged during the escape. You'll be in a lot of trouble without them, so you'd better figure out what's wrong.\n",
    "\n",
    "Each digit of a seven-segment display is rendered by turning on or off any of seven segments named a through g:\n",
    "\n",
    "      0:      1:      2:      3:      4:\n",
    "     aaaa    ....    aaaa    aaaa    ....\n",
    "    b    c  .    c  .    c  .    c  b    c\n",
    "    b    c  .    c  .    c  .    c  b    c\n",
    "     ....    ....    dddd    dddd    dddd\n",
    "    e    f  .    f  e    .  .    f  .    f\n",
    "    e    f  .    f  e    .  .    f  .    f\n",
    "     gggg    ....    gggg    gggg    ....\n",
    "\n",
    "      5:      6:      7:      8:      9:\n",
    "     aaaa    aaaa    aaaa    aaaa    aaaa\n",
    "    b    .  b    .  .    c  b    c  b    c\n",
    "    b    .  b    .  .    c  b    c  b    c\n",
    "     dddd    dddd    ....    dddd    dddd\n",
    "    .    f  e    f  .    f  e    f  .    f\n",
    "    .    f  e    f  .    f  e    f  .    f\n",
    "     gggg    gggg    ....    gggg    gggg\n",
    "     \n",
    "So, to render a 1, only segments c and f would be turned on; the rest would be off. To render a 7, only segments a, c, and f would be turned on.\n",
    "\n",
    "The problem is that the signals which control the segments have been mixed up on each display. The submarine is still trying to display numbers by producing output on signal wires a through g, but those wires are connected to segments randomly. Worse, the wire/segment connections are mixed up separately for each four-digit display! (All of the digits within a display use the same connections, though.)\n",
    "\n",
    "So, you might know that only signal wires b and g are turned on, but that doesn't mean segments b and g are turned on: the only digit that uses two segments is 1, so it must mean segments c and f are meant to be on. With just that information, you still can't tell which wire (b/g) goes to which segment (c/f). For that, you'll need to collect more information.\n",
    "\n",
    "For each display, you watch the changing signals for a while, make a note of all ten unique signal patterns you see, and then write down a single four digit output value (your puzzle input). Using the signal patterns, you should be able to work out which pattern corresponds to which digit.\n",
    "\n",
    "For example, here is what you might see in a single entry in your notes:\n",
    "\n",
    "    acedgfb cdfbe gcdfa fbcad dab cefabd cdfgeb eafb cagedb ab | cdfeb fcadb cdfeb cdbaf\n",
    "    \n",
    "Each entry consists of ten unique signal patterns, a | delimiter, and finally the four digit output value. Within an entry, the same wire/segment connections are used (but you don't know what the connections actually are). The unique signal patterns correspond to the ten different ways the submarine tries to render a digit using the current wire/segment connections. Because 7 is the only digit that uses three segments, dab in the above example means that to render a 7, signal lines d, a, and b are on. Because 4 is the only digit that uses four segments, eafb means that to render a 4, signal lines e, a, f, and b are on.\n",
    "\n",
    "Using this information, you should be able to work out which combination of signal wires corresponds to each of the ten digits. Then, you can decode the four digit output value. Unfortunately, in the above example, all of the digits in the output value (cdfeb fcadb cdfeb cdbaf) use five segments and are more difficult to deduce.\n",
    "\n",
    "For now, focus on the easy digits. Consider this larger example:\n",
    "\n",
    "    be cfbegad cbdgef fgaecd cgeb fdcge agebfd fecdb fabcd edb | fdgacbe cefdb cefbgd gcbe\n",
    "    edbfga begcd cbg gc gcadebf fbgde acbgfd abcde gfcbed gfec | fcgedb cgb dgebacf gc\n",
    "    fgaebd cg bdaec gdafb agbcfd gdcbef bgcad gfac gcb cdgabef | cg cg fdcagb cbg\n",
    "    fbegcd cbd adcefb dageb afcb bc aefdc ecdab fgdeca fcdbega | efabcd cedba gadfec cb\n",
    "    aecbfdg fbg gf bafeg dbefa fcge gcbea fcaegb dgceab fcbdga | gecf egdcabf bgf bfgea\n",
    "    fgeab ca afcebg bdacfeg cfaedg gcfdb baec bfadeg bafgc acf | gebdcfa ecba ca fadegcb\n",
    "    dbcfg fgd bdegcaf fgec aegbdf ecdfab fbedc dacgb gdcebf gf | cefg dcbef fcge gbcadfe\n",
    "    bdfegc cbegaf gecbf dfcage bdacg ed bedf ced adcbefg gebcd | ed bcgafe cdgba cbgef\n",
    "    egadfb cdbfeg cegd fecab cgb gbdefca cg fgcdab egfdb bfceg | gbdfcae bgc cg cgb\n",
    "    gcafb gcf dcaebfg ecagb gf abcdeg gaef cafbge fdbac fegbdc | fgae cfgab fg bagce\n",
    "    \n",
    "Because the digits 1, 4, 7, and 8 each use a unique number of segments, you should be able to tell which combinations of signals correspond to those digits. Counting only digits in the output values (the part after | on each line), in the above example, there are 26 instances of digits that use a unique number of segments.\n",
    "\n",
    "In the output values, how many times do digits 1, 4, 7, or 8 appear?"
   ]
  },
  {
   "cell_type": "code",
   "execution_count": 1,
   "id": "6b1d016c",
   "metadata": {
    "ExecuteTime": {
     "end_time": "2021-12-09T00:27:47.216714Z",
     "start_time": "2021-12-09T00:27:47.208166Z"
    }
   },
   "outputs": [],
   "source": [
    "from collections import defaultdict"
   ]
  },
  {
   "cell_type": "code",
   "execution_count": 2,
   "id": "64c89c83",
   "metadata": {
    "ExecuteTime": {
     "end_time": "2021-12-09T00:27:47.227482Z",
     "start_time": "2021-12-09T00:27:47.221151Z"
    }
   },
   "outputs": [],
   "source": [
    "with open('data/advent_08.txt', 'r') as f:\n",
    "    data = f.read().rstrip('\\n').split('\\n')\n",
    "\n",
    "entries = []\n",
    "for line in data:\n",
    "    signal, output = list(map(lambda x: x.split(' '), line.split(' | ')))\n",
    "    entries.append((signal, output))"
   ]
  },
  {
   "cell_type": "code",
   "execution_count": 3,
   "id": "8438cf64",
   "metadata": {
    "ExecuteTime": {
     "end_time": "2021-12-09T00:27:47.231961Z",
     "start_time": "2021-12-09T00:27:47.229173Z"
    }
   },
   "outputs": [],
   "source": [
    "count = 0\n",
    "for signal, output in entries:\n",
    "    for digit in output:\n",
    "        if len(digit) in [2, 4, 3, 7]:\n",
    "            count += 1"
   ]
  },
  {
   "cell_type": "code",
   "execution_count": 4,
   "id": "f9725e73",
   "metadata": {
    "ExecuteTime": {
     "end_time": "2021-12-09T00:27:47.235334Z",
     "start_time": "2021-12-09T00:27:47.233036Z"
    }
   },
   "outputs": [
    {
     "name": "stdout",
     "output_type": "stream",
     "text": [
      "Solution: The times digits 1, 4, 7, 8 appear is 543.\n"
     ]
    }
   ],
   "source": [
    "print(f\"Solution: The times digits 1, 4, 7, 8 appear is {count}.\")"
   ]
  },
  {
   "cell_type": "markdown",
   "id": "5a251764",
   "metadata": {},
   "source": [
    "<br> \n",
    "\n",
    "### Part Two\n",
    "\n",
    "Through a little deduction, you should now be able to determine the remaining digits. Consider again the first example above:\n",
    "\n",
    "    acedgfb cdfbe gcdfa fbcad dab cefabd cdfgeb eafb cagedb ab | cdfeb fcadb cdfeb cdbaf\n",
    "    \n",
    "After some careful analysis, the mapping between signal wires and segments only make sense in the following configuration:\n",
    "\n",
    "     dddd\n",
    "    e    a\n",
    "    e    a\n",
    "     ffff\n",
    "    g    b\n",
    "    g    b\n",
    "     cccc\n",
    "     \n",
    "So, the unique signal patterns would correspond to the following digits:\n",
    "\n",
    "    acedgfb: 8\n",
    "    cdfbe: 5\n",
    "    gcdfa: 2\n",
    "    fbcad: 3\n",
    "    dab: 7\n",
    "    cefabd: 9\n",
    "    cdfgeb: 6\n",
    "    eafb: 4\n",
    "    cagedb: 0\n",
    "    ab: 1\n",
    "    \n",
    "Then, the four digits of the output value can be decoded:\n",
    "\n",
    "    cdfeb: 5\n",
    "    fcadb: 3\n",
    "    cdfeb: 5\n",
    "    cdbaf: 3\n",
    "    \n",
    "Therefore, the output value for this entry is 5353.\n",
    "\n",
    "Following this same process for each entry in the second, larger example above, the output value of each entry can be determined:\n",
    "\n",
    "    fdgacbe cefdb cefbgd gcbe: 8394\n",
    "    fcgedb cgb dgebacf gc: 9781\n",
    "    cg cg fdcagb cbg: 1197\n",
    "    efabcd cedba gadfec cb: 9361\n",
    "    gecf egdcabf bgf bfgea: 4873\n",
    "    gebdcfa ecba ca fadegcb: 8418\n",
    "    cefg dcbef fcge gbcadfe: 4548\n",
    "    ed bcgafe cdgba cbgef: 1625\n",
    "    gbdfcae bgc cg cgb: 8717\n",
    "    fgae cfgab fg bagce: 4315\n",
    "    \n",
    "Adding all of the output values in this larger example produces 61229.\n",
    "\n",
    "For each entry, determine all of the wire/segment connections and decode the four-digit output values. What do you get if you add up all of the output values?"
   ]
  },
  {
   "cell_type": "code",
   "execution_count": 5,
   "id": "2ef4e63d",
   "metadata": {
    "ExecuteTime": {
     "end_time": "2021-12-09T00:27:47.241295Z",
     "start_time": "2021-12-09T00:27:47.237383Z"
    }
   },
   "outputs": [],
   "source": [
    "NUMBERS = {\n",
    "    0: [\"a\", \"b\", \"c\", \"e\", \"f\", \"g\"],\n",
    "    1: [\"c\", \"f\"],\n",
    "    2: [\"a\", \"c\", \"d\", \"e\", \"g\"],\n",
    "    3: [\"a\", \"c\", \"d\", \"f\", \"g\"],\n",
    "    4: [\"b\", \"c\", \"d\", \"f\"],\n",
    "    5: [\"a\", \"b\", \"d\", \"f\", \"g\"],\n",
    "    6: [\"a\", \"b\", \"d\", \"e\", \"f\", \"g\"],\n",
    "    7: [\"a\", \"c\", \"f\"],\n",
    "    8: [\"a\", \"b\", \"c\", \"d\", \"e\", \"f\", \"g\"],\n",
    "    9: [\"a\", \"b\", \"c\", \"d\", \"f\", \"g\"],\n",
    "}\n",
    "\n",
    "SEGMENTS = {frozenset(segments): number for number, segments in NUMBERS.items()}\n",
    "\n",
    "COMMON_SEGMENTS = {}\n",
    "for number, segments in NUMBERS.items():\n",
    "    if len(segments) in COMMON_SEGMENTS:\n",
    "        COMMON_SEGMENTS[len(segments)] = COMMON_SEGMENTS[len(segments)].intersection(segments)\n",
    "    else:\n",
    "        COMMON_SEGMENTS[len(segments)] = set(segments)"
   ]
  },
  {
   "cell_type": "code",
   "execution_count": 6,
   "id": "4f402cdf",
   "metadata": {
    "ExecuteTime": {
     "end_time": "2021-12-09T00:27:47.246836Z",
     "start_time": "2021-12-09T00:27:47.242580Z"
    }
   },
   "outputs": [],
   "source": [
    "# This function decodes the signal and returns a dict with encoded segment as key and decoded\n",
    "# segment as value. \n",
    "def decode_signal(signal):\n",
    "    \n",
    "    decoder = {segment: set() for segment in NUMBERS[8]} # NUMBERS[8] has all the segments. \n",
    "    \n",
    "    # We start by the digits with with less segments (i.e number 1 with 2 segments)\n",
    "    for digit in sorted(signal, key=lambda digit: len(digit)): \n",
    "\n",
    "        candidates = set(digit)\n",
    "        \n",
    "        # Numbers 2, 3 and 5 use 5 segments. 3 of these segments are used in the 3 numbers.\n",
    "        # We use the common segments to discard candidates.\n",
    "        for segment in COMMON_SEGMENTS[len(digit)]:\n",
    "\n",
    "            # We already have a winner, let's move on. \n",
    "            if decoder[segment] == 1:\n",
    "                continue\n",
    "\n",
    "            # If we don't have any candidate, everyone is a candidate. \n",
    "            if len(decoder[segment]) == 0:\n",
    "                decoder[segment] = candidates\n",
    "                \n",
    "            # If we already have some candidates we discard the ones that are\n",
    "            # not in the current digit (we are going through the common segments). \n",
    "            elif len(decoder[segment]) != 1:\n",
    "                decoder[segment] = decoder[segment].intersection(candidates)\n",
    "\n",
    "            # After we updated the candidates, do we have a winner? \n",
    "            # If we do, let's remove the winner from the candidates. \n",
    "            if len(decoder[segment]) == 1:\n",
    "                candidates = candidates.difference(decoder[segment])\n",
    "\n",
    "                for segment_b, candidates_b in decoder.items():\n",
    "                    if segment_b != segment:\n",
    "                        decoder[segment_b] = candidates_b.difference(decoder[segment])\n",
    "\n",
    "    # The decoder is inverted and the value is a set. Let's get the correct format:\n",
    "    # encoded segment (winner canidate) -> decoded segment (like the documentation).\n",
    "    return {candidates.pop(): segment for segment, candidates in decoder.items()}"
   ]
  },
  {
   "cell_type": "code",
   "execution_count": 7,
   "id": "4f8187ca",
   "metadata": {
    "ExecuteTime": {
     "end_time": "2021-12-09T00:27:47.249832Z",
     "start_time": "2021-12-09T00:27:47.247654Z"
    }
   },
   "outputs": [],
   "source": [
    "def decode_number(segments, decoder):\n",
    "    segments_parsed = set()\n",
    "    for segment in segments:\n",
    "        segment_parsed = decoder[segment]\n",
    "        segments_parsed.add(segment_parsed)\n",
    "        \n",
    "    return SEGMENTS[frozenset(segments_parsed)]"
   ]
  },
  {
   "cell_type": "code",
   "execution_count": 8,
   "id": "3663c900",
   "metadata": {
    "ExecuteTime": {
     "end_time": "2021-12-09T00:27:47.262073Z",
     "start_time": "2021-12-09T00:27:47.250720Z"
    }
   },
   "outputs": [],
   "source": [
    "total = 0\n",
    "for signal, output in entries:\n",
    "    decoder = decode_signal(signal)\n",
    "    \n",
    "    output_number = \"\"\n",
    "    for encoded_number in output:\n",
    "        number = decode_number(encoded_number, decoder)\n",
    "        output_number += str(number)\n",
    "    \n",
    "    total += int(output_number)"
   ]
  },
  {
   "cell_type": "code",
   "execution_count": 9,
   "id": "3fcfc50d",
   "metadata": {
    "ExecuteTime": {
     "end_time": "2021-12-09T00:27:47.265146Z",
     "start_time": "2021-12-09T00:27:47.263177Z"
    }
   },
   "outputs": [
    {
     "name": "stdout",
     "output_type": "stream",
     "text": [
      "Solution: The sum of all the output values is 994266\n"
     ]
    }
   ],
   "source": [
    "print(f\"Solution: The sum of all the output values is {total}\")"
   ]
  }
 ],
 "metadata": {
  "kernelspec": {
   "display_name": "Python 3 (ipykernel)",
   "language": "python",
   "name": "python3"
  },
  "language_info": {
   "codemirror_mode": {
    "name": "ipython",
    "version": 3
   },
   "file_extension": ".py",
   "mimetype": "text/x-python",
   "name": "python",
   "nbconvert_exporter": "python",
   "pygments_lexer": "ipython3",
   "version": "3.9.9"
  }
 },
 "nbformat": 4,
 "nbformat_minor": 5
}
