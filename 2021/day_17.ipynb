{
 "cells": [
  {
   "cell_type": "markdown",
   "id": "341e9a62",
   "metadata": {},
   "source": [
    "### Day 17: Trick Shot\n",
    "\n",
    "You finally decode the Elves' message. HI, the message says. You continue searching for the sleigh keys.\n",
    "\n",
    "Ahead of you is what appears to be a large ocean trench. Could the keys have fallen into it? You'd better send a probe to investigate.\n",
    "\n",
    "The probe launcher on your submarine can fire the probe with any integer velocity in the x (forward) and y (upward, or downward if negative) directions. For example, an initial x,y velocity like 0,10 would fire the probe straight up, while an initial velocity like 10,-1 would fire the probe forward at a slight downward angle.\n",
    "\n",
    "The probe's x,y position starts at 0,0. Then, it will follow some trajectory by moving in steps. On each step, these changes occur in the following order:\n",
    "\n",
    "- The probe's x position increases by its x velocity.\n",
    "- The probe's y position increases by its y velocity.\n",
    "- Due to drag, the probe's x velocity changes by 1 toward the value 0; that is, it decreases by 1 if it is greater than 0, increases by 1 if it is less than 0, or does not change if it is already 0.\n",
    "- Due to gravity, the probe's y velocity decreases by 1.\n",
    "\n",
    "For the probe to successfully make it into the trench, the probe must be on some trajectory that causes it to be within a target area after any step. The submarine computer has already calculated this target area (your puzzle input). For example:\n",
    "\n",
    "    target area: x=20..30, y=-10..-5\n",
    "    \n",
    "This target area means that you need to find initial x,y velocity values such that after any step, the probe's x position is at least 20 and at most 30, and the probe's y position is at least -10 and at most -5.\n",
    "\n",
    "Given this target area, one initial velocity that causes the probe to be within the target area after any step is 7,2:\n",
    "\n",
    "    .............#....#............\n",
    "    .......#..............#........\n",
    "    ...............................\n",
    "    S........................#.....\n",
    "    ...............................\n",
    "    ...............................\n",
    "    ...........................#...\n",
    "    ...............................\n",
    "    ....................TTTTTTTTTTT\n",
    "    ....................TTTTTTTTTTT\n",
    "    ....................TTTTTTTT#TT\n",
    "    ....................TTTTTTTTTTT\n",
    "    ....................TTTTTTTTTTT\n",
    "    ....................TTTTTTTTTTT\n",
    "    \n",
    "In this diagram, S is the probe's initial position, 0,0. The x coordinate increases to the right, and the y coordinate increases upward. In the bottom right, positions that are within the target area are shown as T. After each step (until the target area is reached), the position of the probe is marked with #. (The bottom-right # is both a position the probe reaches and a position in the target area.)\n",
    "\n",
    "Another initial velocity that causes the probe to be within the target area after any step is 6,3:\n",
    "\n",
    "    ...............#..#............\n",
    "    ...........#........#..........\n",
    "    ...............................\n",
    "    ......#..............#.........\n",
    "    ...............................\n",
    "    ...............................\n",
    "    S....................#.........\n",
    "    ...............................\n",
    "    ...............................\n",
    "    ...............................\n",
    "    .....................#.........\n",
    "    ....................TTTTTTTTTTT\n",
    "    ....................TTTTTTTTTTT\n",
    "    ....................TTTTTTTTTTT\n",
    "    ....................TTTTTTTTTTT\n",
    "    ....................T#TTTTTTTTT\n",
    "    ....................TTTTTTTTTTT\n",
    "    \n",
    "Another one is 9,0:\n",
    "\n",
    "    S........#.....................\n",
    "    .................#.............\n",
    "    ...............................\n",
    "    ........................#......\n",
    "    ...............................\n",
    "    ....................TTTTTTTTTTT\n",
    "    ....................TTTTTTTTTT#\n",
    "    ....................TTTTTTTTTTT\n",
    "    ....................TTTTTTTTTTT\n",
    "    ....................TTTTTTTTTTT\n",
    "    ....................TTTTTTTTTTT\n",
    "    \n",
    "One initial velocity that doesn't cause the probe to be within the target area after any step is 17,-4:\n",
    "\n",
    "    S..............................................................\n",
    "    ...............................................................\n",
    "    ...............................................................\n",
    "    ...............................................................\n",
    "    .................#.............................................\n",
    "    ....................TTTTTTTTTTT................................\n",
    "    ....................TTTTTTTTTTT................................\n",
    "    ....................TTTTTTTTTTT................................\n",
    "    ....................TTTTTTTTTTT................................\n",
    "    ....................TTTTTTTTTTT..#.............................\n",
    "    ....................TTTTTTTTTTT................................\n",
    "    ...............................................................\n",
    "    ...............................................................\n",
    "    ...............................................................\n",
    "    ...............................................................\n",
    "    ................................................#..............\n",
    "    ...............................................................\n",
    "    ...............................................................\n",
    "    ...............................................................\n",
    "    ...............................................................\n",
    "    ...............................................................\n",
    "    ...............................................................\n",
    "    ..............................................................#\n",
    "    \n",
    "The probe appears to pass through the target area, but is never within it after any step. Instead, it continues down and to the right - only the first few steps are shown.\n",
    "\n",
    "If you're going to fire a highly scientific probe out of a super cool probe launcher, you might as well do it with style. How high can you make the probe go while still reaching the target area?\n",
    "\n",
    "In the above example, using an initial velocity of 6,9 is the best you can do, causing the probe to reach a maximum y position of 45. (Any higher initial y velocity causes the probe to overshoot the target area entirely.)\n",
    "\n",
    "Find the initial velocity that causes the probe to reach the highest y position and still eventually be within the target area after any step. What is the highest y position it reaches on this trajectory?"
   ]
  },
  {
   "cell_type": "code",
   "execution_count": 1,
   "id": "a39ef0de",
   "metadata": {
    "ExecuteTime": {
     "end_time": "2021-12-28T19:33:51.188225Z",
     "start_time": "2021-12-28T19:33:51.179713Z"
    }
   },
   "outputs": [
    {
     "name": "stdout",
     "output_type": "stream",
     "text": [
      "target area: x=117..164, y=-140..-89\n"
     ]
    }
   ],
   "source": [
    "with open('data/advent_17.txt', 'r') as f:\n",
    "    print(f.read().rstrip('\\n'))"
   ]
  },
  {
   "cell_type": "code",
   "execution_count": 2,
   "id": "f7e82464",
   "metadata": {
    "ExecuteTime": {
     "end_time": "2021-12-28T19:33:51.197833Z",
     "start_time": "2021-12-28T19:33:51.191699Z"
    }
   },
   "outputs": [],
   "source": [
    "target = (117, 164, -140, -89)"
   ]
  },
  {
   "cell_type": "code",
   "execution_count": 3,
   "id": "0d7a2534",
   "metadata": {
    "ExecuteTime": {
     "end_time": "2021-12-28T19:33:51.203819Z",
     "start_time": "2021-12-28T19:33:51.199876Z"
    }
   },
   "outputs": [],
   "source": [
    "def throw(velocity_x, velocity_y, target):\n",
    "\n",
    "    x = y = 0\n",
    "    lands = False\n",
    "    height = 0\n",
    "\n",
    "    while not lands:\n",
    "        x += velocity_x\n",
    "        y += velocity_y\n",
    "\n",
    "        height = max(y, height)\n",
    "\n",
    "        if velocity_x != 0:\n",
    "            velocity_x = velocity_x - 1 if velocity_x > 0 else velocity_x + 1\n",
    "\n",
    "        velocity_y -= 1\n",
    "\n",
    "        if target[0] <= x <= target[1] and target[2] <= y <= target[3]:\n",
    "            lands = True\n",
    "\n",
    "        elif x > max(target[1], target[0]) or y < min((target[3]), (target[2])):\n",
    "            break\n",
    "\n",
    "    return lands, height"
   ]
  },
  {
   "cell_type": "code",
   "execution_count": 4,
   "id": "c95ad5d7",
   "metadata": {
    "ExecuteTime": {
     "end_time": "2021-12-28T19:33:52.879052Z",
     "start_time": "2021-12-28T19:33:51.204716Z"
    }
   },
   "outputs": [],
   "source": [
    "highest = 0\n",
    "count = 0\n",
    "for velocity_x in range(target[1]+1):\n",
    "    velocity_y = 0\n",
    "    for velocity_y in range(-500, 500):\n",
    "        lands, height = throw(velocity_x, velocity_y, target)\n",
    "        if lands:\n",
    "            highest = max(highest, height)\n",
    "            count += 1"
   ]
  },
  {
   "cell_type": "code",
   "execution_count": 5,
   "id": "31288ed9",
   "metadata": {
    "ExecuteTime": {
     "end_time": "2021-12-28T19:33:52.882644Z",
     "start_time": "2021-12-28T19:33:52.880572Z"
    }
   },
   "outputs": [
    {
     "name": "stdout",
     "output_type": "stream",
     "text": [
      "Solution: The highest point reached by a throw that lands within the target area is 9730.\n"
     ]
    }
   ],
   "source": [
    "print(f\"Solution: The highest point reached by a throw that lands within the target area is {highest}.\")"
   ]
  },
  {
   "cell_type": "markdown",
   "id": "e18da302",
   "metadata": {},
   "source": [
    "<br> \n",
    "\n",
    "### Part Two\n",
    "\n",
    "Maybe a fancy trick shot isn't the best idea; after all, you only have one probe, so you had better not miss.\n",
    "\n",
    "To get the best idea of what your options are for launching the probe, you need to find every initial velocity that causes the probe to eventually be within the target area after any step.\n",
    "\n",
    "In the above example, there are 112 different initial velocity values that meet these criteria:\n",
    "\n",
    "    23,-10  25,-9   27,-5   29,-6   22,-6   21,-7   9,0     27,-7   24,-5\n",
    "    25,-7   26,-6   25,-5   6,8     11,-2   20,-5   29,-10  6,3     28,-7\n",
    "    8,0     30,-6   29,-8   20,-10  6,7     6,4     6,1     14,-4   21,-6\n",
    "    26,-10  7,-1    7,7     8,-1    21,-9   6,2     20,-7   30,-10  14,-3\n",
    "    20,-8   13,-2   7,3     28,-8   29,-9   15,-3   22,-5   26,-8   25,-8\n",
    "    25,-6   15,-4   9,-2    15,-2   12,-2   28,-9   12,-3   24,-6   23,-7\n",
    "    25,-10  7,8     11,-3   26,-7   7,1     23,-9   6,0     22,-10  27,-6\n",
    "    8,1     22,-8   13,-4   7,6     28,-6   11,-4   12,-4   26,-9   7,4\n",
    "    24,-10  23,-8   30,-8   7,0     9,-1    10,-1   26,-5   22,-9   6,5\n",
    "    7,5     23,-6   28,-10  10,-2   11,-1   20,-9   14,-2   29,-7   13,-3\n",
    "    23,-5   24,-8   27,-9   30,-7   28,-5   21,-10  7,9     6,6     21,-5\n",
    "    27,-10  7,2     30,-9   21,-8   22,-7   24,-9   20,-6   6,9     29,-5\n",
    "    8,-2    27,-8   30,-5   24,-7\n",
    "    \n",
    "How many distinct initial velocity values cause the probe to be within the target area after any step?"
   ]
  },
  {
   "cell_type": "code",
   "execution_count": 6,
   "id": "56942dd5",
   "metadata": {
    "ExecuteTime": {
     "end_time": "2021-12-28T19:33:52.884740Z",
     "start_time": "2021-12-28T19:33:52.883196Z"
    }
   },
   "outputs": [
    {
     "name": "stdout",
     "output_type": "stream",
     "text": [
      "Solution: A total of 4110 velocities make the probe to land within the target area\n"
     ]
    }
   ],
   "source": [
    "print(f\"Solution: A total of {count} velocities make the probe to land within the target area\")"
   ]
  }
 ],
 "metadata": {
  "kernelspec": {
   "display_name": "Python 3 (ipykernel)",
   "language": "python",
   "name": "python3"
  },
  "language_info": {
   "codemirror_mode": {
    "name": "ipython",
    "version": 3
   },
   "file_extension": ".py",
   "mimetype": "text/x-python",
   "name": "python",
   "nbconvert_exporter": "python",
   "pygments_lexer": "ipython3",
   "version": "3.9.9"
  }
 },
 "nbformat": 4,
 "nbformat_minor": 5
}
