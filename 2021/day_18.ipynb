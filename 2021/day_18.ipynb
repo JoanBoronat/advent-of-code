{
 "cells": [
  {
   "cell_type": "markdown",
   "id": "78373bca",
   "metadata": {},
   "source": [
    "### Day 18: Snailfish\n",
    "\n",
    "You descend into the ocean trench and encounter some snailfish. They say they saw the sleigh keys! They'll even tell you which direction the keys went if you help one of the smaller snailfish with his math homework.\n",
    "\n",
    "Snailfish numbers aren't like regular numbers. Instead, every snailfish number is a pair - an ordered list of two elements. Each element of the pair can be either a regular number or another pair.\n",
    "\n",
    "Pairs are written as [x,y], where x and y are the elements within the pair. Here are some example snailfish numbers, one snailfish number per line:\n",
    "\n",
    "    [1,2]\n",
    "    [[1,2],3]\n",
    "    [9,[8,7]]\n",
    "    [[1,9],[8,5]]\n",
    "    [[[[1,2],[3,4]],[[5,6],[7,8]]],9]\n",
    "    [[[9,[3,8]],[[0,9],6]],[[[3,7],[4,9]],3]]\n",
    "    [[[[1,3],[5,3]],[[1,3],[8,7]]],[[[4,9],[6,9]],[[8,2],[7,3]]]]\n",
    "    \n",
    "This snailfish homework is about addition. To add two snailfish numbers, form a pair from the left and right parameters of the addition operator. For example, [1,2] + [[3,4],5] becomes [[1,2],[[3,4],5]].\n",
    "\n",
    "There's only one problem: snailfish numbers must always be reduced, and the process of adding two snailfish numbers can result in snailfish numbers that need to be reduced.\n",
    "\n",
    "To reduce a snailfish number, you must repeatedly do the first action in this list that applies to the snailfish number:\n",
    "\n",
    "- If any pair is nested inside four pairs, the leftmost such pair explodes.\n",
    "- If any regular number is 10 or greater, the leftmost such regular number splits.\n",
    "\n",
    "Once no action in the above list applies, the snailfish number is reduced.\n",
    "\n",
    "During reduction, at most one action applies, after which the process returns to the top of the list of actions. For example, if split produces a pair that meets the explode criteria, that pair explodes before other splits occur.\n",
    "\n",
    "To explode a pair, the pair's left value is added to the first regular number to the left of the exploding pair (if any), and the pair's right value is added to the first regular number to the right of the exploding pair (if any). Exploding pairs will always consist of two regular numbers. Then, the entire exploding pair is replaced with the regular number 0.\n",
    "\n",
    "Here are some examples of a single explode action:\n",
    "\n",
    "    [[[[[9,8],1],2],3],4] becomes [[[[0,9],2],3],4] (the 9 has no regular number to its left, so it is not added to any regular number).\n",
    "    [7,[6,[5,[4,[3,2]]]]] becomes [7,[6,[5,[7,0]]]] (the 2 has no regular number to its right, and so it is not added to any regular number).\n",
    "    [[6,[5,[4,[3,2]]]],1] becomes [[6,[5,[7,0]]],3].\n",
    "    [[3,[2,[1,[7,3]]]],[6,[5,[4,[3,2]]]]] becomes [[3,[2,[8,0]]],[9,[5,[4,[3,2]]]]] (the pair [3,2] is unaffected because the pair [7,3] is further to the left; [3,2] would explode on the next action).\n",
    "    [[3,[2,[8,0]]],[9,[5,[4,[3,2]]]]] becomes [[3,[2,[8,0]]],[9,[5,[7,0]]]].\n",
    "\n",
    "To split a regular number, replace it with a pair; the left element of the pair should be the regular number divided by two and rounded down, while the right element of the pair should be the regular number divided by two and rounded up. For example, 10 becomes [5,5], 11 becomes [5,6], 12 becomes [6,6], and so on.\n",
    "\n",
    "Here is the process of finding the reduced result of [[[[4,3],4],4],[7,[[8,4],9]]] + [1,1]:\n",
    "\n",
    "    after addition: [[[[[4,3],4],4],[7,[[8,4],9]]],[1,1]]\n",
    "    after explode:  [[[[0,7],4],[7,[[8,4],9]]],[1,1]]\n",
    "    after explode:  [[[[0,7],4],[15,[0,13]]],[1,1]]\n",
    "    after split:    [[[[0,7],4],[[7,8],[0,13]]],[1,1]]\n",
    "    after split:    [[[[0,7],4],[[7,8],[0,[6,7]]]],[1,1]]\n",
    "    after explode:  [[[[0,7],4],[[7,8],[6,0]]],[8,1]]\n",
    "    \n",
    "Once no reduce actions apply, the snailfish number that remains is the actual result of the addition operation: [[[[0,7],4],[[7,8],[6,0]]],[8,1]].\n",
    "\n",
    "The homework assignment involves adding up a list of snailfish numbers (your puzzle input). The snailfish numbers are each listed on a separate line. Add the first snailfish number and the second, then add that result and the third, then add that result and the fourth, and so on until all numbers in the list have been used once.\n",
    "\n",
    "    For example, the final sum of this list is [[[[1,1],[2,2]],[3,3]],[4,4]]:\n",
    "\n",
    "    [1,1]\n",
    "    [2,2]\n",
    "    [3,3]\n",
    "    [4,4]\n",
    "    \n",
    "    The final sum of this list is [[[[3,0],[5,3]],[4,4]],[5,5]]:\n",
    "\n",
    "    [1,1]\n",
    "    [2,2]\n",
    "    [3,3]\n",
    "    [4,4]\n",
    "    [5,5]\n",
    "    \n",
    "    The final sum of this list is [[[[5,0],[7,4]],[5,5]],[6,6]]:\n",
    "\n",
    "    [1,1]\n",
    "    [2,2]\n",
    "    [3,3]\n",
    "    [4,4]\n",
    "    [5,5]\n",
    "    [6,6]\n",
    "    \n",
    "Here's a slightly larger example:\n",
    "\n",
    "    [[[0,[4,5]],[0,0]],[[[4,5],[2,6]],[9,5]]]\n",
    "    [7,[[[3,7],[4,3]],[[6,3],[8,8]]]]\n",
    "    [[2,[[0,8],[3,4]]],[[[6,7],1],[7,[1,6]]]]\n",
    "    [[[[2,4],7],[6,[0,5]]],[[[6,8],[2,8]],[[2,1],[4,5]]]]\n",
    "    [7,[5,[[3,8],[1,4]]]]\n",
    "    [[2,[2,2]],[8,[8,1]]]\n",
    "    [2,9]\n",
    "    [1,[[[9,3],9],[[9,0],[0,7]]]]\n",
    "    [[[5,[7,4]],7],1]\n",
    "    [[[[4,2],2],6],[8,7]]\n",
    "    \n",
    "    The final sum [[[[8,7],[7,7]],[[8,6],[7,7]]],[[[0,7],[6,6]],[8,7]]] is found after adding up the above snailfish numbers:\n",
    "\n",
    "      [[[0,[4,5]],[0,0]],[[[4,5],[2,6]],[9,5]]]\n",
    "    + [7,[[[3,7],[4,3]],[[6,3],[8,8]]]]\n",
    "    = [[[[4,0],[5,4]],[[7,7],[6,0]]],[[8,[7,7]],[[7,9],[5,0]]]]\n",
    "\n",
    "      [[[[4,0],[5,4]],[[7,7],[6,0]]],[[8,[7,7]],[[7,9],[5,0]]]]\n",
    "    + [[2,[[0,8],[3,4]]],[[[6,7],1],[7,[1,6]]]]\n",
    "    = [[[[6,7],[6,7]],[[7,7],[0,7]]],[[[8,7],[7,7]],[[8,8],[8,0]]]]\n",
    "\n",
    "      [[[[6,7],[6,7]],[[7,7],[0,7]]],[[[8,7],[7,7]],[[8,8],[8,0]]]]\n",
    "    + [[[[2,4],7],[6,[0,5]]],[[[6,8],[2,8]],[[2,1],[4,5]]]]\n",
    "    = [[[[7,0],[7,7]],[[7,7],[7,8]]],[[[7,7],[8,8]],[[7,7],[8,7]]]]\n",
    "\n",
    "      [[[[7,0],[7,7]],[[7,7],[7,8]]],[[[7,7],[8,8]],[[7,7],[8,7]]]]\n",
    "    + [7,[5,[[3,8],[1,4]]]]\n",
    "    = [[[[7,7],[7,8]],[[9,5],[8,7]]],[[[6,8],[0,8]],[[9,9],[9,0]]]]\n",
    "\n",
    "      [[[[7,7],[7,8]],[[9,5],[8,7]]],[[[6,8],[0,8]],[[9,9],[9,0]]]]\n",
    "    + [[2,[2,2]],[8,[8,1]]]\n",
    "    = [[[[6,6],[6,6]],[[6,0],[6,7]]],[[[7,7],[8,9]],[8,[8,1]]]]\n",
    "\n",
    "      [[[[6,6],[6,6]],[[6,0],[6,7]]],[[[7,7],[8,9]],[8,[8,1]]]]\n",
    "    + [2,9]\n",
    "    = [[[[6,6],[7,7]],[[0,7],[7,7]]],[[[5,5],[5,6]],9]]\n",
    "\n",
    "      [[[[6,6],[7,7]],[[0,7],[7,7]]],[[[5,5],[5,6]],9]]\n",
    "    + [1,[[[9,3],9],[[9,0],[0,7]]]]\n",
    "    = [[[[7,8],[6,7]],[[6,8],[0,8]]],[[[7,7],[5,0]],[[5,5],[5,6]]]]\n",
    "\n",
    "      [[[[7,8],[6,7]],[[6,8],[0,8]]],[[[7,7],[5,0]],[[5,5],[5,6]]]]\n",
    "    + [[[5,[7,4]],7],1]\n",
    "    = [[[[7,7],[7,7]],[[8,7],[8,7]]],[[[7,0],[7,7]],9]]\n",
    "\n",
    "      [[[[7,7],[7,7]],[[8,7],[8,7]]],[[[7,0],[7,7]],9]]\n",
    "    + [[[[4,2],2],6],[8,7]]\n",
    "    = [[[[8,7],[7,7]],[[8,6],[7,7]]],[[[0,7],[6,6]],[8,7]]]\n",
    "    \n",
    "To check whether it's the right answer, the snailfish teacher only checks the magnitude of the final sum. The magnitude of a pair is 3 times the magnitude of its left element plus 2 times the magnitude of its right element. The magnitude of a regular number is just that number.\n",
    "\n",
    "For example, the magnitude of [9,1] is 3*9 + 2*1 = 29; the magnitude of [1,9] is 3*1 + 2*9 = 21. Magnitude calculations are recursive: the magnitude of [[9,1],[1,9]] is 3*29 + 2*21 = 129.\n",
    "\n",
    "Here are a few more magnitude examples:\n",
    "\n",
    "    [[1,2],[[3,4],5]] becomes 143.\n",
    "    [[[[0,7],4],[[7,8],[6,0]]],[8,1]] becomes 1384.\n",
    "    [[[[1,1],[2,2]],[3,3]],[4,4]] becomes 445.\n",
    "    [[[[3,0],[5,3]],[4,4]],[5,5]] becomes 791.\n",
    "    [[[[5,0],[7,4]],[5,5]],[6,6]] becomes 1137.\n",
    "    [[[[8,7],[7,7]],[[8,6],[7,7]]],[[[0,7],[6,6]],[8,7]]] becomes 3488.\n",
    "    \n",
    "So, given this example homework assignment:\n",
    "\n",
    "    [[[0,[5,8]],[[1,7],[9,6]]],[[4,[1,2]],[[1,4],2]]]\n",
    "    [[[5,[2,8]],4],[5,[[9,9],0]]]\n",
    "    [6,[[[6,2],[5,6]],[[7,6],[4,7]]]]\n",
    "    [[[6,[0,7]],[0,9]],[4,[9,[9,0]]]]\n",
    "    [[[7,[6,4]],[3,[1,3]]],[[[5,5],1],9]]\n",
    "    [[6,[[7,3],[3,2]]],[[[3,8],[5,7]],4]]\n",
    "    [[[[5,4],[7,7]],8],[[8,3],8]]\n",
    "    [[9,3],[[9,9],[6,[4,9]]]]\n",
    "    [[2,[[7,7],7]],[[5,8],[[9,3],[0,2]]]]\n",
    "    [[[[5,2],5],[8,[3,7]]],[[5,[7,5]],[4,4]]]\n",
    "    \n",
    "The final sum is:\n",
    "\n",
    "    [[[[6,6],[7,6]],[[7,7],[7,0]]],[[[7,7],[7,7]],[[7,8],[9,9]]]]\n",
    "    \n",
    "The magnitude of this final sum is 4140.\n",
    "\n",
    "Add up all of the snailfish numbers from the homework assignment in the order they appear. What is the magnitude of the final sum?"
   ]
  },
  {
   "cell_type": "code",
   "execution_count": 1,
   "id": "af22642e",
   "metadata": {
    "ExecuteTime": {
     "end_time": "2021-12-29T15:13:59.441861Z",
     "start_time": "2021-12-29T15:13:59.434108Z"
    }
   },
   "outputs": [],
   "source": [
    "import json"
   ]
  },
  {
   "cell_type": "code",
   "execution_count": 2,
   "id": "297d9a3b",
   "metadata": {
    "ExecuteTime": {
     "end_time": "2021-12-29T15:13:59.451276Z",
     "start_time": "2021-12-29T15:13:59.444621Z"
    }
   },
   "outputs": [],
   "source": [
    "with open('data/advent_18.txt', 'r') as f:\n",
    "    homework = f.read().rstrip('\\n')\n",
    "\n",
    "homework = homework.split('\\n')\n",
    "\n",
    "numbers = []\n",
    "for number in homework:\n",
    "    aux = list(number.replace(',', ''))\n",
    "    numbers.append([int(item) if item not in ['[', ']'] else item for item in aux])"
   ]
  },
  {
   "cell_type": "code",
   "execution_count": 3,
   "id": "495408c0",
   "metadata": {
    "ExecuteTime": {
     "end_time": "2021-12-29T15:13:59.454832Z",
     "start_time": "2021-12-29T15:13:59.452108Z"
    }
   },
   "outputs": [
    {
     "name": "stdout",
     "output_type": "stream",
     "text": [
      "['[', '[', '[', 5, '[', 4, 8, ']', ']', 0, ']', '[', '[', '[', 2, 2, ']', 5, ']', '[', 7, 9, ']', ']', ']']\n"
     ]
    }
   ],
   "source": [
    "# I will treat the numbers as a list of items instead of a list of pairs. \n",
    "# Given the operations that we have to perform, I found this solution to facilitate the navigation. \n",
    "print(numbers[0])"
   ]
  },
  {
   "cell_type": "code",
   "execution_count": 4,
   "id": "84705bfe",
   "metadata": {
    "ExecuteTime": {
     "end_time": "2021-12-29T15:13:59.462723Z",
     "start_time": "2021-12-29T15:13:59.455967Z"
    }
   },
   "outputs": [],
   "source": [
    "addition = lambda a, b: ['['] + a + b + [']']\n",
    "\n",
    "def find_explosion(numbers):\n",
    "    level = 0\n",
    "    for i, item in enumerate(numbers):\n",
    "        if item in [']', '[']:\n",
    "            level += 1 if item == '[' else -1 \n",
    "        elif level > 4:\n",
    "            return i\n",
    "        \n",
    "def explode(numbers):\n",
    "    explosion = find_explosion(numbers)\n",
    "    \n",
    "    if explosion is None:\n",
    "        return\n",
    "    \n",
    "    # Find the nearest left number\n",
    "    for i, item in enumerate(numbers[explosion-1::-1]):\n",
    "        if isinstance(item, int):\n",
    "            numbers[explosion-i-1] = item + numbers[explosion]\n",
    "            break\n",
    "\n",
    "    # Find the nearest right number\n",
    "    for i, item in enumerate(numbers[explosion+2::]):\n",
    "        if isinstance(item, int):\n",
    "            numbers[explosion+i+2] = item + numbers[explosion+1]\n",
    "            break\n",
    "\n",
    "    numbers[explosion-1:explosion+3] = [0]\n",
    "    return True\n",
    "\n",
    "\n",
    "def split(numbers):\n",
    "    for i, item in enumerate(numbers):\n",
    "        if isinstance(item, int) and item >= 10:\n",
    "            numbers[i:i+1] = ['[', item//2, (item+1)//2, ']']\n",
    "            return True\n",
    "\n",
    "        \n",
    "def get_magnitude(numbers):\n",
    "    if isinstance(numbers, int):\n",
    "        return numbers\n",
    "    \n",
    "    left = get_magnitude(numbers[0]) * 3\n",
    "    right = get_magnitude(numbers[1]) * 2\n",
    "    return left + right\n",
    "\n",
    "\n",
    "def do_homework(numbers):\n",
    "    result = numbers.pop(0)\n",
    "\n",
    "    while numbers:\n",
    "        result = addition(result, numbers.pop(0))\n",
    "\n",
    "        reduced = True\n",
    "        while reduced:\n",
    "            reduced = explode(result)\n",
    "            if not reduced:\n",
    "                reduced = split(result)\n",
    "\n",
    "    result = str(result).replace(' ', '').replace(\"'\", '')\n",
    "    result = result.replace('[,', '[').replace(',]', ']')[1:-1]\n",
    "    result = json.loads(result)\n",
    "    \n",
    "    return get_magnitude(result)"
   ]
  },
  {
   "cell_type": "code",
   "execution_count": 5,
   "id": "060a109c",
   "metadata": {
    "ExecuteTime": {
     "end_time": "2021-12-29T15:13:59.533742Z",
     "start_time": "2021-12-29T15:13:59.464891Z"
    }
   },
   "outputs": [
    {
     "name": "stdout",
     "output_type": "stream",
     "text": [
      "Solution: The magnitude of the result is 4184.\n"
     ]
    }
   ],
   "source": [
    "print(f\"Solution: The magnitude of the result is {do_homework(numbers.copy())}.\")"
   ]
  },
  {
   "cell_type": "markdown",
   "id": "cf46ce38",
   "metadata": {},
   "source": [
    "<br>\n",
    "\n",
    "### Part Two\n",
    "\n",
    "You notice a second question on the back of the homework assignment:\n",
    "\n",
    "What is the largest magnitude you can get from adding only two of the snailfish numbers?\n",
    "\n",
    "Note that snailfish addition is not commutative - that is, x + y and y + x can produce different results.\n",
    "\n",
    "Again considering the last example homework assignment above:\n",
    "\n",
    "    [[[0,[5,8]],[[1,7],[9,6]]],[[4,[1,2]],[[1,4],2]]]\n",
    "    [[[5,[2,8]],4],[5,[[9,9],0]]]\n",
    "    [6,[[[6,2],[5,6]],[[7,6],[4,7]]]]\n",
    "    [[[6,[0,7]],[0,9]],[4,[9,[9,0]]]]\n",
    "    [[[7,[6,4]],[3,[1,3]]],[[[5,5],1],9]]\n",
    "    [[6,[[7,3],[3,2]]],[[[3,8],[5,7]],4]]\n",
    "    [[[[5,4],[7,7]],8],[[8,3],8]]\n",
    "    [[9,3],[[9,9],[6,[4,9]]]]\n",
    "    [[2,[[7,7],7]],[[5,8],[[9,3],[0,2]]]]\n",
    "    [[[[5,2],5],[8,[3,7]]],[[5,[7,5]],[4,4]]]\n",
    "    \n",
    "The largest magnitude of the sum of any two snailfish numbers in this list is 3993. This is the magnitude of\n",
    "    \n",
    "    [[2,[[7,7],7]],[[5,8],[[9,3],[0,2]]]] + [[[0,[5,8]],[[1,7],[9,6]]],[[4,[1,2]],[[1,4],2]]]\n",
    "    \n",
    "which reduces to\n",
    "\n",
    "    [[[[7,8],[6,6]],[[6,0],[7,7]]],[[[7,8],[8,8]],[[7,9],[0,6]]]].\n",
    "\n",
    "What is the largest magnitude of any sum of two different snailfish numbers from the homework assignment?\n"
   ]
  },
  {
   "cell_type": "code",
   "execution_count": 6,
   "id": "f68e8dfb",
   "metadata": {
    "ExecuteTime": {
     "end_time": "2021-12-29T15:14:00.370457Z",
     "start_time": "2021-12-29T15:13:59.534449Z"
    }
   },
   "outputs": [],
   "source": [
    "results = []\n",
    "for a in numbers:\n",
    "    for b in numbers:\n",
    "        results.append(do_homework([a, b]))"
   ]
  },
  {
   "cell_type": "code",
   "execution_count": 7,
   "id": "2b816812",
   "metadata": {
    "ExecuteTime": {
     "end_time": "2021-12-29T15:14:00.373762Z",
     "start_time": "2021-12-29T15:14:00.371318Z"
    }
   },
   "outputs": [
    {
     "name": "stdout",
     "output_type": "stream",
     "text": [
      "Solution: The largest magnitude of any sum is 4731.\n"
     ]
    }
   ],
   "source": [
    "print(f\"Solution: The largest magnitude of any sum is {max(results)}.\")"
   ]
  }
 ],
 "metadata": {
  "kernelspec": {
   "display_name": "Python 3 (ipykernel)",
   "language": "python",
   "name": "python3"
  },
  "language_info": {
   "codemirror_mode": {
    "name": "ipython",
    "version": 3
   },
   "file_extension": ".py",
   "mimetype": "text/x-python",
   "name": "python",
   "nbconvert_exporter": "python",
   "pygments_lexer": "ipython3",
   "version": "3.9.9"
  }
 },
 "nbformat": 4,
 "nbformat_minor": 5
}
