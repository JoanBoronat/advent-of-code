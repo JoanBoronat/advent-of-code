{
 "cells": [
  {
   "cell_type": "markdown",
   "id": "c452254f",
   "metadata": {},
   "source": [
    "### Day 2: Dive!\n",
    "\n",
    "Now, you need to figure out how to pilot this thing.\n",
    "\n",
    "It seems like the submarine can take a series of commands like forward 1, down 2, or up 3:\n",
    "\n",
    "forward X increases the horizontal position by X units.\n",
    "down X increases the depth by X units.\n",
    "up X decreases the depth by X units.\n",
    "Note that since you're on a submarine, down and up affect your depth, and so they have the opposite result of what you might expect.\n",
    "\n",
    "The submarine seems to already have a planned course (your puzzle input). You should probably figure out where it's going. For example:\n",
    "\n",
    "    forward 5\n",
    "    down 5\n",
    "    forward 8\n",
    "    up 3\n",
    "    down 8\n",
    "    forward 2\n",
    "    \n",
    "Your horizontal position and depth both start at 0. The steps above would then modify them as follows:\n",
    "\n",
    "    forward 5 adds 5 to your horizontal position, a total of 5.\n",
    "    down 5 adds 5 to your depth, resulting in a value of 5.\n",
    "    forward 8 adds 8 to your horizontal position, a total of 13.\n",
    "    up 3 decreases your depth by 3, resulting in a value of 2.\n",
    "    down 8 adds 8 to your depth, resulting in a value of 10.\n",
    "    forward 2 adds 2 to your horizontal position, a total of 15.\n",
    "    \n",
    "After following these instructions, you would have a horizontal position of 15 and a depth of 10. (Multiplying these together produces 150.)\n",
    "\n",
    "Calculate the horizontal position and depth you would have after following the planned course. What do you get if you multiply your final horizontal position by your final depth?"
   ]
  },
  {
   "cell_type": "code",
   "execution_count": 1,
   "id": "fa652f01",
   "metadata": {
    "ExecuteTime": {
     "end_time": "2021-12-02T08:20:09.377459Z",
     "start_time": "2021-12-02T08:20:09.359818Z"
    }
   },
   "outputs": [],
   "source": [
    "with open('data/advent_02.txt', 'r') as f:\n",
    "    course = [line.rstrip('\\n').split(' ') for line in f.readlines()]"
   ]
  },
  {
   "cell_type": "code",
   "execution_count": 2,
   "id": "9cc78773",
   "metadata": {
    "ExecuteTime": {
     "end_time": "2021-12-02T08:20:09.382756Z",
     "start_time": "2021-12-02T08:20:09.380079Z"
    }
   },
   "outputs": [],
   "source": [
    "horizontal = 0\n",
    "depth = 0\n",
    "\n",
    "for command, value in course:\n",
    "    if command == 'up':\n",
    "        depth -= int(value)\n",
    "    elif command == 'down':\n",
    "        depth += int(value)\n",
    "    elif command == 'forward':\n",
    "        horizontal += int(value)"
   ]
  },
  {
   "cell_type": "code",
   "execution_count": 3,
   "id": "8e5b2744",
   "metadata": {
    "ExecuteTime": {
     "end_time": "2021-12-02T08:20:09.385811Z",
     "start_time": "2021-12-02T08:20:09.383657Z"
    }
   },
   "outputs": [
    {
     "name": "stdout",
     "output_type": "stream",
     "text": [
      "Solution: The horizontal position multiplied by the depth is 1459206.\n"
     ]
    }
   ],
   "source": [
    "print(f\"Solution: The horizontal position multiplied by the depth is {horizontal * depth}.\")"
   ]
  },
  {
   "cell_type": "markdown",
   "id": "8ec947f9",
   "metadata": {},
   "source": [
    "<br> \n",
    "\n",
    "### Part Two\n",
    "\n",
    "Based on your calculations, the planned course doesn't seem to make any sense. You find the submarine manual and discover that the process is actually slightly more complicated.\n",
    "\n",
    "In addition to horizontal position and depth, you'll also need to track a third value, aim, which also starts at 0. The commands also mean something entirely different than you first thought:\n",
    "\n",
    "    down X increases your aim by X units.\n",
    "    up X decreases your aim by X units.\n",
    "    \n",
    "    forward X does two things:\n",
    "        It increases your horizontal position by X units.\n",
    "        It increases your depth by your aim multiplied by X.\n",
    "        \n",
    "Again note that since you're on a submarine, down and up do the opposite of what you might expect: \"down\" means aiming in the positive direction.\n",
    "\n",
    "Now, the above example does something different:\n",
    "\n",
    "    forward 5 adds 5 to your horizontal position, a total of 5. Because your aim is 0, your depth does not change.\n",
    "    down 5 adds 5 to your aim, resulting in a value of 5.\n",
    "    forward 8 adds 8 to your horizontal position, a total of 13. Because your aim is 5, your depth increases by 8*5=40.\n",
    "    up 3 decreases your aim by 3, resulting in a value of 2.\n",
    "    down 8 adds 8 to your aim, resulting in a value of 10.\n",
    "    forward 2 adds 2 to your horizontal position, a total of 15. Because your aim is 10, your depth increases by 2*10=20 to a total of 60.\n",
    "    \n",
    "After following these new instructions, you would have a horizontal position of 15 and a depth of 60. (Multiplying these produces 900.)\n",
    "\n",
    "Using this new interpretation of the commands, calculate the horizontal position and depth you would have after following the planned course. What do you get if you multiply your final horizontal position by your final depth?"
   ]
  },
  {
   "cell_type": "code",
   "execution_count": 4,
   "id": "47bc4ede",
   "metadata": {
    "ExecuteTime": {
     "end_time": "2021-12-02T08:20:09.389118Z",
     "start_time": "2021-12-02T08:20:09.386595Z"
    }
   },
   "outputs": [],
   "source": [
    "horizontal = 0\n",
    "depth = 0\n",
    "aim = 0\n",
    "\n",
    "for command, value in course:\n",
    "    if command == 'up':\n",
    "        aim -= int(value)\n",
    "    elif command == 'down':\n",
    "        aim += int(value)\n",
    "    elif command == 'forward':\n",
    "        horizontal += int(value)\n",
    "        depth += aim * int(value)"
   ]
  },
  {
   "cell_type": "code",
   "execution_count": 5,
   "id": "c9a39475",
   "metadata": {
    "ExecuteTime": {
     "end_time": "2021-12-02T08:20:09.392021Z",
     "start_time": "2021-12-02T08:20:09.390434Z"
    }
   },
   "outputs": [
    {
     "name": "stdout",
     "output_type": "stream",
     "text": [
      "Solution: The horizontal position multiplied by the depth is 1320534480.\n"
     ]
    }
   ],
   "source": [
    "print(f\"Solution: The horizontal position multiplied by the depth is {horizontal * depth}.\")"
   ]
  }
 ],
 "metadata": {
  "kernelspec": {
   "display_name": "Python 3 (ipykernel)",
   "language": "python",
   "name": "python3"
  },
  "language_info": {
   "codemirror_mode": {
    "name": "ipython",
    "version": 3
   },
   "file_extension": ".py",
   "mimetype": "text/x-python",
   "name": "python",
   "nbconvert_exporter": "python",
   "pygments_lexer": "ipython3",
   "version": "3.9.9"
  }
 },
 "nbformat": 4,
 "nbformat_minor": 5
}
