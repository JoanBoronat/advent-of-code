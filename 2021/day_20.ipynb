{
 "cells": [
  {
   "cell_type": "markdown",
   "id": "22c2cb0e",
   "metadata": {},
   "source": [
    "### Day 20: Trench Map\n",
    "\n",
    "With the scanners fully deployed, you turn their attention to mapping the floor of the ocean trench.\n",
    "\n",
    "When you get back the image from the scanners, it seems to just be random noise. Perhaps you can combine an image enhancement algorithm and the input image (your puzzle input) to clean it up a little.\n",
    "\n",
    "For example:\n",
    "\n",
    "    ..#.#..#####.#.#.#.###.##.....###.##.#..###.####..#####..#....#..#..##..##\n",
    "    #..######.###...####..#..#####..##..#.#####...##.#.#..#.##..#.#......#.###\n",
    "    .######.###.####...#.##.##..#..#..#####.....#.#....###..#.##......#.....#.\n",
    "    .#..#..##..#...##.######.####.####.#.#...#.......#..#.#.#...####.##.#.....\n",
    "    .#..#...##.#.##..#...##.#.##..###.#......#.#.......#.#.#.####.###.##...#..\n",
    "    ...####.#..#..#.##.#....##..#.####....##...##..#...#......#.#.......#.....\n",
    "    ..##..####..#...#.#.#...##..#.#..###..#####........#..####......#..#\n",
    "\n",
    "    #..#.\n",
    "    #....\n",
    "    ##..#\n",
    "    ..#..\n",
    "    ..###\n",
    "    \n",
    "The first section is the image enhancement algorithm. It is normally given on a single line, but it has been wrapped to multiple lines in this example for legibility. The second section is the input image, a two-dimensional grid of light pixels (#) and dark pixels (.).\n",
    "\n",
    "The image enhancement algorithm describes how to enhance an image by simultaneously converting all pixels in the input image into an output image. Each pixel of the output image is determined by looking at a 3x3 square of pixels centered on the corresponding input image pixel. So, to determine the value of the pixel at (5,10) in the output image, nine pixels from the input image need to be considered: (4,9), (4,10), (4,11), (5,9), (5,10), (5,11), (6,9), (6,10), and (6,11). These nine input pixels are combined into a single binary number that is used as an index in the image enhancement algorithm string.\n",
    "\n",
    "For example, to determine the output pixel that corresponds to the very middle pixel of the input image, the nine pixels marked by [...] would need to be considered:\n",
    "\n",
    "    # . . # .\n",
    "    #[. . .].\n",
    "    #[# . .]#\n",
    "    .[. # .].\n",
    "    . . # # #\n",
    "    \n",
    "Starting from the top-left and reading across each row, these pixels are ..., then #.., then .#.; combining these forms ...#...#.. By turning dark pixels (.) into 0 and light pixels (#) into 1, the binary number 000100010 can be formed, which is 34 in decimal.\n",
    "\n",
    "The image enhancement algorithm string is exactly 512 characters long, enough to match every possible 9-bit binary number. The first few characters of the string (numbered starting from zero) are as follows:\n",
    "\n",
    "    0         10        20        30  34    40        50        60        70\n",
    "    |         |         |         |   |     |         |         |         |\n",
    "    ..#.#..#####.#.#.#.###.##.....###.##.#..###.####..#####..#....#..#..##..##\n",
    "    \n",
    "In the middle of this first group of characters, the character at index 34 can be found: #. So, the output pixel in the center of the output image should be #, a light pixel.\n",
    "\n",
    "This process can then be repeated to calculate every pixel of the output image.\n",
    "\n",
    "Through advances in imaging technology, the images being operated on here are infinite in size. Every pixel of the infinite output image needs to be calculated exactly based on the relevant pixels of the input image. The small input image you have is only a small region of the actual infinite input image; the rest of the input image consists of dark pixels (.). For the purposes of the example, to save on space, only a portion of the infinite-sized input and output images will be shown.\n",
    "\n",
    "The starting input image, therefore, looks something like this, with more dark pixels (.) extending forever in every direction not shown here:\n",
    "\n",
    "    ...............\n",
    "    ...............\n",
    "    ...............\n",
    "    ...............\n",
    "    ...............\n",
    "    .....#..#......\n",
    "    .....#.........\n",
    "    .....##..#.....\n",
    "    .......#.......\n",
    "    .......###.....\n",
    "    ...............\n",
    "    ...............\n",
    "    ...............\n",
    "    ...............\n",
    "    ...............\n",
    "    \n",
    "By applying the image enhancement algorithm to every pixel simultaneously, the following output image can be obtained:\n",
    "\n",
    "    ...............\n",
    "    ...............\n",
    "    ...............\n",
    "    ...............\n",
    "    .....##.##.....\n",
    "    ....#..#.#.....\n",
    "    ....##.#..#....\n",
    "    ....####..#....\n",
    "    .....#..##.....\n",
    "    ......##..#....\n",
    "    .......#.#.....\n",
    "    ...............\n",
    "    ...............\n",
    "    ...............\n",
    "    ...............\n",
    "    \n",
    "Through further advances in imaging technology, the above output image can also be used as an input image! This allows it to be enhanced a second time:\n",
    "\n",
    "    ...............\n",
    "    ...............\n",
    "    ...............\n",
    "    ..........#....\n",
    "    ....#..#.#.....\n",
    "    ...#.#...###...\n",
    "    ...#...##.#....\n",
    "    ...#.....#.#...\n",
    "    ....#.#####....\n",
    "    .....#.#####...\n",
    "    ......##.##....\n",
    "    .......###.....\n",
    "    ...............\n",
    "    ...............\n",
    "    ...............\n",
    "    \n",
    "Truly incredible - now the small details are really starting to come through. After enhancing the original input image twice, 35 pixels are lit.\n",
    "\n",
    "Start with the original input image and apply the image enhancement algorithm twice, being careful to account for the infinite size of the images. How many pixels are lit in the resulting image?"
   ]
  },
  {
   "cell_type": "code",
   "execution_count": 1,
   "id": "a979efd9",
   "metadata": {
    "ExecuteTime": {
     "end_time": "2021-12-31T18:06:21.840410Z",
     "start_time": "2021-12-31T18:06:21.825792Z"
    }
   },
   "outputs": [],
   "source": [
    "with open('data/advent_20.txt', 'r') as f:\n",
    "    enhancer, input_img = f.read().rstrip('\\n').split('\\n\\n')\n",
    "\n",
    "image = {}\n",
    "for y, row in enumerate(input_img.split('\\n')):\n",
    "    for x, pixel in enumerate(row):\n",
    "        image[(x, y)] = 1 if pixel == '#' else 0"
   ]
  },
  {
   "cell_type": "code",
   "execution_count": 2,
   "id": "95220c3b",
   "metadata": {
    "ExecuteTime": {
     "end_time": "2021-12-31T18:06:21.849664Z",
     "start_time": "2021-12-31T18:06:21.843053Z"
    }
   },
   "outputs": [],
   "source": [
    "def enhance(image, enhancer, void):\n",
    "    \n",
    "    new_image = {}\n",
    "    min_x, min_y = min(image.keys())\n",
    "    max_x, max_y = max(image.keys())\n",
    "    \n",
    "    for x in range(min_x - 1, max_x + 2):\n",
    "        for y in range(min_y - 1, max_y + 2):\n",
    "            binary = ''\n",
    "            for incr_y in [-1, 0, 1]:\n",
    "                for incr_x in [-1, 0, 1]:\n",
    "                    if (x + incr_x, y + incr_y) in image:\n",
    "                        binary += str(image[(x + incr_x, y + incr_y)])\n",
    "                    else:\n",
    "                        binary += void\n",
    "            \n",
    "            binary = int(binary, 2)\n",
    "            new_image[(x, y)] = 1 if enhancer[binary] == '#' else 0\n",
    "            \n",
    "    return new_image\n",
    "\n",
    "def enhance_n_times(image, n):\n",
    "\n",
    "    for step in range(n):\n",
    "        void = '0'\n",
    "        if enhancer[0] == '#' and step % 2 == 1:\n",
    "            void = '1'\n",
    "\n",
    "        image = enhance(image, enhancer, void)\n",
    "\n",
    "    return sum(image.values())"
   ]
  },
  {
   "cell_type": "code",
   "execution_count": 3,
   "id": "2bb382da",
   "metadata": {
    "ExecuteTime": {
     "end_time": "2021-12-31T18:06:21.912239Z",
     "start_time": "2021-12-31T18:06:21.850468Z"
    }
   },
   "outputs": [
    {
     "name": "stdout",
     "output_type": "stream",
     "text": [
      "Solution: After 2 enhancements the image has 5203 pixels lit.\n"
     ]
    }
   ],
   "source": [
    "print(f\"Solution: After 2 enhancements the image has {enhance_n_times(image, 2)} pixels lit.\")"
   ]
  },
  {
   "cell_type": "markdown",
   "id": "e442eac9",
   "metadata": {},
   "source": [
    "<br>\n",
    "\n",
    "### Part Two \n",
    "\n",
    "You still can't quite make out the details in the image. Maybe you just didn't enhance it enough.\n",
    "\n",
    "If you enhance the starting input image in the above example a total of 50 times, 3351 pixels are lit in the final output image.\n",
    "\n",
    "Start again with the original input image and apply the image enhancement algorithm 50 times. How many pixels are lit in the resulting image?"
   ]
  },
  {
   "cell_type": "code",
   "execution_count": 4,
   "id": "67e2368b",
   "metadata": {
    "ExecuteTime": {
     "end_time": "2021-12-31T18:06:24.668397Z",
     "start_time": "2021-12-31T18:06:21.913209Z"
    }
   },
   "outputs": [
    {
     "name": "stdout",
     "output_type": "stream",
     "text": [
      "Solution: After 50 enhancements the image has 18806 pixels lit.\n"
     ]
    }
   ],
   "source": [
    "print(f\"Solution: After 50 enhancements the image has {enhance_n_times(image, 50)} pixels lit.\")"
   ]
  }
 ],
 "metadata": {
  "kernelspec": {
   "display_name": "Python 3 (ipykernel)",
   "language": "python",
   "name": "python3"
  },
  "language_info": {
   "codemirror_mode": {
    "name": "ipython",
    "version": 3
   },
   "file_extension": ".py",
   "mimetype": "text/x-python",
   "name": "python",
   "nbconvert_exporter": "python",
   "pygments_lexer": "ipython3",
   "version": "3.9.9"
  }
 },
 "nbformat": 4,
 "nbformat_minor": 5
}
