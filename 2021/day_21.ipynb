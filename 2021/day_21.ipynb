{
 "cells": [
  {
   "cell_type": "markdown",
   "id": "3f5abba8",
   "metadata": {},
   "source": [
    "### Day 21: Dirac Dice\n",
    "\n",
    "There's not much to do as you slowly descend to the bottom of the ocean. The submarine computer challenges you to a nice game of Dirac Dice.\n",
    "\n",
    "This game consists of a single die, two pawns, and a game board with a circular track containing ten spaces marked 1 through 10 clockwise. Each player's starting space is chosen randomly (your puzzle input). Player 1 goes first.\n",
    "\n",
    "Players take turns moving. On each player's turn, the player rolls the die three times and adds up the results. Then, the player moves their pawn that many times forward around the track (that is, moving clockwise on spaces in order of increasing value, wrapping back around to 1 after 10). So, if a player is on space 7 and they roll 2, 2, and 1, they would move forward 5 times, to spaces 8, 9, 10, 1, and finally stopping on 2.\n",
    "\n",
    "After each player moves, they increase their score by the value of the space their pawn stopped on. Players' scores start at 0. So, if the first player starts on space 7 and rolls a total of 5, they would stop on space 2 and add 2 to their score (for a total score of 2). The game immediately ends as a win for any player whose score reaches at least 1000.\n",
    "\n",
    "Since the first game is a practice game, the submarine opens a compartment labeled deterministic dice and a 100-sided die falls out. This die always rolls 1 first, then 2, then 3, and so on up to 100, after which it starts over at 1 again. Play using this die.\n",
    "\n",
    "For example, given these starting positions:\n",
    "\n",
    "    Player 1 starting position: 4\n",
    "    Player 2 starting position: 8\n",
    "    \n",
    "This is how the game would go:\n",
    "\n",
    "    Player 1 rolls 1+2+3 and moves to space 10 for a total score of 10.\n",
    "    Player 2 rolls 4+5+6 and moves to space 3 for a total score of 3.\n",
    "    Player 1 rolls 7+8+9 and moves to space 4 for a total score of 14.\n",
    "    Player 2 rolls 10+11+12 and moves to space 6 for a total score of 9.\n",
    "    Player 1 rolls 13+14+15 and moves to space 6 for a total score of 20.\n",
    "    Player 2 rolls 16+17+18 and moves to space 7 for a total score of 16.\n",
    "    Player 1 rolls 19+20+21 and moves to space 6 for a total score of 26.\n",
    "    Player 2 rolls 22+23+24 and moves to space 6 for a total score of 22.\n",
    "    \n",
    "...after many turns...\n",
    "\n",
    "    Player 2 rolls 82+83+84 and moves to space 6 for a total score of 742.\n",
    "    Player 1 rolls 85+86+87 and moves to space 4 for a total score of 990.\n",
    "    Player 2 rolls 88+89+90 and moves to space 3 for a total score of 745.\n",
    "    Player 1 rolls 91+92+93 and moves to space 10 for a final score, 1000.\n",
    "    \n",
    "Since player 1 has at least 1000 points, player 1 wins and the game ends. At this point, the losing player had 745 points and the die had been rolled a total of 993 times; 745 * 993 = 739785.\n",
    "\n",
    "Play a practice game using the deterministic 100-sided die. The moment either player wins, what do you get if you multiply the score of the losing player by the number of times the die was rolled during the game?"
   ]
  },
  {
   "cell_type": "code",
   "execution_count": 1,
   "id": "b208c904",
   "metadata": {
    "ExecuteTime": {
     "end_time": "2022-01-02T10:59:35.653989Z",
     "start_time": "2022-01-02T10:59:35.582960Z"
    }
   },
   "outputs": [],
   "source": [
    "import numpy as np"
   ]
  },
  {
   "cell_type": "code",
   "execution_count": 2,
   "id": "9876193d",
   "metadata": {
    "ExecuteTime": {
     "end_time": "2022-01-02T10:59:35.677675Z",
     "start_time": "2022-01-02T10:59:35.662712Z"
    }
   },
   "outputs": [],
   "source": [
    "with open('data/advent_21.txt', 'r') as f:\n",
    "    players = f.read().rstrip('\\n').split('\\n')\n",
    "\n",
    "players = [int(player.split('starting position: ')[1]) for player in players]"
   ]
  },
  {
   "cell_type": "code",
   "execution_count": 3,
   "id": "1996dedd",
   "metadata": {
    "ExecuteTime": {
     "end_time": "2022-01-02T10:59:35.692048Z",
     "start_time": "2022-01-02T10:59:35.681095Z"
    }
   },
   "outputs": [],
   "source": [
    "def play(players):\n",
    "    dice = np.array([1, 2, 3])\n",
    "    scores = [0] * len(players)\n",
    "    count = 0\n",
    "    \n",
    "    while True:\n",
    "        for i, player in enumerate(players):\n",
    "            count += 1\n",
    "            players[i] = (((player + sum(dice)) - 1) % 10) + 1\n",
    "            scores[i] += players[i]\n",
    "\n",
    "            dice += 3\n",
    "\n",
    "            if scores[i] >= 1000:\n",
    "                return min(scores) * count * 3"
   ]
  },
  {
   "cell_type": "code",
   "execution_count": 4,
   "id": "c1ebc2b4",
   "metadata": {
    "ExecuteTime": {
     "end_time": "2022-01-02T10:59:35.708744Z",
     "start_time": "2022-01-02T10:59:35.698297Z"
    }
   },
   "outputs": [
    {
     "name": "stdout",
     "output_type": "stream",
     "text": [
      "Solution: The final score is 742257.\n"
     ]
    }
   ],
   "source": [
    "print(f\"Solution: The final score is {play(players)}.\")"
   ]
  },
  {
   "cell_type": "markdown",
   "id": "d55d1063",
   "metadata": {},
   "source": [
    "<br>\n",
    "\n",
    "### Part Two\n",
    "\n",
    "Now that you're warmed up, it's time to play the real game.\n",
    "\n",
    "A second compartment opens, this time labeled Dirac dice. Out of it falls a single three-sided die.\n",
    "\n",
    "As you experiment with the die, you feel a little strange. An informational brochure in the compartment explains that this is a quantum die: when you roll it, the universe splits into multiple copies, one copy for each possible outcome of the die. In this case, rolling the die always splits the universe into three copies: one where the outcome of the roll was 1, one where it was 2, and one where it was 3.\n",
    "\n",
    "The game is played the same as before, although to prevent things from getting too far out of hand, the game now ends when either player's score reaches at least 21.\n",
    "\n",
    "Using the same starting positions as in the example above, player 1 wins in 444356092776315 universes, while player 2 merely wins in 341960390180808 universes.\n",
    "\n",
    "Using your given starting positions, determine every possible outcome. Find the player that wins in more universes; in how many universes does that player win?"
   ]
  },
  {
   "cell_type": "code",
   "execution_count": 5,
   "id": "ab3a86ab",
   "metadata": {
    "ExecuteTime": {
     "end_time": "2022-01-02T10:59:35.726858Z",
     "start_time": "2022-01-02T10:59:35.720917Z"
    }
   },
   "outputs": [],
   "source": [
    "import itertools"
   ]
  },
  {
   "cell_type": "code",
   "execution_count": 6,
   "id": "7de3124e",
   "metadata": {
    "ExecuteTime": {
     "end_time": "2022-01-02T10:59:35.737299Z",
     "start_time": "2022-01-02T10:59:35.732314Z"
    }
   },
   "outputs": [],
   "source": [
    "dices = [sum(dices) for dices in list(itertools.product(*([[1, 2, 3]] * 3)))]"
   ]
  },
  {
   "cell_type": "code",
   "execution_count": 7,
   "id": "3186531c",
   "metadata": {
    "ExecuteTime": {
     "end_time": "2022-01-02T10:59:35.742569Z",
     "start_time": "2022-01-02T10:59:35.739142Z"
    }
   },
   "outputs": [],
   "source": [
    "GAMES = {} \n",
    "def play(pos1, score1, pos2, score2):\n",
    "\n",
    "    if score1 >= 21:\n",
    "        return 1, 0\n",
    "    \n",
    "    if score2 >= 21:\n",
    "        return 0, 1\n",
    "    \n",
    "    if (pos1, score1, pos2, score2) in GAMES:\n",
    "        return GAMES[(pos1, score1, pos2, score2)]\n",
    "    \n",
    "    winns = 0, 0\n",
    "    for dice in dices:\n",
    "        \n",
    "        new_pos1 = (((pos1 + dice) - 1) % 10) + 1\n",
    "        new_score1 = score1 + new_pos1\n",
    "\n",
    "        winns1, winns2 = play(pos2, score2, new_pos1, new_score1)\n",
    "        winns = (winns[0] + winns2, winns[1] + winns1)\n",
    "\n",
    "    GAMES[(pos1, score1, pos2, score2)] = winns\n",
    "    return winns"
   ]
  },
  {
   "cell_type": "code",
   "execution_count": 8,
   "id": "6d4d1dfd",
   "metadata": {
    "ExecuteTime": {
     "end_time": "2022-01-02T10:59:36.165864Z",
     "start_time": "2022-01-02T10:59:35.744387Z"
    }
   },
   "outputs": [
    {
     "name": "stdout",
     "output_type": "stream",
     "text": [
      "Solution: The player the won in more universes has 93726416205179 wins.\n"
     ]
    }
   ],
   "source": [
    "print(f\"Solution: The player the won in more universes has {max(play(players[0], 0, players[1], 0))} wins.\")"
   ]
  }
 ],
 "metadata": {
  "kernelspec": {
   "display_name": "Python 3 (ipykernel)",
   "language": "python",
   "name": "python3"
  },
  "language_info": {
   "codemirror_mode": {
    "name": "ipython",
    "version": 3
   },
   "file_extension": ".py",
   "mimetype": "text/x-python",
   "name": "python",
   "nbconvert_exporter": "python",
   "pygments_lexer": "ipython3",
   "version": "3.9.9"
  }
 },
 "nbformat": 4,
 "nbformat_minor": 5
}
