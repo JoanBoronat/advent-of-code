{
 "cells": [
  {
   "cell_type": "markdown",
   "id": "1403501f",
   "metadata": {},
   "source": [
    "### Day 7: The Treachery of Whales\n",
    "\n",
    "A giant whale has decided your submarine is its next meal, and it's much faster than you are. There's nowhere to run!\n",
    "\n",
    "Suddenly, a swarm of crabs (each in its own tiny submarine - it's too deep for them otherwise) zooms in to rescue you! They seem to be preparing to blast a hole in the ocean floor; sensors indicate a massive underground cave system just beyond where they're aiming!\n",
    "\n",
    "The crab submarines all need to be aligned before they'll have enough power to blast a large enough hole for your submarine to get through. However, it doesn't look like they'll be aligned before the whale catches you! Maybe you can help?\n",
    "\n",
    "There's one major catch - crab submarines can only move horizontally.\n",
    "\n",
    "You quickly make a list of the horizontal position of each crab (your puzzle input). Crab submarines have limited fuel, so you need to find a way to make all of their horizontal positions match while requiring them to spend as little fuel as possible.\n",
    "\n",
    "For example, consider the following horizontal positions:\n",
    "\n",
    "    16,1,2,0,4,2,7,1,2,14\n",
    "    \n",
    "This means there's a crab with horizontal position 16, a crab with horizontal position 1, and so on.\n",
    "\n",
    "Each change of 1 step in horizontal position of a single crab costs 1 fuel. You could choose any horizontal position to align them all on, but the one that costs the least fuel is horizontal position 2:\n",
    "\n",
    "    Move from 16 to 2: 14 fuel\n",
    "    Move from 1 to 2: 1 fuel\n",
    "    Move from 2 to 2: 0 fuel\n",
    "    Move from 0 to 2: 2 fuel\n",
    "    Move from 4 to 2: 2 fuel\n",
    "    Move from 2 to 2: 0 fuel\n",
    "    Move from 7 to 2: 5 fuel\n",
    "    Move from 1 to 2: 1 fuel\n",
    "    Move from 2 to 2: 0 fuel\n",
    "    Move from 14 to 2: 12 fuel\n",
    "    \n",
    "This costs a total of 37 fuel. This is the cheapest possible outcome; more expensive outcomes include aligning at position 1 (41 fuel), position 3 (39 fuel), or position 10 (71 fuel).\n",
    "\n",
    "Determine the horizontal position that the crabs can align to using the least fuel possible. How much fuel must they spend to align to that position?"
   ]
  },
  {
   "cell_type": "code",
   "execution_count": 1,
   "id": "de86b8f4",
   "metadata": {
    "ExecuteTime": {
     "end_time": "2021-12-07T10:03:41.696302Z",
     "start_time": "2021-12-07T10:03:41.688881Z"
    }
   },
   "outputs": [],
   "source": [
    "with open('data/advent_07.txt', 'r') as f:\n",
    "    positions = list(map(int, f.read().split(',')))"
   ]
  },
  {
   "cell_type": "code",
   "execution_count": 2,
   "id": "67e1aa76",
   "metadata": {
    "ExecuteTime": {
     "end_time": "2021-12-07T10:03:41.823458Z",
     "start_time": "2021-12-07T10:03:41.698624Z"
    }
   },
   "outputs": [],
   "source": [
    "min_fuel = None\n",
    "for target_position in positions:\n",
    "    fuel = 0\n",
    "    \n",
    "    for position in positions:\n",
    "        fuel += abs(target_position - position)\n",
    "        \n",
    "    if min_fuel is None or fuel < min_fuel:\n",
    "        min_fuel = fuel"
   ]
  },
  {
   "cell_type": "code",
   "execution_count": 3,
   "id": "280f0d06",
   "metadata": {
    "ExecuteTime": {
     "end_time": "2021-12-07T10:03:41.826710Z",
     "start_time": "2021-12-07T10:03:41.824499Z"
    }
   },
   "outputs": [
    {
     "name": "stdout",
     "output_type": "stream",
     "text": [
      "Solution: The minimum fuel spend will be 359648.\n"
     ]
    }
   ],
   "source": [
    "print(f\"Solution: The minimum fuel spend will be {min_fuel}.\") "
   ]
  },
  {
   "cell_type": "markdown",
   "id": "9accaa45",
   "metadata": {},
   "source": [
    "### Part Two\n",
    "\n",
    "The crabs don't seem interested in your proposed solution. Perhaps you misunderstand crab engineering?\n",
    "\n",
    "As it turns out, crab submarine engines don't burn fuel at a constant rate. Instead, each change of 1 step in horizontal position costs 1 more unit of fuel than the last: the first step costs 1, the second step costs 2, the third step costs 3, and so on.\n",
    "\n",
    "As each crab moves, moving further becomes more expensive. This changes the best horizontal position to align them all on; in the example above, this becomes 5:\n",
    "\n",
    "    Move from 16 to 5: 66 fuel\n",
    "    Move from 1 to 5: 10 fuel\n",
    "    Move from 2 to 5: 6 fuel\n",
    "    Move from 0 to 5: 15 fuel\n",
    "    Move from 4 to 5: 1 fuel\n",
    "    Move from 2 to 5: 6 fuel\n",
    "    Move from 7 to 5: 3 fuel\n",
    "    Move from 1 to 5: 10 fuel\n",
    "    Move from 2 to 5: 6 fuel\n",
    "    Move from 14 to 5: 45 fuel\n",
    "    \n",
    "This costs a total of 168 fuel. This is the new cheapest possible outcome; the old alignment position (2) now costs 206 fuel instead.\n",
    "\n",
    "Determine the horizontal position that the crabs can align to using the least fuel possible so they can make you an escape route! How much fuel must they spend to align to that position?"
   ]
  },
  {
   "cell_type": "code",
   "execution_count": 4,
   "id": "66de5df8",
   "metadata": {
    "ExecuteTime": {
     "end_time": "2021-12-07T10:03:41.976699Z",
     "start_time": "2021-12-07T10:03:41.827710Z"
    }
   },
   "outputs": [],
   "source": [
    "min_fuel = None\n",
    "for target_position in positions:\n",
    "    fuel = 0\n",
    "    \n",
    "    for position in positions:\n",
    "        distance = abs(target_position - position)\n",
    "        fuel += (distance / 2) * (1 + distance)\n",
    "        \n",
    "    if min_fuel is None or fuel < min_fuel:\n",
    "        min_fuel = fuel"
   ]
  },
  {
   "cell_type": "code",
   "execution_count": 5,
   "id": "4042e6ea",
   "metadata": {
    "ExecuteTime": {
     "end_time": "2021-12-07T10:03:41.978958Z",
     "start_time": "2021-12-07T10:03:41.977371Z"
    }
   },
   "outputs": [
    {
     "name": "stdout",
     "output_type": "stream",
     "text": [
      "Solution: The minimum fuel spend will be 100727924.\n"
     ]
    }
   ],
   "source": [
    "print(f\"Solution: The minimum fuel spend will be {min_fuel:.0f}.\") "
   ]
  }
 ],
 "metadata": {
  "kernelspec": {
   "display_name": "Python 3 (ipykernel)",
   "language": "python",
   "name": "python3"
  },
  "language_info": {
   "codemirror_mode": {
    "name": "ipython",
    "version": 3
   },
   "file_extension": ".py",
   "mimetype": "text/x-python",
   "name": "python",
   "nbconvert_exporter": "python",
   "pygments_lexer": "ipython3",
   "version": "3.9.9"
  }
 },
 "nbformat": 4,
 "nbformat_minor": 5
}
