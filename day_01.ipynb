{
 "cells": [
  {
   "cell_type": "markdown",
   "metadata": {},
   "source": [
    "### Day 1: Report Repair"
   ]
  },
  {
   "cell_type": "markdown",
   "metadata": {},
   "source": [
    "After saving Christmas five years in a row, you've decided to take a vacation at a nice resort on a tropical island. Surely, Christmas will go on without you.\n",
    "\n",
    "The tropical island has its own currency and is entirely cash-only. The gold coins used there have a little picture of a starfish; the locals just call them stars. None of the currency exchanges seem to have heard of them, but somehow, you'll need to find fifty of these coins by the time you arrive so you can pay the deposit on your room.\n",
    "\n",
    "To save your vacation, you need to get all fifty stars by December 25th.\n",
    "\n",
    "Collect stars by solving puzzles. Two puzzles will be made available on each day in the Advent calendar; the second puzzle is unlocked when you complete the first. Each puzzle grants one star. Good luck!\n",
    "\n",
    "Before you leave, the Elves in accounting just need you to fix your expense report (your puzzle input); apparently, something isn't quite adding up.\n",
    "\n",
    "Specifically, they need you to find the two entries that sum to 2020 and then multiply those two numbers together.\n",
    "\n",
    "For example, suppose your expense report contained the following:\n",
    "\n",
    "> 1721, 979, 366, 299, 675, 1456\n",
    "\n",
    "In this list, the two entries that sum to 2020 are 1721 and 299. Multiplying them together produces 1721 * 299 = 514579, so the correct answer is 514579.\n",
    "\n",
    "Of course, your expense report is much larger. Find the two entries that sum to 2020; what do you get if you multiply them together?"
   ]
  },
  {
   "cell_type": "code",
   "execution_count": 1,
   "metadata": {
    "ExecuteTime": {
     "end_time": "2020-12-08T21:02:46.136537Z",
     "start_time": "2020-12-08T21:02:46.129970Z"
    }
   },
   "outputs": [],
   "source": [
    "with open('data/advent_01.txt', 'r') as f:\n",
    "    expense_report = [line.rstrip('\\n') for line in f.readlines()]\n",
    "\n",
    "list_numbers = list(map(int, expense_report))"
   ]
  },
  {
   "cell_type": "code",
   "execution_count": 2,
   "metadata": {
    "ExecuteTime": {
     "end_time": "2020-12-08T21:02:46.146132Z",
     "start_time": "2020-12-08T21:02:46.139406Z"
    }
   },
   "outputs": [],
   "source": [
    "def find_sum(list_numbers, sum_value):\n",
    "    list_numbers.sort()\n",
    "    i, j = 0, len(list_numbers) - 1\n",
    "    \n",
    "    result = list_numbers[i] + list_numbers[j]\n",
    "    while result != sum_value:\n",
    "        i, j = (i, j-1) if result > sum_value else (i+1, j)\n",
    "        result = list_numbers[i] + list_numbers[j]\n",
    "        if i > len(list_numbers) or j < 0 or i == j:\n",
    "            return None\n",
    "        \n",
    "    return list_numbers[i], list_numbers[j]"
   ]
  },
  {
   "cell_type": "code",
   "execution_count": 3,
   "metadata": {
    "ExecuteTime": {
     "end_time": "2020-12-08T21:02:46.153502Z",
     "start_time": "2020-12-08T21:02:46.149055Z"
    }
   },
   "outputs": [
    {
     "name": "stdout",
     "output_type": "stream",
     "text": [
      "The two numbers that sum 2020 are 28 and 1992.\n",
      "Solution: 28 * 1992 = 55776\n"
     ]
    }
   ],
   "source": [
    "a, b = find_sum(list_numbers, 2020)\n",
    "print(\"The two numbers that sum 2020 are {} and {}.\".format(a, b))\n",
    "print(\"Solution: {} * {} = {}\".format(a, b, a*b))"
   ]
  },
  {
   "cell_type": "markdown",
   "metadata": {},
   "source": [
    "<br>\n",
    "\n",
    "### Part two"
   ]
  },
  {
   "cell_type": "markdown",
   "metadata": {},
   "source": [
    "The Elves in accounting are thankful for your help; one of them even offers you a starfish coin they had left over from a past vacation. They offer you a second one if you can find three numbers in your expense report that meet the same criteria.\n",
    "\n",
    "Using the above example again, the three entries that sum to 2020 are 979, 366, and 675. Multiplying them together produces the answer, 241861950.\n",
    "\n",
    "In your expense report, what is the product of the three entries that sum to 2020?"
   ]
  },
  {
   "cell_type": "code",
   "execution_count": 4,
   "metadata": {
    "ExecuteTime": {
     "end_time": "2020-12-08T21:02:46.161800Z",
     "start_time": "2020-12-08T21:02:46.156398Z"
    }
   },
   "outputs": [],
   "source": [
    "elem = list_numbers.pop(0)\n",
    "result = find_sum(list_numbers, 2020 - elem)\n",
    "\n",
    "while result is None:\n",
    "    list_numbers.append(elem)\n",
    "    elem = list_numbers.pop(0)\n",
    "    result = find_sum(list_numbers, 2020 - elem)\n",
    "    \n",
    "a, b = result"
   ]
  },
  {
   "cell_type": "code",
   "execution_count": 5,
   "metadata": {
    "ExecuteTime": {
     "end_time": "2020-12-08T21:02:46.167539Z",
     "start_time": "2020-12-08T21:02:46.163950Z"
    }
   },
   "outputs": [
    {
     "name": "stdout",
     "output_type": "stream",
     "text": [
      "The three numbers that sum 2020 are 723, 983 and 314.\n",
      "Solution: 723 * 983 * 314 = 223162626\n"
     ]
    }
   ],
   "source": [
    "print(\"The three numbers that sum 2020 are {}, {} and {}.\".format(a, b, elem))\n",
    "print(\"Solution: {} * {} * {} = {}\".format(a, b, elem, a*b*elem))"
   ]
  }
 ],
 "metadata": {
  "kernelspec": {
   "display_name": "Python 3",
   "language": "python",
   "name": "python3"
  },
  "language_info": {
   "codemirror_mode": {
    "name": "ipython",
    "version": 3
   },
   "file_extension": ".py",
   "mimetype": "text/x-python",
   "name": "python",
   "nbconvert_exporter": "python",
   "pygments_lexer": "ipython3",
   "version": "3.7.7"
  }
 },
 "nbformat": 4,
 "nbformat_minor": 4
}
