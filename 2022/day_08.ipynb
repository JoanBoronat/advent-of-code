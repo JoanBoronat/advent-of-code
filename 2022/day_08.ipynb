{
 "cells": [
  {
   "cell_type": "markdown",
   "metadata": {},
   "source": [
    "# Day 8: Treetop Tree House\n",
    "\n",
    "The expedition comes across a peculiar patch of tall trees all planted carefully in a grid. The Elves explain that a previous expedition planted these trees as a reforestation effort. Now, they're curious if this would be a good location for a tree house.\n",
    "\n",
    "First, determine whether there is enough tree cover here to keep a tree house hidden. To do this, you need to count the number of trees that are visible from outside the grid when looking directly along a row or column.\n",
    "\n",
    "The Elves have already launched a quadcopter to generate a map with the height of each tree (your puzzle input). For example:\n",
    "\n",
    "    30373\n",
    "    25512\n",
    "    65332\n",
    "    33549\n",
    "    35390\n",
    "\n",
    "Each tree is represented as a single digit whose value is its height, where 0 is the shortest and 9 is the tallest.\n",
    "\n",
    "A tree is visible if all of the other trees between it and an edge of the grid are shorter than it. Only consider trees in the same row or column; that is, only look up, down, left, or right from any given tree.\n",
    "\n",
    "All of the trees around the edge of the grid are visible - since they are already on the edge, there are no trees to block the view. In this example, that only leaves the interior nine trees to consider:\n",
    "\n",
    "- The top-left 5 is visible from the left and top. (It isn't visible from the right or bottom since other trees of height 5 are in the way.)\n",
    "- The top-middle 5 is visible from the top and right.\n",
    "- The top-right 1 is not visible from any direction; for it to be visible, there would need to only be trees of height 0 between it and an edge.\n",
    "- The left-middle 5 is visible, but only from the right.\n",
    "- The center 3 is not visible from any direction; for it to be visible, there would need to be only trees of at most height 2 between it and an edge.\n",
    "- The right-middle 3 is visible from the right.\n",
    "- In the bottom row, the middle 5 is visible, but the 3 and 4 are not.\n",
    "\n",
    "With 16 trees visible on the edge and another 5 visible in the interior, a total of 21 trees are visible in this arrangement.\n",
    "\n",
    "Consider your map; how many trees are visible from outside the grid?"
   ]
  },
  {
   "cell_type": "code",
   "execution_count": 1,
   "metadata": {},
   "outputs": [],
   "source": [
    "with open('data/advent_08.txt') as f:\n",
    "    forest = [list(map(int, list(line))) for line in f.read().split('\\n')]"
   ]
  },
  {
   "cell_type": "code",
   "execution_count": 2,
   "metadata": {},
   "outputs": [],
   "source": [
    "visibility = [[0] * len(forest[0]) for _ in forest]"
   ]
  },
  {
   "cell_type": "code",
   "execution_count": 3,
   "metadata": {},
   "outputs": [],
   "source": [
    "# Iterate from left to right\n",
    "for i in range(len(forest)):\n",
    "    line_max = -1\n",
    "    for j in range(len(forest[i])):\n",
    "        height = forest[i][j]\n",
    "        if height > line_max:\n",
    "            visibility[i][j] = 1\n",
    "            line_max = height\n",
    "\n",
    "# Iterate from right to left\n",
    "for i in range(len(forest)):\n",
    "    line_max = -1\n",
    "    for j in range(len(forest[i])-1, -1, -1):\n",
    "        height = forest[i][j]\n",
    "        if height > line_max:\n",
    "            visibility[i][j] = 1\n",
    "            line_max = height\n",
    "\n",
    "# Iterate from top to bottom\n",
    "for j in range(len(forest[0])):\n",
    "    line_max = -1\n",
    "    for i in range(len(forest)):\n",
    "        height = forest[i][j]\n",
    "        if height > line_max:\n",
    "            visibility[i][j] = 1\n",
    "            line_max = height\n",
    "\n",
    "# Iterate from bottom to top\n",
    "for j in range(len(forest[0])):\n",
    "    line_max = -1\n",
    "    for i in range(len(forest)-1, -1, -1):\n",
    "        height = forest[i][j]\n",
    "        if height > line_max:\n",
    "            visibility[i][j] = 1\n",
    "            line_max = height\n"
   ]
  },
  {
   "cell_type": "code",
   "execution_count": 4,
   "metadata": {},
   "outputs": [
    {
     "name": "stdout",
     "output_type": "stream",
     "text": [
      "Solution: There are 1829 visible trees\n"
     ]
    }
   ],
   "source": [
    "result = sum(sum(row) for row in visibility)\n",
    "\n",
    "print(f\"Solution: There are {result} visible trees\")"
   ]
  },
  {
   "cell_type": "markdown",
   "metadata": {},
   "source": [
    "Content with the amount of tree cover available, the Elves just need to know the best spot to build their tree house: they would like to be able to see a lot of trees.\n",
    "\n",
    "To measure the viewing distance from a given tree, look up, down, left, and right from that tree; stop if you reach an edge or at the first tree that is the same height or taller than the tree under consideration. (If a tree is right on the edge, at least one of its viewing distances will be zero.)\n",
    "\n",
    "The Elves don't care about distant trees taller than those found by the rules above; the proposed tree house has large eaves to keep it dry, so they wouldn't be able to see higher than the tree house anyway.\n",
    "\n",
    "In the example above, consider the middle 5 in the second row:\n",
    "\n",
    "    30373\n",
    "    25512\n",
    "    65332\n",
    "    33549\n",
    "    35390\n",
    "\n",
    "- Looking up, its view is not blocked; it can see 1 tree (of height 3).\n",
    "- Looking left, its view is blocked immediately; it can see only 1 tree (of height 5, right next to it).\n",
    "- Looking right, its view is not blocked; it can see 2 trees.\n",
    "- Looking down, its view is blocked eventually; it can see 2 trees (one of height 3, then the tree of height 5 that blocks its view).\n",
    "\n",
    "A tree's scenic score is found by multiplying together its viewing distance in each of the four directions. For this tree, this is 4 (found by multiplying 1 * 1 * 2 * 2).\n",
    "\n",
    "However, you can do even better: consider the tree of height 5 in the middle of the fourth row:\n",
    "\n",
    "    30373\n",
    "    25512\n",
    "    65332\n",
    "    33549\n",
    "    35390\n",
    "\n",
    "- Looking up, its view is blocked at 2 trees (by another tree with a height of 5).\n",
    "- Looking left, its view is not blocked; it can see 2 trees.\n",
    "- Looking down, its view is also not blocked; it can see 1 tree.\n",
    "- Looking right, its view is blocked at 2 trees (by a massive tree of height 9).\n",
    "\n",
    "This tree's scenic score is 8 (2 * 2 * 1 * 2); this is the ideal spot for the tree house.\n",
    "\n",
    "Consider each tree on your map. What is the highest scenic score possible for any tree?"
   ]
  },
  {
   "cell_type": "code",
   "execution_count": 5,
   "metadata": {},
   "outputs": [],
   "source": [
    "# Function to calculate scenic score for a tree at position (i, j)\n",
    "def calculate_scenic_score(i, j):\n",
    "    height = forest[i][j]\n",
    "    score = 1\n",
    "    \n",
    "    # Check top\n",
    "    top_count = 0\n",
    "    for row in range(i-1, -1, -1):\n",
    "        top_count += 1\n",
    "        if forest[row][j] >= height:\n",
    "            break\n",
    "    score *= top_count\n",
    "\n",
    "    # Check right\n",
    "    right_count = 0\n",
    "    for col in range(j+1, len(forest[0])):\n",
    "        right_count += 1\n",
    "        if forest[i][col] >= height:\n",
    "            break\n",
    "    score *= right_count\n",
    "\n",
    "    # Check bottom\n",
    "    bottom_count = 0\n",
    "    for row in range(i+1, len(forest)):\n",
    "        bottom_count += 1\n",
    "        if forest[row][j] >= height:\n",
    "            break\n",
    "    score *= bottom_count\n",
    "\n",
    "    # Check left\n",
    "    left_count = 0\n",
    "    for col in range(j-1, -1, -1):\n",
    "        left_count += 1\n",
    "        if forest[i][col] >= height:\n",
    "            break\n",
    "    score *= left_count\n",
    "\n",
    "    return score\n"
   ]
  },
  {
   "cell_type": "code",
   "execution_count": 6,
   "metadata": {},
   "outputs": [],
   "source": [
    "visibility = [[0] * len(forest[0]) for _ in forest]"
   ]
  },
  {
   "cell_type": "code",
   "execution_count": 7,
   "metadata": {},
   "outputs": [
    {
     "name": "stdout",
     "output_type": "stream",
     "text": [
      "The highest scenic score possible is: 291840\n"
     ]
    }
   ],
   "source": [
    "# Iterate through each position in the forest and calculate scenic score\n",
    "for i in range(len(forest)):\n",
    "    for j in range(len(forest[0])):\n",
    "        visibility[i][j] = calculate_scenic_score(i, j)\n",
    "\n",
    "# Find the maximum scenic score\n",
    "max_scenic_score = max(max(row) for row in visibility)\n",
    "print(f\"The highest scenic score possible is: {max_scenic_score}\")\n"
   ]
  }
 ],
 "metadata": {
  "kernelspec": {
   "display_name": "dev",
   "language": "python",
   "name": "python3"
  },
  "language_info": {
   "codemirror_mode": {
    "name": "ipython",
    "version": 3
   },
   "file_extension": ".py",
   "mimetype": "text/x-python",
   "name": "python",
   "nbconvert_exporter": "python",
   "pygments_lexer": "ipython3",
   "version": "3.9.18"
  }
 },
 "nbformat": 4,
 "nbformat_minor": 2
}
