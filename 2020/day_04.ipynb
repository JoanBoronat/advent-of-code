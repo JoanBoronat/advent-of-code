{
 "cells": [
  {
   "cell_type": "markdown",
   "metadata": {},
   "source": [
    "### Day 4: Passport Processing"
   ]
  },
  {
   "cell_type": "markdown",
   "metadata": {},
   "source": [
    "You arrive at the airport only to realize that you grabbed your North Pole Credentials instead of your passport. While these documents are extremely similar, North Pole Credentials aren't issued by a country and therefore aren't actually valid documentation for travel in most of the world.\n",
    "\n",
    "It seems like you're not the only one having problems, though; a very long line has formed for the automatic passport scanners, and the delay could upset your travel itinerary.\n",
    "\n",
    "Due to some questionable network security, you realize you might be able to solve both of these problems at the same time.\n",
    "\n",
    "The automatic passport scanners are slow because they're having trouble detecting which passports have all required fields. The expected fields are as follows:\n",
    "\n",
    "    byr (Birth Year)\n",
    "    iyr (Issue Year)\n",
    "    eyr (Expiration Year)\n",
    "    hgt (Height)\n",
    "    hcl (Hair Color)\n",
    "    ecl (Eye Color)\n",
    "    pid (Passport ID)\n",
    "    cid (Country ID)\n",
    "\n",
    "Passport data is validated in batch files (your puzzle input). Each passport is represented as a sequence of key:value pairs separated by spaces or newlines. Passports are separated by blank lines.\n",
    "\n",
    "Here is an example batch file containing four passports:\n",
    "\n",
    "    ecl:gry pid:860033327 eyr:2020 hcl:#fffffd\n",
    "    byr:1937 iyr:2017 cid:147 hgt:183cm\n",
    "\n",
    "    iyr:2013 ecl:amb cid:350 eyr:2023 pid:028048884\n",
    "    hcl:#cfa07d byr:1929\n",
    "\n",
    "    hcl:#ae17e1 iyr:2013\n",
    "    eyr:2024\n",
    "    ecl:brn pid:760753108 byr:1931\n",
    "    hgt:179cm\n",
    "\n",
    "    hcl:#cfa07d eyr:2025 pid:166559648\n",
    "    iyr:2011 ecl:brn hgt:59in\n",
    "    \n",
    "The first passport is valid - all eight fields are present. The second passport is invalid - it is missing hgt (the Height field).\n",
    "\n",
    "The third passport is interesting; the only missing field is cid, so it looks like data from North Pole Credentials, not a passport at all! Surely, nobody would mind if you made the system temporarily ignore missing cid fields. Treat this \"passport\" as valid.\n",
    "\n",
    "The fourth passport is missing two fields, cid and byr. Missing cid is fine, but missing any other field is not, so this passport is invalid.\n",
    "\n",
    "According to the above rules, your improved system would report 2 valid passports.\n",
    "\n",
    "\n",
    "Count the number of valid passports - those that have all required fields. Treat cid as optional. In your batch file, how many passports are valid?"
   ]
  },
  {
   "cell_type": "code",
   "execution_count": 1,
   "metadata": {
    "ExecuteTime": {
     "end_time": "2020-12-08T21:03:30.038635Z",
     "start_time": "2020-12-08T21:03:30.031951Z"
    }
   },
   "outputs": [],
   "source": [
    "import re\n",
    "\n",
    "with open(\"data/advent_04.txt\", \"r\") as f:\n",
    "    passports = f.read()\n",
    "    passports = passports.split('\\n\\n')\n",
    "    passports = [passport.replace('\\n', ' ') for passport in passports]"
   ]
  },
  {
   "cell_type": "code",
   "execution_count": 2,
   "metadata": {
    "ExecuteTime": {
     "end_time": "2020-12-08T21:03:30.047149Z",
     "start_time": "2020-12-08T21:03:30.041551Z"
    }
   },
   "outputs": [
    {
     "name": "stdout",
     "output_type": "stream",
     "text": [
      "Solution: The number of valid passports is 213.\n"
     ]
    }
   ],
   "source": [
    "mandatory_fields = ['byr', 'iyr', 'eyr', 'hgt', 'hcl', 'ecl', 'pid']\n",
    "\n",
    "passports_validated = [all([field in p for field in mandatory_fields]) for p in passports]\n",
    "print(\"Solution: The number of valid passports is {}.\".format(sum(passports_validated)))"
   ]
  },
  {
   "cell_type": "markdown",
   "metadata": {},
   "source": [
    "<br> \n",
    "\n",
    "### Part two\n",
    "\n",
    "The line is moving more quickly now, but you overhear airport security talking about how passports with invalid data are getting through. Better add some data validation, quick!\n",
    "\n",
    "You can continue to ignore the cid field, but each other field has strict rules about what values are valid for automatic validation:\n",
    "\n",
    "byr (Birth Year) - four digits; at least 1920 and at most 2002.\n",
    "iyr (Issue Year) - four digits; at least 2010 and at most 2020.\n",
    "eyr (Expiration Year) - four digits; at least 2020 and at most 2030.\n",
    "hgt (Height) - a number followed by either cm or in:\n",
    "If cm, the number must be at least 150 and at most 193.\n",
    "If in, the number must be at least 59 and at most 76.\n",
    "hcl (Hair Color) - a # followed by exactly six characters 0-9 or a-f.\n",
    "ecl (Eye Color) - exactly one of: amb blu brn gry grn hzl oth.\n",
    "pid (Passport ID) - a nine-digit number, including leading zeroes.\n",
    "cid (Country ID) - ignored, missing or not.\n",
    "Your job is to count the passports where all required fields are both present and valid according to the above rules.\n",
    "\n",
    "    byr valid:   2002\n",
    "    byr invalid: 2003\n",
    "\n",
    "    hgt valid:   60in\n",
    "    hgt valid:   190cm\n",
    "    hgt invalid: 190in\n",
    "    hgt invalid: 190\n",
    "\n",
    "    hcl valid:   #123abc\n",
    "    hcl invalid: #123abz\n",
    "    hcl invalid: 123abc\n",
    "\n",
    "    ecl valid:   brn\n",
    "    ecl invalid: wat\n",
    "\n",
    "    pid valid:   000000001\n",
    "    pid invalid: 0123456789\n",
    "    \n",
    "    \n",
    "    \n",
    "<br>\n",
    "Count the number of valid passports - those that have all required fields and valid values. Continue to treat cid as optional. In your batch file, how many passports are valid?"
   ]
  },
  {
   "cell_type": "code",
   "execution_count": 3,
   "metadata": {
    "ExecuteTime": {
     "end_time": "2020-12-08T21:03:30.058525Z",
     "start_time": "2020-12-08T21:03:30.049714Z"
    }
   },
   "outputs": [],
   "source": [
    "def is_passport_valid(passport):\n",
    "    \n",
    "    passport = {field[:3]: field[4:] for field in passport.split(' ')}\n",
    "    \n",
    "    if int(passport['byr']) < 1920 or int(passport['byr']) > 2002:\n",
    "        return 0\n",
    "\n",
    "    if int(passport['iyr']) < 2010 or int(passport['iyr']) > 2020:\n",
    "        return 0\n",
    "\n",
    "    if int(passport['eyr']) < 2020 or int(passport['eyr']) > 2030:\n",
    "        return 0\n",
    "    \n",
    "    if re.match('^\\d+(cm|in)$', passport['hgt']) is None:\n",
    "        return 0\n",
    "    \n",
    "    height = int(passport['hgt'][:-2])\n",
    "    if 'cm' in passport['hgt']:\n",
    "        if height < 150 or height > 193:\n",
    "            return 0\n",
    "    elif height < 59 or height > 76:\n",
    "        return 0\n",
    "    \n",
    "    if re.match('^#[0-9a-f]{6}$', passport['hcl']) is None:\n",
    "        return 0\n",
    "    \n",
    "    if passport['ecl'] not in ['amb', 'blu', 'brn', 'gry', 'grn', 'hzl', 'oth']:\n",
    "        return 0\n",
    "    \n",
    "    if re.match('^[0-9]{9}$', passport['pid']) is None:\n",
    "        return 0\n",
    "    \n",
    "    return 1"
   ]
  },
  {
   "cell_type": "code",
   "execution_count": 4,
   "metadata": {
    "ExecuteTime": {
     "end_time": "2020-12-08T21:03:30.068151Z",
     "start_time": "2020-12-08T21:03:30.060439Z"
    }
   },
   "outputs": [
    {
     "name": "stdout",
     "output_type": "stream",
     "text": [
      "Solution: There are 147 valid passports.\n"
     ]
    }
   ],
   "source": [
    "valid = 0\n",
    "for passport in passports:\n",
    "    has_mandatory_keys = all([field in passport for field in mandatory_fields])\n",
    "    if has_mandatory_keys and is_passport_valid(passport):\n",
    "        valid += 1\n",
    "\n",
    "print(\"Solution: There are {} valid passports.\".format(valid))"
   ]
  }
 ],
 "metadata": {
  "kernelspec": {
   "display_name": "Python 3",
   "language": "python",
   "name": "python3"
  },
  "language_info": {
   "codemirror_mode": {
    "name": "ipython",
    "version": 3
   },
   "file_extension": ".py",
   "mimetype": "text/x-python",
   "name": "python",
   "nbconvert_exporter": "python",
   "pygments_lexer": "ipython3",
   "version": "3.7.7"
  }
 },
 "nbformat": 4,
 "nbformat_minor": 4
}
