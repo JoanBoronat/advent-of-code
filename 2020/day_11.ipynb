{
 "cells": [
  {
   "cell_type": "markdown",
   "metadata": {},
   "source": [
    "### Day 11: Seating System\n",
    "\n",
    "Your plane lands with plenty of time to spare. The final leg of your journey is a ferry that goes directly to the tropical island where you can finally start your vacation. As you reach the waiting area to board the ferry, you realize you're so early, nobody else has even arrived yet!\n",
    "\n",
    "By modeling the process people use to choose (or abandon) their seat in the waiting area, you're pretty sure you can predict the best place to sit. You make a quick map of the seat layout (your puzzle input).\n",
    "\n",
    "The seat layout fits neatly on a grid. Each position is either floor (.), an empty seat (L), or an occupied seat (#). For example, the initial seat layout might look like this:\n",
    "\n",
    "        L.LL.LL.LL\n",
    "        LLLLLLL.LL\n",
    "        L.L.L..L..\n",
    "        LLLL.LL.LL\n",
    "        L.LL.LL.LL\n",
    "        L.LLLLL.LL\n",
    "        ..L.L.....\n",
    "        LLLLLLLLLL\n",
    "        L.LLLLLL.L\n",
    "        L.LLLLL.LL\n",
    "        \n",
    "Now, you just need to model the people who will be arriving shortly. Fortunately, people are entirely predictable and always follow a simple set of rules. All decisions are based on the number of occupied seats adjacent to a given seat (one of the eight positions immediately up, down, left, right, or diagonal from the seat). The following rules are applied to every seat simultaneously:\n",
    "\n",
    "If a seat is empty (L) and there are no occupied seats adjacent to it, the seat becomes occupied.\n",
    "If a seat is occupied (#) and four or more seats adjacent to it are also occupied, the seat becomes empty.\n",
    "Otherwise, the seat's state does not change.\n",
    "Floor (.) never changes; seats don't move, and nobody sits on the floor.\n",
    "\n",
    "After one round of these rules, every seat in the example layout becomes occupied:\n",
    "\n",
    "        #.##.##.##\n",
    "        #######.##\n",
    "        #.#.#..#..\n",
    "        ####.##.##\n",
    "        #.##.##.##\n",
    "        #.#####.##\n",
    "        ..#.#.....\n",
    "        ##########\n",
    "        #.######.#\n",
    "        #.#####.##\n",
    "After a second round, the seats with four or more occupied adjacent seats become empty again:\n",
    "\n",
    "        #.LL.L#.##\n",
    "        #LLLLLL.L#\n",
    "        L.L.L..L..\n",
    "        #LLL.LL.L#\n",
    "        #.LL.LL.LL\n",
    "        #.LLLL#.##\n",
    "        ..L.L.....\n",
    "        #LLLLLLLL#\n",
    "        #.LLLLLL.L\n",
    "        #.#LLLL.##\n",
    "        \n",
    "This process continues for three more rounds:\n",
    "\n",
    "        #.##.L#.##\n",
    "        #L###LL.L#\n",
    "        L.#.#..#..\n",
    "        #L##.##.L#\n",
    "        #.##.LL.LL\n",
    "        #.###L#.##\n",
    "        ..#.#.....\n",
    "        #L######L#\n",
    "        #.LL###L.L\n",
    "        #.#L###.##\n",
    "        \n",
    "        #.#L.L#.##\n",
    "        #LLL#LL.L#\n",
    "        L.L.L..#..\n",
    "        #LLL.##.L#\n",
    "        #.LL.LL.LL\n",
    "        #.LL#L#.##\n",
    "        ..L.L.....\n",
    "        #L#LLLL#L#\n",
    "        #.LLLLLL.L\n",
    "        #.#L#L#.##\n",
    "        \n",
    "        #.#L.L#.##\n",
    "        #LLL#LL.L#\n",
    "        L.#.L..#..\n",
    "        #L##.##.L#\n",
    "        #.#L.LL.LL\n",
    "        #.#L#L#.##\n",
    "        ..L.L.....\n",
    "        #L#L##L#L#\n",
    "        #.LLLLLL.L\n",
    "        #.#L#L#.##\n",
    "        \n",
    "At this point, something interesting happens: the chaos stabilizes and further applications of these rules cause no seats to change state! Once people stop moving around, you count 37 occupied seats.\n",
    "\n",
    "Simulate your seating area by applying the seating rules repeatedly until no seats change state. How many seats end up occupied?"
   ]
  },
  {
   "cell_type": "code",
   "execution_count": 1,
   "metadata": {
    "ExecuteTime": {
     "end_time": "2020-12-12T18:47:23.040273Z",
     "start_time": "2020-12-12T18:47:23.035638Z"
    }
   },
   "outputs": [],
   "source": [
    "with open('data/advent_11.txt', 'r') as f:\n",
    "    seats = [line.rstrip('\\n') for line in f.readlines()]"
   ]
  },
  {
   "cell_type": "code",
   "execution_count": 2,
   "metadata": {
    "ExecuteTime": {
     "end_time": "2020-12-12T18:47:23.049132Z",
     "start_time": "2020-12-12T18:47:23.043141Z"
    }
   },
   "outputs": [],
   "source": [
    "def get_adjacent_seats(seats, seat_i, seat_j):\n",
    "    occupied = 0\n",
    "    movement = -1, 0, 1\n",
    "    for offset_i in movement:\n",
    "        for offset_j in movement:\n",
    "            i = seat_i + offset_i\n",
    "            j = seat_j + offset_j\n",
    "\n",
    "            conditions = [\n",
    "                (offset_i, offset_j) != (0, 0),\n",
    "                0 <= i < len(seats),\n",
    "                0 <= j < len(seats[0])\n",
    "            ]\n",
    "            \n",
    "            if all(conditions) and seats[i][j] == '#':\n",
    "                occupied += 1\n",
    "        \n",
    "    return occupied"
   ]
  },
  {
   "cell_type": "code",
   "execution_count": 3,
   "metadata": {
    "ExecuteTime": {
     "end_time": "2020-12-12T18:47:23.057989Z",
     "start_time": "2020-12-12T18:47:23.052052Z"
    }
   },
   "outputs": [],
   "source": [
    "def apply_rules(seats):\n",
    "    changes = 1\n",
    "    seats = [list(row) for row in seats]\n",
    "    new_seats = [list(row) for row in seats]\n",
    "\n",
    "    while changes != 0:\n",
    "        changes = 0\n",
    "\n",
    "        for i, row in enumerate(seats):\n",
    "            for j, seat in enumerate(row):\n",
    "\n",
    "                if seat == 'L' and get_adjacent_seats(seats, i, j) == 0:\n",
    "                    new_seats[i][j] = '#'\n",
    "                    changes += 1\n",
    "                    \n",
    "                if seat == '#' and get_adjacent_seats(seats, i, j) >= 4:\n",
    "                    new_seats[i][j] = 'L'\n",
    "                    changes += 1\n",
    "\n",
    "        seats = [list(''.join(row)) for row in new_seats]\n",
    "\n",
    "    return new_seats"
   ]
  },
  {
   "cell_type": "code",
   "execution_count": 4,
   "metadata": {
    "ExecuteTime": {
     "end_time": "2020-12-12T18:47:26.468237Z",
     "start_time": "2020-12-12T18:47:23.060279Z"
    }
   },
   "outputs": [],
   "source": [
    "result = apply_rules(seats)\n",
    "solution = sum([row.count('#') for row in result])"
   ]
  },
  {
   "cell_type": "code",
   "execution_count": 5,
   "metadata": {
    "ExecuteTime": {
     "end_time": "2020-12-12T18:47:26.474604Z",
     "start_time": "2020-12-12T18:47:26.471298Z"
    }
   },
   "outputs": [
    {
     "name": "stdout",
     "output_type": "stream",
     "text": [
      "Solution: After reaching stabilization there are 2113 seats occupied.\n"
     ]
    }
   ],
   "source": [
    "print(\"Solution: After reaching stabilization there are {} seats occupied.\".format(solution))"
   ]
  },
  {
   "cell_type": "markdown",
   "metadata": {},
   "source": [
    "<br>\n",
    "\n",
    "### Part two\n",
    "\n",
    "As soon as people start to arrive, you realize your mistake. People don't just care about adjacent seats - they care about the first seat they can see in each of those eight directions!\n",
    "\n",
    "Now, instead of considering just the eight immediately adjacent seats, consider the first seat in each of those eight directions. For example, the empty seat below would see eight occupied seats:\n",
    "\n",
    "        .......#.\n",
    "        ...#.....\n",
    "        .#.......\n",
    "        .........\n",
    "        ..#L....#\n",
    "        ....#....\n",
    "        .........\n",
    "        #........\n",
    "        ...#.....\n",
    "    \n",
    "The leftmost empty seat below would only see one empty seat, but cannot see any of the occupied ones:\n",
    "\n",
    "        .............\n",
    "        .L.L.#.#.#.#.\n",
    "        .............\n",
    "        \n",
    "The empty seat below would see no occupied seats:\n",
    "\n",
    "        .##.##.\n",
    "        #.#.#.#\n",
    "        ##...##\n",
    "        ...L...\n",
    "        ##...##\n",
    "        #.#.#.#\n",
    "        .##.##.\n",
    "        \n",
    "Also, people seem to be more tolerant than you expected: it now takes five or more visible occupied seats for an occupied seat to become empty (rather than four or more from the previous rules). The other rules still apply: empty seats that see no occupied seats become occupied, seats matching no rule don't change, and floor never changes.\n",
    "\n",
    "Given the same starting layout as above, these new rules cause the seating area to shift around as follows:\n",
    "\n",
    "        L.LL.LL.LL\n",
    "        LLLLLLL.LL\n",
    "        L.L.L..L..\n",
    "        LLLL.LL.LL\n",
    "        L.LL.LL.LL\n",
    "        L.LLLLL.LL\n",
    "        ..L.L.....\n",
    "        LLLLLLLLLL\n",
    "        L.LLLLLL.L\n",
    "        L.LLLLL.LL\n",
    "        \n",
    "        #.##.##.##\n",
    "        #######.##\n",
    "        #.#.#..#..\n",
    "        ####.##.##\n",
    "        #.##.##.##\n",
    "        #.#####.##\n",
    "        ..#.#.....\n",
    "        ##########\n",
    "        #.######.#\n",
    "        #.#####.##\n",
    "        \n",
    "        #.LL.LL.L#\n",
    "        #LLLLLL.LL\n",
    "        L.L.L..L..\n",
    "        LLLL.LL.LL\n",
    "        L.LL.LL.LL\n",
    "        L.LLLLL.LL\n",
    "        ..L.L.....\n",
    "        LLLLLLLLL#\n",
    "        #.LLLLLL.L\n",
    "        #.LLLLL.L#\n",
    "        \n",
    "        #.L#.##.L#\n",
    "        #L#####.LL\n",
    "        L.#.#..#..\n",
    "        ##L#.##.##\n",
    "        #.##.#L.##\n",
    "        #.#####.#L\n",
    "        ..#.#.....\n",
    "        LLL####LL#\n",
    "        #.L#####.L\n",
    "        #.L####.L#\n",
    "        \n",
    "        #.L#.L#.L#\n",
    "        #LLLLLL.LL\n",
    "        L.L.L..#..\n",
    "        ##LL.LL.L#\n",
    "        L.LL.LL.L#\n",
    "        #.LLLLL.LL\n",
    "        ..L.L.....\n",
    "        LLLLLLLLL#\n",
    "        #.LLLLL#.L\n",
    "        #.L#LL#.L#\n",
    "        \n",
    "        #.L#.L#.L#\n",
    "        #LLLLLL.LL\n",
    "        L.L.L..#..\n",
    "        ##L#.#L.L#\n",
    "        L.L#.#L.L#\n",
    "        #.L####.LL\n",
    "        ..#.#.....\n",
    "        LLL###LLL#\n",
    "        #.LLLLL#.L\n",
    "        #.L#LL#.L#\n",
    "        \n",
    "        #.L#.L#.L#\n",
    "        #LLLLLL.LL\n",
    "        L.L.L..#..\n",
    "        ##L#.#L.L#\n",
    "        L.L#.LL.L#\n",
    "        #.LLLL#.LL\n",
    "        ..#.L.....\n",
    "        LLL###LLL#\n",
    "        #.LLLLL#.L\n",
    "        #.L#LL#.L#\n",
    "        \n",
    "Again, at this point, people stop shifting around and the seating area reaches equilibrium. Once this occurs, you count 26 occupied seats.\n",
    "\n",
    "Given the new visibility method and the rule change for occupied seats becoming empty, once equilibrium is reached, how many seats end up occupied?"
   ]
  },
  {
   "cell_type": "code",
   "execution_count": 6,
   "metadata": {
    "ExecuteTime": {
     "end_time": "2020-12-12T18:47:26.482388Z",
     "start_time": "2020-12-12T18:47:26.477235Z"
    }
   },
   "outputs": [],
   "source": [
    "def get_first_adjacent_seats(seats, seat_i, seat_j):\n",
    "    occupied = 0\n",
    "    movement = -1, 0, 1\n",
    "    for offset_i in movement:\n",
    "        for offset_j in movement:\n",
    "            i, j = seat_i + offset_i, seat_j + offset_j\n",
    "            while 0 <= i < len(seats) and 0 <= j < len(seats[0]):\n",
    "                \n",
    "                if (offset_i, offset_j) == (0, 0):\n",
    "                    break\n",
    "                    \n",
    "                if seats[i][j] in ['#', 'L']:\n",
    "                    occupied += 1 if seats[i][j] == '#' else 0\n",
    "                    break\n",
    "\n",
    "                i, j = i + offset_i, j + offset_j\n",
    "\n",
    "    return occupied"
   ]
  },
  {
   "cell_type": "code",
   "execution_count": 7,
   "metadata": {
    "ExecuteTime": {
     "end_time": "2020-12-12T18:47:26.491641Z",
     "start_time": "2020-12-12T18:47:26.484438Z"
    }
   },
   "outputs": [],
   "source": [
    "def apply_rules(seats):\n",
    "    changes = 1\n",
    "    seats = [list(row) for row in seats]\n",
    "    new_seats = [list(row) for row in seats]\n",
    "\n",
    "    while changes != 0:\n",
    "        changes = 0\n",
    "\n",
    "        for i, row in enumerate(seats):\n",
    "            for j, seat in enumerate(row):\n",
    "\n",
    "                if seat == 'L' and get_first_adjacent_seats(seats, i, j) == 0:\n",
    "                    new_seats[i][j] = '#'\n",
    "                    changes += 1\n",
    "                    \n",
    "                if seat == '#' and get_first_adjacent_seats(seats, i, j) >= 5:\n",
    "                    new_seats[i][j] = 'L'\n",
    "                    changes += 1\n",
    "\n",
    "        seats = [list(''.join(row)) for row in new_seats]\n",
    "\n",
    "    return new_seats"
   ]
  },
  {
   "cell_type": "code",
   "execution_count": 8,
   "metadata": {
    "ExecuteTime": {
     "end_time": "2020-12-12T18:47:29.272026Z",
     "start_time": "2020-12-12T18:47:26.495279Z"
    }
   },
   "outputs": [],
   "source": [
    "result = apply_rules(seats)\n",
    "solution = sum([row.count('#') for row in result])"
   ]
  },
  {
   "cell_type": "code",
   "execution_count": 9,
   "metadata": {
    "ExecuteTime": {
     "end_time": "2020-12-12T18:47:29.278691Z",
     "start_time": "2020-12-12T18:47:29.275550Z"
    }
   },
   "outputs": [
    {
     "name": "stdout",
     "output_type": "stream",
     "text": [
      "Solution: After reaching stabilization there are 1865 seats occupied.\n"
     ]
    }
   ],
   "source": [
    "print(\"Solution: After reaching stabilization there are {} seats occupied.\".format(solution))"
   ]
  }
 ],
 "metadata": {
  "kernelspec": {
   "display_name": "Python 3",
   "language": "python",
   "name": "python3"
  },
  "language_info": {
   "codemirror_mode": {
    "name": "ipython",
    "version": 3
   },
   "file_extension": ".py",
   "mimetype": "text/x-python",
   "name": "python",
   "nbconvert_exporter": "python",
   "pygments_lexer": "ipython3",
   "version": "3.7.7"
  }
 },
 "nbformat": 4,
 "nbformat_minor": 4
}
