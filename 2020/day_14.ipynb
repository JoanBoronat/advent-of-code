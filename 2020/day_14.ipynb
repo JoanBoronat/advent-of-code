{
 "cells": [
  {
   "cell_type": "markdown",
   "id": "0b794c20",
   "metadata": {},
   "source": [
    "### Day 14: Docking Data\n",
    "\n",
    "As your ferry approaches the sea port, the captain asks for your help again. The computer system that runs this port isn't compatible with the docking program on the ferry, so the docking parameters aren't being correctly initialized in the docking program's memory.\n",
    "\n",
    "After a brief inspection, you discover that the sea port's computer system uses a strange bitmask system in its initialization program. Although you don't have the correct decoder chip handy, you can emulate it in software!\n",
    "\n",
    "The initialization program (your puzzle input) can either update the bitmask or write a value to memory. Values and memory addresses are both 36-bit unsigned integers. For example, ignoring bitmasks for a moment, a line like mem[8] = 11 would write the value 11 to memory address 8.\n",
    "\n",
    "The bitmask is always given as a string of 36 bits, written with the most significant bit (representing 2^35) on the left and the least significant bit (2^0, that is, the 1s bit) on the right. The current bitmask is applied to values immediately before they are written to memory: a 0 or 1 overwrites the corresponding bit in the value, while an X leaves the bit in the value unchanged.\n",
    "\n",
    "For example, consider the following program:\n",
    "\n",
    "    mask = XXXXXXXXXXXXXXXXXXXXXXXXXXXXX1XXXX0X\n",
    "    mem[8] = 11\n",
    "    mem[7] = 101\n",
    "    mem[8] = 0\n",
    "    \n",
    "This program starts by specifying a bitmask (mask = ....). The mask it specifies will overwrite two bits in every written value: the 2s bit is overwritten with 0, and the 64s bit is overwritten with 1.\n",
    "\n",
    "The program then attempts to write the value 11 to memory address 8. By expanding everything out to individual bits, the mask is applied as follows:\n",
    "\n",
    "    value:  000000000000000000000000000000001011  (decimal 11)\n",
    "    mask:   XXXXXXXXXXXXXXXXXXXXXXXXXXXXX1XXXX0X\n",
    "    result: 000000000000000000000000000001001001  (decimal 73)\n",
    "    \n",
    "So, because of the mask, the value 73 is written to memory address 8 instead. Then, the program tries to write 101 to address 7:\n",
    "\n",
    "    value:  000000000000000000000000000001100101  (decimal 101)\n",
    "    mask:   XXXXXXXXXXXXXXXXXXXXXXXXXXXXX1XXXX0X\n",
    "    result: 000000000000000000000000000001100101  (decimal 101)\n",
    "    \n",
    "This time, the mask has no effect, as the bits it overwrote were already the values the mask tried to set. Finally, the program tries to write 0 to address 8:\n",
    "\n",
    "    value:  000000000000000000000000000000000000  (decimal 0)\n",
    "    mask:   XXXXXXXXXXXXXXXXXXXXXXXXXXXXX1XXXX0X\n",
    "    result: 000000000000000000000000000001000000  (decimal 64)\n",
    "    \n",
    "64 is written to address 8 instead, overwriting the value that was there previously.\n",
    "\n",
    "To initialize your ferry's docking program, you need the sum of all values left in memory after the initialization program completes. (The entire 36-bit address space begins initialized to the value 0 at every address.) In the above example, only two values in memory are not zero - 101 (at address 7) and 64 (at address 8) - producing a sum of 165.\n",
    "\n",
    "Execute the initialization program. What is the sum of all values left in memory after it completes? (Do not truncate the sum to 36 bits.)"
   ]
  },
  {
   "cell_type": "code",
   "execution_count": 1,
   "id": "e320e926",
   "metadata": {
    "ExecuteTime": {
     "end_time": "2021-12-02T08:20:20.544471Z",
     "start_time": "2021-12-02T08:20:20.528703Z"
    }
   },
   "outputs": [],
   "source": [
    "import re"
   ]
  },
  {
   "cell_type": "code",
   "execution_count": 2,
   "id": "e545f526",
   "metadata": {
    "ExecuteTime": {
     "end_time": "2021-12-02T08:20:20.551216Z",
     "start_time": "2021-12-02T08:20:20.545829Z"
    }
   },
   "outputs": [],
   "source": [
    "with open('data/advent_14.txt', 'r') as f:\n",
    "    script = [line.rstrip('\\n') for line in f.readlines()]"
   ]
  },
  {
   "cell_type": "code",
   "execution_count": 3,
   "id": "ecf4fa01",
   "metadata": {
    "ExecuteTime": {
     "end_time": "2021-12-02T08:20:20.554428Z",
     "start_time": "2021-12-02T08:20:20.552216Z"
    }
   },
   "outputs": [],
   "source": [
    "def apply_mask(value, mask):\n",
    "    value |= int(mask.replace('X', '0'), 2)\n",
    "    value &= int(mask.replace('X', '1'), 2)\n",
    "    return value"
   ]
  },
  {
   "cell_type": "code",
   "execution_count": 4,
   "id": "46e54254",
   "metadata": {
    "ExecuteTime": {
     "end_time": "2021-12-02T08:20:20.559184Z",
     "start_time": "2021-12-02T08:20:20.555450Z"
    }
   },
   "outputs": [],
   "source": [
    "pattern = r'mem\\[(?P<address>\\d+)] = (?P<value>\\d+)'\n",
    "memory = {}\n",
    "\n",
    "for line in script:\n",
    "    if line.startswith('mask'):\n",
    "        mask = line[7:]\n",
    "    elif line.startswith('mem'):\n",
    "        address, value = re.match(pattern, line).groups()\n",
    "        value = int(value)\n",
    "        memory[address] = apply_mask(value, mask)\n",
    "    else:\n",
    "        raise NotImplementedError"
   ]
  },
  {
   "cell_type": "code",
   "execution_count": 5,
   "id": "497c3fc0",
   "metadata": {
    "ExecuteTime": {
     "end_time": "2021-12-02T08:20:20.562742Z",
     "start_time": "2021-12-02T08:20:20.560867Z"
    }
   },
   "outputs": [
    {
     "name": "stdout",
     "output_type": "stream",
     "text": [
      "Solution: The sum of the values in memory is 8570568288597\n"
     ]
    }
   ],
   "source": [
    "print(f\"Solution: The sum of the values in memory is {sum(memory.values())}\")"
   ]
  },
  {
   "cell_type": "markdown",
   "id": "5df8bb09",
   "metadata": {},
   "source": [
    "<br> \n",
    "\n",
    "### Part two\n",
    "For some reason, the sea port's computer system still can't communicate with your ferry's docking program. It must be using version 2 of the decoder chip!\n",
    "\n",
    "A version 2 decoder chip doesn't modify the values being written at all. Instead, it acts as a memory address decoder. Immediately before a value is written to memory, each bit in the bitmask modifies the corresponding bit of the destination memory address in the following way:\n",
    "\n",
    "If the bitmask bit is 0, the corresponding memory address bit is unchanged.\n",
    "If the bitmask bit is 1, the corresponding memory address bit is overwritten with 1.\n",
    "If the bitmask bit is X, the corresponding memory address bit is floating.\n",
    "A floating bit is not connected to anything and instead fluctuates unpredictably. In practice, this means the floating bits will take on all possible values, potentially causing many memory addresses to be written all at once!\n",
    "\n",
    "For example, consider the following program:\n",
    "\n",
    "    mask = 000000000000000000000000000000X1001X\n",
    "    mem[42] = 100\n",
    "    mask = 00000000000000000000000000000000X0XX\n",
    "    mem[26] = 1\n",
    "    \n",
    "When this program goes to write to memory address 42, it first applies the bitmask:\n",
    "\n",
    "    address: 000000000000000000000000000000101010  (decimal 42)\n",
    "    mask:    000000000000000000000000000000X1001X\n",
    "    result:  000000000000000000000000000000X1101X\n",
    "    \n",
    "After applying the mask, four bits are overwritten, three of which are different, and two of which are floating. Floating bits take on every possible combination of values; with two floating bits, four actual memory addresses are written:\n",
    "\n",
    "    000000000000000000000000000000011010  (decimal 26)\n",
    "    000000000000000000000000000000011011  (decimal 27)\n",
    "    000000000000000000000000000000111010  (decimal 58)\n",
    "    000000000000000000000000000000111011  (decimal 59)\n",
    "    \n",
    "Next, the program is about to write to memory address 26 with a different bitmask:\n",
    "\n",
    "    address: 000000000000000000000000000000011010  (decimal 26)\n",
    "    mask:    00000000000000000000000000000000X0XX\n",
    "    result:  00000000000000000000000000000001X0XX\n",
    "    \n",
    "This results in an address with three floating bits, causing writes to eight memory addresses:\n",
    "\n",
    "    000000000000000000000000000000010000  (decimal 16)\n",
    "    000000000000000000000000000000010001  (decimal 17)\n",
    "    000000000000000000000000000000010010  (decimal 18)\n",
    "    000000000000000000000000000000010011  (decimal 19)\n",
    "    000000000000000000000000000000011000  (decimal 24)\n",
    "    000000000000000000000000000000011001  (decimal 25)\n",
    "    000000000000000000000000000000011010  (decimal 26)\n",
    "    000000000000000000000000000000011011  (decimal 27)\n",
    "    \n",
    "The entire 36-bit address space still begins initialized to the value 0 at every address, and you still need the sum of all values left in memory at the end of the program. In this example, the sum is 208.\n",
    "\n",
    "Execute the initialization program using an emulator for a version 2 decoder chip. What is the sum of all values left in memory after it completes?"
   ]
  },
  {
   "cell_type": "code",
   "execution_count": 6,
   "id": "c179e43d",
   "metadata": {
    "ExecuteTime": {
     "end_time": "2021-12-02T08:20:20.566122Z",
     "start_time": "2021-12-02T08:20:20.563407Z"
    }
   },
   "outputs": [],
   "source": [
    "def get_addresses(address, mask):\n",
    "    floating_bits = mask.count('X')\n",
    "    addresses = []\n",
    "    for i in range(2**floating_bits):\n",
    "        binary_format = \"{0:0\" + str(floating_bits) + \"b}\"\n",
    "        permutation = list(binary_format.format(i))\n",
    "    \n",
    "        address_permutated = [bit if bit != 'X' else permutation.pop() for bit in address]\n",
    "        address_permutated = \"\".join(address_permutated)\n",
    "        addresses.append(address_permutated)\n",
    "\n",
    "    return addresses"
   ]
  },
  {
   "cell_type": "code",
   "execution_count": 7,
   "id": "c13fdebf",
   "metadata": {
    "ExecuteTime": {
     "end_time": "2021-12-02T08:20:20.755932Z",
     "start_time": "2021-12-02T08:20:20.566925Z"
    }
   },
   "outputs": [],
   "source": [
    "memory = {}\n",
    "\n",
    "for line in script:\n",
    "    if line.startswith('mask'):\n",
    "        mask = line[7:]\n",
    "    elif line.startswith('mem'):\n",
    "        address, value = re.match(pattern, line).groups()\n",
    "        address = \"{0:036b}\".format(int(address))\n",
    "        address = [bit if mask[i] == '0' else mask[i] for i, bit in enumerate(address)]\n",
    "        addresses = get_addresses(address, mask)\n",
    "\n",
    "        for address in addresses:\n",
    "            memory[address] = int(value)\n",
    "    else:\n",
    "        raise NotImplementedError"
   ]
  },
  {
   "cell_type": "code",
   "execution_count": 8,
   "id": "d4057387",
   "metadata": {
    "ExecuteTime": {
     "end_time": "2021-12-02T08:20:20.759039Z",
     "start_time": "2021-12-02T08:20:20.756629Z"
    }
   },
   "outputs": [
    {
     "name": "stdout",
     "output_type": "stream",
     "text": [
      "Solution: The sum of the values in memory is 3289441921203\n"
     ]
    }
   ],
   "source": [
    "print(f\"Solution: The sum of the values in memory is {sum(memory.values())}\")"
   ]
  }
 ],
 "metadata": {
  "kernelspec": {
   "display_name": "Python 3 (ipykernel)",
   "language": "python",
   "name": "python3"
  },
  "language_info": {
   "codemirror_mode": {
    "name": "ipython",
    "version": 3
   },
   "file_extension": ".py",
   "mimetype": "text/x-python",
   "name": "python",
   "nbconvert_exporter": "python",
   "pygments_lexer": "ipython3",
   "version": "3.9.9"
  }
 },
 "nbformat": 4,
 "nbformat_minor": 5
}
