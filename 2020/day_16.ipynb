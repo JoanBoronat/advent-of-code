{
 "cells": [
  {
   "cell_type": "markdown",
   "id": "5300ead3",
   "metadata": {},
   "source": [
    "### Day 16: Ticket Translation\n",
    "\n",
    "As you're walking to yet another connecting flight, you realize that one of the legs of your re-routed trip coming up is on a high-speed train. However, the train ticket you were given is in a language you don't understand. You should probably figure out what it says before you get to the train station after the next flight.\n",
    "\n",
    "Unfortunately, you can't actually read the words on the ticket. You can, however, read the numbers, and so you figure out the fields these tickets must have and the valid ranges for values in those fields.\n",
    "\n",
    "You collect the rules for ticket fields, the numbers on your ticket, and the numbers on other nearby tickets for the same train service (via the airport security cameras) together into a single document you can reference (your puzzle input).\n",
    "\n",
    "The rules for ticket fields specify a list of fields that exist somewhere on the ticket and the valid ranges of values for each field. For example, a rule like class: 1-3 or 5-7 means that one of the fields in every ticket is named class and can be any value in the ranges 1-3 or 5-7 (inclusive, such that 3 and 5 are both valid in this field, but 4 is not).\n",
    "\n",
    "Each ticket is represented by a single line of comma-separated values. The values are the numbers on the ticket in the order they appear; every ticket has the same format. For example, consider this ticket:\n",
    "\n",
    "    .--------------------------------------------------------.\n",
    "    | ????: 101    ?????: 102   ??????????: 103     ???: 104 |\n",
    "    |                                                        |\n",
    "    | ??: 301  ??: 302             ???????: 303      ??????? |\n",
    "    | ??: 401  ??: 402           ???? ????: 403    ????????? |\n",
    "    '--------------------------------------------------------'\n",
    "    \n",
    "Here, ? represents text in a language you don't understand. This ticket might be represented as 101,102,103,104,301,302,303,401,402,403; of course, the actual train tickets you're looking at are much more complicated. In any case, you've extracted just the numbers in such a way that the first number is always the same specific field, the second number is always a different specific field, and so on - you just don't know what each position actually means!\n",
    "\n",
    "Start by determining which tickets are completely invalid; these are tickets that contain values which aren't valid for any field. Ignore your ticket for now.\n",
    "\n",
    "For example, suppose you have the following notes:\n",
    "\n",
    "    class: 1-3 or 5-7\n",
    "    row: 6-11 or 33-44\n",
    "    seat: 13-40 or 45-50\n",
    "\n",
    "    your ticket:\n",
    "    7,1,14\n",
    "\n",
    "    nearby tickets:\n",
    "    7,3,47\n",
    "    40,4,50\n",
    "    55,2,20\n",
    "    38,6,12\n",
    "    \n",
    "It doesn't matter which position corresponds to which field; you can identify invalid nearby tickets by considering only whether tickets contain values that are not valid for any field. In this example, the values on the first nearby ticket are all valid for at least one field. This is not true of the other three nearby tickets: the values 4, 55, and 12 are are not valid for any field. Adding together all of the invalid values produces your ticket scanning error rate: 4 + 55 + 12 = 71.\n",
    "\n",
    "Consider the validity of the nearby tickets you scanned. What is your ticket scanning error rate?\n"
   ]
  },
  {
   "cell_type": "code",
   "execution_count": 1,
   "id": "ed7e03b4",
   "metadata": {
    "ExecuteTime": {
     "end_time": "2021-12-04T19:17:48.160496Z",
     "start_time": "2021-12-04T19:17:48.149367Z"
    }
   },
   "outputs": [],
   "source": [
    "from collections import defaultdict\n",
    "import re"
   ]
  },
  {
   "cell_type": "code",
   "execution_count": 2,
   "id": "eb37ed60",
   "metadata": {
    "ExecuteTime": {
     "end_time": "2021-12-04T19:17:48.171292Z",
     "start_time": "2021-12-04T19:17:48.166620Z"
    }
   },
   "outputs": [],
   "source": [
    "with open('data/advent_16.txt', 'r') as f:\n",
    "    data = f.read()"
   ]
  },
  {
   "cell_type": "code",
   "execution_count": 3,
   "id": "e1a52f25",
   "metadata": {
    "ExecuteTime": {
     "end_time": "2021-12-04T19:17:48.178071Z",
     "start_time": "2021-12-04T19:17:48.172828Z"
    }
   },
   "outputs": [],
   "source": [
    "rules, my_ticket, nearby_tickets = data.split('\\n\\n')\n",
    "\n",
    "pattern = r'([\\w\\s]+): (\\d+)-(\\d+) or (\\d+)-(\\d+)'\n",
    "\n",
    "rules = [re.match(pattern, rule).groups() for rule in rules.split('\\n')]\n",
    "rules = [(name, int(a), int(b), int(c), int(d)) for name, a, b, c, d in rules]\n",
    "\n",
    "my_ticket = my_ticket.split('\\n')[1].split(',')\n",
    "\n",
    "nearby_tickets = [list(map(int, ticket.split(','))) for ticket in nearby_tickets.rstrip('\\n').split('\\n')[1:]]"
   ]
  },
  {
   "cell_type": "code",
   "execution_count": 4,
   "id": "61075dd7",
   "metadata": {
    "ExecuteTime": {
     "end_time": "2021-12-04T19:17:48.184900Z",
     "start_time": "2021-12-04T19:17:48.179760Z"
    }
   },
   "outputs": [],
   "source": [
    "error_rate = 0\n",
    "valid_tickets = []\n",
    "for ticket in nearby_tickets:\n",
    "    all_valid = True\n",
    "    for value in ticket:\n",
    "        valid = False\n",
    "        i = 0\n",
    "        while not valid and i < len(rules):\n",
    "            _, min_a, max_a, min_b, max_b = rules[i]\n",
    "            valid = min_a <= value <= max_a \n",
    "            valid |= min_b <= value <= max_b\n",
    "            i += 1\n",
    "        \n",
    "        if not valid:\n",
    "            all_valid = False\n",
    "            error_rate += value\n",
    "    \n",
    "    if all_valid:\n",
    "        valid_tickets.append(ticket)"
   ]
  },
  {
   "cell_type": "code",
   "execution_count": 5,
   "id": "155203f3",
   "metadata": {
    "ExecuteTime": {
     "end_time": "2021-12-04T19:17:48.188493Z",
     "start_time": "2021-12-04T19:17:48.186446Z"
    }
   },
   "outputs": [
    {
     "name": "stdout",
     "output_type": "stream",
     "text": [
      "Solution: The ticket scanning error rate is 27898\n"
     ]
    }
   ],
   "source": [
    "print(f\"Solution: The ticket scanning error rate is {error_rate}\")"
   ]
  },
  {
   "cell_type": "markdown",
   "id": "ecdcd4d3",
   "metadata": {},
   "source": [
    "\n",
    "<br> \n",
    "\n",
    "### Part Two\n",
    "\n",
    "Now that you've identified which tickets contain invalid values, discard those tickets entirely. Use the remaining valid tickets to determine which field is which.\n",
    "\n",
    "Using the valid ranges for each field, determine what order the fields appear on the tickets. The order is consistent between all tickets: if seat is the third field, it is the third field on every ticket, including your ticket.\n",
    "\n",
    "For example, suppose you have the following notes:\n",
    "\n",
    "    class: 0-1 or 4-19\n",
    "    row: 0-5 or 8-19\n",
    "    seat: 0-13 or 16-19\n",
    "\n",
    "    your ticket:\n",
    "    11,12,13\n",
    "\n",
    "    nearby tickets:\n",
    "    3,9,18\n",
    "    15,1,5\n",
    "    5,14,9\n",
    "    \n",
    "Based on the nearby tickets in the above example, the first position must be row, the second position must be class, and the third position must be seat; you can conclude that in your ticket, class is 12, row is 11, and seat is 13.\n",
    "\n",
    "Once you work out which field is which, look for the six fields on your ticket that start with the word departure. What do you get if you multiply those six values together?"
   ]
  },
  {
   "cell_type": "code",
   "execution_count": 6,
   "id": "7489b2b4",
   "metadata": {
    "ExecuteTime": {
     "end_time": "2021-12-04T19:17:48.209097Z",
     "start_time": "2021-12-04T19:17:48.189579Z"
    }
   },
   "outputs": [],
   "source": [
    "fields_candidates = defaultdict(lambda: [])\n",
    "for name, min_a, max_a, min_b, max_b in rules:\n",
    "    \n",
    "    for position in range(len(rules)):    \n",
    "        valid = True\n",
    "        i = 0\n",
    "        while valid and i < len(valid_tickets):\n",
    "            value = valid_tickets[i][position]            \n",
    "            valid &= (min_a <= value <= max_a) or (min_b <= value <= max_b)\n",
    "            i += 1\n",
    "    \n",
    "        if valid:\n",
    "            fields_candidates[position].append(name)"
   ]
  },
  {
   "cell_type": "code",
   "execution_count": 7,
   "id": "edaf2f7e",
   "metadata": {
    "ExecuteTime": {
     "end_time": "2021-12-04T19:17:48.212898Z",
     "start_time": "2021-12-04T19:17:48.210042Z"
    }
   },
   "outputs": [],
   "source": [
    "fields_positions = {}\n",
    "while len(fields_positions) != len(rules):\n",
    "    for position, candidates in fields_candidates.items():\n",
    "        for found in fields_positions.values():\n",
    "            if found in candidates:\n",
    "                candidates.remove(found)\n",
    "  \n",
    "        if len(candidates) == 1:\n",
    "            fields_positions[position] = candidates.pop()"
   ]
  },
  {
   "cell_type": "code",
   "execution_count": 8,
   "id": "2c253da5",
   "metadata": {
    "ExecuteTime": {
     "end_time": "2021-12-04T19:17:48.215605Z",
     "start_time": "2021-12-04T19:17:48.213707Z"
    }
   },
   "outputs": [],
   "source": [
    "res = 1\n",
    "for idx, field_name in fields_positions.items():\n",
    "    if field_name.startswith('departure'):\n",
    "        res *= int(my_ticket[idx])"
   ]
  },
  {
   "cell_type": "code",
   "execution_count": 9,
   "id": "6fb00504",
   "metadata": {
    "ExecuteTime": {
     "end_time": "2021-12-04T19:17:48.218124Z",
     "start_time": "2021-12-04T19:17:48.216253Z"
    }
   },
   "outputs": [
    {
     "name": "stdout",
     "output_type": "stream",
     "text": [
      "Solution: The multiplication of the fields that start with departure is 2766491048287.\n"
     ]
    }
   ],
   "source": [
    "print(f\"Solution: The multiplication of the fields that start with departure is {res}.\")"
   ]
  }
 ],
 "metadata": {
  "kernelspec": {
   "display_name": "Python 3 (ipykernel)",
   "language": "python",
   "name": "python3"
  },
  "language_info": {
   "codemirror_mode": {
    "name": "ipython",
    "version": 3
   },
   "file_extension": ".py",
   "mimetype": "text/x-python",
   "name": "python",
   "nbconvert_exporter": "python",
   "pygments_lexer": "ipython3",
   "version": "3.9.9"
  }
 },
 "nbformat": 4,
 "nbformat_minor": 5
}
