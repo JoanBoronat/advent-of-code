{
 "cells": [
  {
   "cell_type": "markdown",
   "metadata": {},
   "source": [
    "### Day 12: Rain Risk\n",
    "\n",
    "Your ferry made decent progress toward the island, but the storm came in faster than anyone expected. The ferry needs to take evasive actions!\n",
    "\n",
    "Unfortunately, the ship's navigation computer seems to be malfunctioning; rather than giving a route directly to safety, it produced extremely circuitous instructions. When the captain uses the PA system to ask if anyone can help, you quickly volunteer.\n",
    "\n",
    "The navigation instructions (your puzzle input) consists of a sequence of single-character actions paired with integer input values. After staring at them for a few minutes, you work out what they probably mean:\n",
    "\n",
    "    Action N means to move north by the given value.\n",
    "    Action S means to move south by the given value.\n",
    "    Action E means to move east by the given value.\n",
    "    Action W means to move west by the given value.\n",
    "    Action L means to turn left the given number of degrees.\n",
    "    Action R means to turn right the given number of degrees.\n",
    "    Action F means to move forward by the given value in the direction the ship is currently facing.\n",
    "    \n",
    "The ship starts by facing east. Only the L and R actions change the direction the ship is facing. (That is, if the ship is facing east and the next instruction is N10, the ship would move north 10 units, but would still move east if the following action were F.)\n",
    "\n",
    "For example:\n",
    "\n",
    "    F10\n",
    "    N3\n",
    "    F7\n",
    "    R90\n",
    "    F11\n",
    "    \n",
    "These instructions would be handled as follows:\n",
    "\n",
    "    F10 would move the ship 10 units east (because the ship starts by facing east) to east 10, north 0.\n",
    "    N3 would move the ship 3 units north to east 10, north 3.\n",
    "    F7 would move the ship another 7 units east (because the ship is still facing east) to east 17, north 3.\n",
    "    R90 would cause the ship to turn right by 90 degrees and face south; it remains at east 17, north 3.\n",
    "    F11 would move the ship 11 units south to east 17, south 8.\n",
    "\n",
    "At the end of these instructions, the ship's Manhattan distance (sum of the absolute values of its east/west position and its north/south position) from its starting position is 17 + 8 = 25.\n",
    "\n",
    "Figure out where the navigation instructions lead. What is the Manhattan distance between that location and the ship's starting position?"
   ]
  },
  {
   "cell_type": "code",
   "execution_count": 2,
   "metadata": {
    "ExecuteTime": {
     "end_time": "2020-12-12T18:57:22.550217Z",
     "start_time": "2020-12-12T18:57:22.543392Z"
    }
   },
   "outputs": [],
   "source": [
    "with open('data/advent_12.txt', 'r') as f:\n",
    "    instructions = [line.rstrip('\\n') for line in f.readlines()]"
   ]
  },
  {
   "cell_type": "code",
   "execution_count": 3,
   "metadata": {
    "ExecuteTime": {
     "end_time": "2020-12-12T18:57:22.563030Z",
     "start_time": "2020-12-12T18:57:22.554288Z"
    }
   },
   "outputs": [],
   "source": [
    "def navigate(instructions):\n",
    "    angles = {0: 'N', 90: 'E', 180: 'S', 270: 'W'}\n",
    "    position = {\"N\": 0, \"E\": 0, \"S\": 0, \"W\": 0}\n",
    "\n",
    "    current_angle = 90\n",
    "\n",
    "    for instruction in instructions:\n",
    "        units = int(instruction[1:])\n",
    "        if instruction.startswith('F'):\n",
    "            position[angles[current_angle]] += units\n",
    "        elif instruction.startswith('R'):\n",
    "            current_angle = (current_angle + units) % 360\n",
    "        elif instruction.startswith('L'):\n",
    "            current_angle = (current_angle - units) % 360\n",
    "        else:\n",
    "            position[instruction[0]] += units\n",
    "    \n",
    "    return position"
   ]
  },
  {
   "cell_type": "code",
   "execution_count": 4,
   "metadata": {
    "ExecuteTime": {
     "end_time": "2020-12-12T18:57:22.570707Z",
     "start_time": "2020-12-12T18:57:22.566226Z"
    }
   },
   "outputs": [],
   "source": [
    "position = navigate(instructions)\n",
    "solution = abs(position['N'] - position['S']) + abs(position['E'] - position['W'])"
   ]
  },
  {
   "cell_type": "code",
   "execution_count": 5,
   "metadata": {
    "ExecuteTime": {
     "end_time": "2020-12-12T18:57:22.577881Z",
     "start_time": "2020-12-12T18:57:22.573674Z"
    }
   },
   "outputs": [
    {
     "name": "stdout",
     "output_type": "stream",
     "text": [
      "Solution: The Manhatan distance from the starting point is 1294 units.\n"
     ]
    }
   ],
   "source": [
    "print(f\"Solution: The Manhatan distance from the starting point is {solution} units.\")"
   ]
  },
  {
   "cell_type": "markdown",
   "metadata": {},
   "source": [
    "<br> \n",
    "\n",
    "### Part two\n",
    "\n",
    "Before you can give the destination to the captain, you realize that the actual action meanings were printed on the back of the instructions the whole time.\n",
    "\n",
    "Almost all of the actions indicate how to move a waypoint which is relative to the ship's position:\n",
    "\n",
    "    Action N means to move the waypoint north by the given value.\n",
    "    Action S means to move the waypoint south by the given value.\n",
    "    Action E means to move the waypoint east by the given value.\n",
    "    Action W means to move the waypoint west by the given value.\n",
    "    Action L means to rotate the waypoint around the ship left (counter-clockwise) the given number of degrees.\n",
    "    Action R means to rotate the waypoint around the ship right (clockwise) the given number of degrees.\n",
    "    Action F means to move forward to the waypoint a number of times equal to the given value.\n",
    "    \n",
    "The waypoint starts 10 units east and 1 unit north relative to the ship. The waypoint is relative to the ship; that is, if the ship moves, the waypoint moves with it.\n",
    "\n",
    "For example, using the same instructions as above:\n",
    "\n",
    "    F10 moves the ship to the waypoint 10 times (a total of 100 units east and 10 units north), leaving the ship at east 100, north 10. The waypoint stays 10 units east and 1 unit north of the ship.\n",
    "    N3 moves the waypoint 3 units north to 10 units east and 4 units north of the ship. The ship remains at east 100, north 10.\n",
    "    F7 moves the ship to the waypoint 7 times (a total of 70 units east and 28 units north), leaving the ship at east 170, north 38. The waypoint stays 10 units east and 4 units north of the ship.\n",
    "    R90 rotates the waypoint around the ship clockwise 90 degrees, moving it to 4 units east and 10 units south of the ship. The ship remains at east 170, north 38.\n",
    "    F11 moves the ship to the waypoint 11 times (a total of 44 units east and 110 units south), leaving the ship at east 214, south 72. The waypoint stays 4 units east and 10 units south of the ship.\n",
    "    After these operations, the ship's Manhattan distance from its starting position is 214 + 72 = 286.\n",
    "\n",
    "Figure out where the navigation instructions actually lead. What is the Manhattan distance between that location and the ship's starting position?"
   ]
  },
  {
   "cell_type": "code",
   "execution_count": 6,
   "metadata": {
    "ExecuteTime": {
     "end_time": "2020-12-12T18:57:22.584869Z",
     "start_time": "2020-12-12T18:57:22.580161Z"
    }
   },
   "outputs": [],
   "source": [
    "def pivot_waypoint(waypoint, degrees):\n",
    "    angles_directions = {0: 'N', 90: 'E', 180: 'S', 270: 'W'}\n",
    "    direction_angles = {'N': 0, 'E': 90, 'S': 180, 'W': 270}\n",
    "    new_waypoint = {}\n",
    "    \n",
    "    for direction, units in waypoint.items():\n",
    "        new_angle = (direction_angles[direction] + degrees) % 360\n",
    "        new_waypoint[angles_directions[new_angle]] = units\n",
    "\n",
    "    return new_waypoint"
   ]
  },
  {
   "cell_type": "code",
   "execution_count": 7,
   "metadata": {
    "ExecuteTime": {
     "end_time": "2020-12-12T18:57:22.594855Z",
     "start_time": "2020-12-12T18:57:22.587830Z"
    }
   },
   "outputs": [],
   "source": [
    "def waypoint_navigation(waypoint, instructions):\n",
    "    position = {\"N\": 0, \"E\": 0, \"S\": 0, \"W\": 0}\n",
    "\n",
    "    for instruction in instructions:\n",
    "        factor = int(instruction[1:])\n",
    "        \n",
    "        if instruction.startswith('F'):\n",
    "            for direction, units in waypoint.items():\n",
    "                position[direction] += units * factor\n",
    "\n",
    "        elif instruction.startswith('R'):\n",
    "            waypoint = pivot_waypoint(waypoint, factor)\n",
    "            \n",
    "        elif instruction.startswith('L'):\n",
    "            waypoint = pivot_waypoint(waypoint, -factor)\n",
    "            \n",
    "        else:\n",
    "            waypoint[instruction[0]] += factor\n",
    "            \n",
    "    return position"
   ]
  },
  {
   "cell_type": "code",
   "execution_count": 8,
   "metadata": {
    "ExecuteTime": {
     "end_time": "2020-12-12T18:57:22.603622Z",
     "start_time": "2020-12-12T18:57:22.598319Z"
    }
   },
   "outputs": [],
   "source": [
    "waypoint = {\"N\": 1, \"E\": 10, \"S\": 0, \"W\": 0}\n",
    "position = waypoint_navigation(waypoint, instructions)"
   ]
  },
  {
   "cell_type": "code",
   "execution_count": 9,
   "metadata": {
    "ExecuteTime": {
     "end_time": "2020-12-12T18:57:22.612034Z",
     "start_time": "2020-12-12T18:57:22.608866Z"
    }
   },
   "outputs": [],
   "source": [
    "solution = abs(position['N'] - position['S']) + abs(position['E'] - position['W'])"
   ]
  },
  {
   "cell_type": "code",
   "execution_count": 11,
   "metadata": {
    "ExecuteTime": {
     "end_time": "2020-12-12T18:57:22.619568Z",
     "start_time": "2020-12-12T18:57:22.614976Z"
    }
   },
   "outputs": [
    {
     "name": "stdout",
     "output_type": "stream",
     "text": [
      "Solution: The Manhatan distance from the starting point is 20592 units.\n"
     ]
    }
   ],
   "source": [
    "print(f\"Solution: The Manhatan distance from the starting point is {solution} units.\")"
   ]
  }
 ],
 "metadata": {
  "kernelspec": {
   "display_name": "Python 3 (ipykernel)",
   "language": "python",
   "name": "python3"
  },
  "language_info": {
   "codemirror_mode": {
    "name": "ipython",
    "version": 3
   },
   "file_extension": ".py",
   "mimetype": "text/x-python",
   "name": "python",
   "nbconvert_exporter": "python",
   "pygments_lexer": "ipython3",
   "version": "3.9.9"
  }
 },
 "nbformat": 4,
 "nbformat_minor": 4
}
