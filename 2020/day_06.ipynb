{
 "cells": [
  {
   "cell_type": "markdown",
   "metadata": {},
   "source": [
    "### Day 6: Custom Customs\n",
    "\n",
    "As your flight approaches the regional airport where you'll switch to a much larger plane, customs declaration forms are distributed to the passengers.\n",
    "\n",
    "The form asks a series of 26 yes-or-no questions marked a through z. All you need to do is identify the questions for which anyone in your group answers \"yes\". Since your group is just you, this doesn't take very long.\n",
    "\n",
    "However, the person sitting next to you seems to be experiencing a language barrier and asks if you can help. For each of the people in their group, you write down the questions for which they answer \"yes\", one per line. For example:\n",
    "\n",
    "    abcx\n",
    "    abcy\n",
    "    abcz\n",
    "    \n",
    "In this group, there are 6 questions to which anyone answered \"yes\": a, b, c, x, y, and z. (Duplicate answers to the same question don't count extra; each question counts at most once.)\n",
    "\n",
    "Another group asks for your help, then another, and eventually you've collected answers from every group on the plane (your puzzle input). Each group's answers are separated by a blank line, and within each group, each person's answers are on a single line. For example:\n",
    "\n",
    "    abc\n",
    "\n",
    "    a\n",
    "    b\n",
    "    c\n",
    "\n",
    "    ab\n",
    "    ac\n",
    "\n",
    "    a\n",
    "    a\n",
    "    a\n",
    "    a\n",
    "\n",
    "    b\n",
    "    \n",
    "This list represents answers from five groups:\n",
    "\n",
    "    The first group contains one person who answered \"yes\" to 3 questions: a, b, and c.\n",
    "    The second group contains three people; combined, they answered \"yes\" to 3 questions: a, b, and c.\n",
    "    The third group contains two people; combined, they answered \"yes\" to 3 questions: a, b, and c.\n",
    "    The fourth group contains four people; combined, they answered \"yes\" to only 1 question, a.\n",
    "    The last group contains one person who answered \"yes\" to only 1 question, b.\n",
    "    In this example, the sum of these counts is 3 + 3 + 3 + 1 + 1 = 11.\n",
    "\n",
    "For each group, count the number of questions to which anyone answered \"yes\". What is the sum of those counts?"
   ]
  },
  {
   "cell_type": "code",
   "execution_count": 1,
   "metadata": {
    "ExecuteTime": {
     "end_time": "2020-12-08T21:03:57.259152Z",
     "start_time": "2020-12-08T21:03:57.251786Z"
    }
   },
   "outputs": [],
   "source": [
    "with open('data/advent_06.txt', 'r') as f:\n",
    "    raw_input = f.read()\n",
    "    customs = raw_input.rstrip(\"\\n\").split('\\n\\n')"
   ]
  },
  {
   "cell_type": "code",
   "execution_count": 2,
   "metadata": {
    "ExecuteTime": {
     "end_time": "2020-12-08T21:03:57.270140Z",
     "start_time": "2020-12-08T21:03:57.262654Z"
    }
   },
   "outputs": [
    {
     "name": "stdout",
     "output_type": "stream",
     "text": [
      "Solution: The number of questions answered as yes is 6335\n"
     ]
    }
   ],
   "source": [
    "solution = sum([len(set(custom.replace('\\n', ''))) for custom in customs])\n",
    "print(\"Solution: The number of questions answered as yes is {}\".format(solution))"
   ]
  },
  {
   "cell_type": "markdown",
   "metadata": {},
   "source": [
    "<br>\n",
    "\n",
    "### Part two\n",
    "As you finish the last group's customs declaration, you notice that you misread one word in the instructions:\n",
    "\n",
    "You don't need to identify the questions to which anyone answered \"yes\"; you need to identify the questions to which everyone answered \"yes\"!\n",
    "\n",
    "Using the same example as above, this list represents answers from five groups:\n",
    "\n",
    "    In the first group, everyone (all 1 person) answered \"yes\" to 3 questions: a, b, and c.\n",
    "    In the second group, there is no question to which everyone answered \"yes\".\n",
    "    In the third group, everyone answered yes to only 1 question, a. Since some people did not answer \"yes\" to b or c, they don't count.\n",
    "    In the fourth group, everyone answered yes to only 1 question, a.\n",
    "    In the fifth group, everyone (all 1 person) answered \"yes\" to 1 question, b.\n",
    "    In this example, the sum of these counts is 3 + 0 + 1 + 1 + 1 = 6.\n",
    "\n",
    "For each group, count the number of questions to which everyone answered \"yes\". What is the sum of those counts?"
   ]
  },
  {
   "cell_type": "code",
   "execution_count": 3,
   "metadata": {
    "ExecuteTime": {
     "end_time": "2020-12-08T21:03:57.277304Z",
     "start_time": "2020-12-08T21:03:57.273845Z"
    }
   },
   "outputs": [],
   "source": [
    "from functools import reduce"
   ]
  },
  {
   "cell_type": "code",
   "execution_count": 4,
   "metadata": {
    "ExecuteTime": {
     "end_time": "2020-12-08T21:03:57.289070Z",
     "start_time": "2020-12-08T21:03:57.280517Z"
    }
   },
   "outputs": [
    {
     "name": "stdout",
     "output_type": "stream",
     "text": [
      "Solution: The sum of the number of questions to which everyones answered yes is 3392.\n"
     ]
    }
   ],
   "source": [
    "count = 0\n",
    "for custom in customs:\n",
    "    group_answers = list(map(set, custom.split('\\n')))\n",
    "    common_answers = reduce(set.intersection, group_answers)\n",
    "    count += len(common_answers)\n",
    "    \n",
    "print(\"Solution: The sum of the number of questions to which everyones answered yes is {}.\".format(count))"
   ]
  }
 ],
 "metadata": {
  "kernelspec": {
   "display_name": "Python 3",
   "language": "python",
   "name": "python3"
  },
  "language_info": {
   "codemirror_mode": {
    "name": "ipython",
    "version": 3
   },
   "file_extension": ".py",
   "mimetype": "text/x-python",
   "name": "python",
   "nbconvert_exporter": "python",
   "pygments_lexer": "ipython3",
   "version": "3.7.7"
  }
 },
 "nbformat": 4,
 "nbformat_minor": 4
}
