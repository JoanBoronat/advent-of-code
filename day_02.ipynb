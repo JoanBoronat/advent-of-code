{
 "cells": [
  {
   "cell_type": "markdown",
   "metadata": {},
   "source": [
    "### Day 2: Password Philosophy"
   ]
  },
  {
   "cell_type": "markdown",
   "metadata": {
    "ExecuteTime": {
     "end_time": "2020-12-08T15:47:08.451570Z",
     "start_time": "2020-12-08T15:47:08.430323Z"
    }
   },
   "source": [
    "Your flight departs in a few days from the coastal airport; the easiest way down to the coast from here is via toboggan.\n",
    "\n",
    "The shopkeeper at the North Pole Toboggan Rental Shop is having a bad day. \"Something's wrong with our computers; we can't log in!\" You ask if you can take a look.\n",
    "\n",
    "Their password database seems to be a little corrupted: some of the passwords wouldn't have been allowed by the Official Toboggan Corporate Policy that was in effect when they were chosen.\n",
    "\n",
    "To try to debug the problem, they have created a list (your puzzle input) of passwords (according to the corrupted database) and the corporate policy when that password was set.\n",
    "\n",
    "For example, suppose you have the following list:\n",
    "\n",
    ">1-3 a: abcde<br>\n",
    "1-3 b: cdefg<br>\n",
    "2-9 c: ccccccccc<br>\n",
    "    \n",
    "Each line gives the password policy and then the password. The password policy indicates the lowest and highest number of times a given letter must appear for the password to be valid. For example, 1-3 a means that the password must contain a at least 1 time and at most 3 times.\n",
    "\n",
    "In the above example, 2 passwords are valid. The middle password, cdefg, is not; it contains no instances of b, but needs at least 1. The first and third passwords are valid: they contain one a or nine c, both within the limits of their respective policies.\n",
    "\n",
    "How many passwords are valid according to their policies?"
   ]
  },
  {
   "cell_type": "code",
   "execution_count": 1,
   "metadata": {
    "ExecuteTime": {
     "end_time": "2020-12-08T21:03:00.526122Z",
     "start_time": "2020-12-08T21:03:00.522624Z"
    }
   },
   "outputs": [],
   "source": [
    "import re"
   ]
  },
  {
   "cell_type": "code",
   "execution_count": 2,
   "metadata": {
    "ExecuteTime": {
     "end_time": "2020-12-08T21:03:00.533916Z",
     "start_time": "2020-12-08T21:03:00.529442Z"
    }
   },
   "outputs": [],
   "source": [
    "with open('data/advent_02.txt', 'r') as f:\n",
    "    raw_input = f.read()\n",
    "password_policies = raw_input.rstrip('\\n').split('\\n')"
   ]
  },
  {
   "cell_type": "code",
   "execution_count": 3,
   "metadata": {
    "ExecuteTime": {
     "end_time": "2020-12-08T21:03:00.541566Z",
     "start_time": "2020-12-08T21:03:00.537080Z"
    }
   },
   "outputs": [],
   "source": [
    "pattern = re.compile(r'^(?P<min>\\d+)-(?P<max>\\d+) (?P<char>[a-z]): (?P<password>[a-z]+)$')\n",
    "\n",
    "def policy_parser(policy):\n",
    "    match = re.fullmatch(pattern, policy)\n",
    "    return match.groupdict()"
   ]
  },
  {
   "cell_type": "code",
   "execution_count": 4,
   "metadata": {
    "ExecuteTime": {
     "end_time": "2020-12-08T21:03:00.553582Z",
     "start_time": "2020-12-08T21:03:00.544851Z"
    }
   },
   "outputs": [
    {
     "name": "stdout",
     "output_type": "stream",
     "text": [
      "Solution: There are 469 valid passords\n"
     ]
    }
   ],
   "source": [
    "valids = 0\n",
    "for policy in password_policies:\n",
    "    policy = policy_parser(policy)\n",
    "    count = policy['password'].count(policy['char'])\n",
    "    \n",
    "    if int(policy['min']) <= count <= int(policy['max']):\n",
    "        valids += 1\n",
    "\n",
    "print(\"Solution: There are {} valid passords\".format(valids))"
   ]
  },
  {
   "cell_type": "markdown",
   "metadata": {},
   "source": [
    "<br>\n",
    "\n",
    "### Part two"
   ]
  },
  {
   "cell_type": "markdown",
   "metadata": {},
   "source": [
    "While it appears you validated the passwords correctly, they don't seem to be what the Official Toboggan Corporate Authentication System is expecting.\n",
    "\n",
    "The shopkeeper suddenly realizes that he just accidentally explained the password policy rules from his old job at the sled rental place down the street! The Official Toboggan Corporate Policy actually works a little differently.\n",
    "\n",
    "Each policy actually describes two positions in the password, where 1 means the first character, 2 means the second character, and so on. (Be careful; Toboggan Corporate Policies have no concept of \"index zero\"!) Exactly one of these positions must contain the given letter. Other occurrences of the letter are irrelevant for the purposes of policy enforcement.\n",
    "\n",
    "Given the same example list from above:\n",
    "\n",
    ">1-3 a: abcde is valid: position 1 contains a and position 3 does not.<br>\n",
    "1-3 b: cdefg is invalid: neither position 1 nor position 3 contains b.<br>\n",
    "2-9 c: ccccccccc is invalid: both position 2 and position 9 contain c.<br>\n",
    "\n",
    "How many passwords are valid according to the new interpretation of the policies?"
   ]
  },
  {
   "cell_type": "code",
   "execution_count": 5,
   "metadata": {
    "ExecuteTime": {
     "end_time": "2020-12-08T21:03:00.568553Z",
     "start_time": "2020-12-08T21:03:00.556632Z"
    }
   },
   "outputs": [
    {
     "name": "stdout",
     "output_type": "stream",
     "text": [
      "Solution: There are 267 valid passords\n"
     ]
    }
   ],
   "source": [
    "valids = 0\n",
    "for policy in password_policies:\n",
    "    policy = policy_parser(policy)\n",
    "    pos_x, pos_y = int(policy['min']), int(policy['max'])\n",
    "    char_x, char_y = policy['password'][pos_x - 1], policy['password'][pos_y - 1]\n",
    "    \n",
    "    # Logic XOR (a != b)\n",
    "    if (char_x == policy['char']) != (char_y == policy['char']):\n",
    "        valids += 1\n",
    "\n",
    "print(\"Solution: There are {} valid passords\".format(valids))"
   ]
  }
 ],
 "metadata": {
  "kernelspec": {
   "display_name": "Python 3",
   "language": "python",
   "name": "python3"
  },
  "language_info": {
   "codemirror_mode": {
    "name": "ipython",
    "version": 3
   },
   "file_extension": ".py",
   "mimetype": "text/x-python",
   "name": "python",
   "nbconvert_exporter": "python",
   "pygments_lexer": "ipython3",
   "version": "3.7.7"
  }
 },
 "nbformat": 4,
 "nbformat_minor": 4
}
