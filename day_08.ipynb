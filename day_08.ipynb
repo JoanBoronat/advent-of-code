{
 "cells": [
  {
   "cell_type": "markdown",
   "metadata": {},
   "source": [
    "### Day 8: Handheld Halting\n",
    "\n",
    "Your flight to the major airline hub reaches cruising altitude without incident. While you consider checking the in-flight menu for one of those drinks that come with a little umbrella, you are interrupted by the kid sitting next to you.\n",
    "\n",
    "Their handheld game console won't turn on! They ask if you can take a look.\n",
    "\n",
    "You narrow the problem down to a strange infinite loop in the boot code (your puzzle input) of the device. You should be able to fix it, but first you need to be able to run the code in isolation.\n",
    "\n",
    "The boot code is represented as a text file with one instruction per line of text. Each instruction consists of an operation (acc, jmp, or nop) and an argument (a signed number like +4 or -20).\n",
    "\n",
    "acc increases or decreases a single global value called the accumulator by the value given in the argument. For example, acc +7 would increase the accumulator by 7. The accumulator starts at 0. After an acc instruction, the instruction immediately below it is executed next.\n",
    "jmp jumps to a new instruction relative to itself. The next instruction to execute is found using the argument as an offset from the jmp instruction; for example, jmp +2 would skip the next instruction, jmp +1 would continue to the instruction immediately below it, and jmp -20 would cause the instruction 20 lines above to be executed next.\n",
    "nop stands for No OPeration - it does nothing. The instruction immediately below it is executed next.\n",
    "For example, consider the following program:\n",
    "\n",
    "    nop +0\n",
    "    acc +1\n",
    "    jmp +4\n",
    "    acc +3\n",
    "    jmp -3\n",
    "    acc -99\n",
    "    acc +1\n",
    "    jmp -4\n",
    "    acc +6\n",
    "    \n",
    "These instructions are visited in this order:\n",
    "\n",
    "    nop +0  | 1\n",
    "    acc +1  | 2, 8(!)\n",
    "    jmp +4  | 3\n",
    "    acc +3  | 6\n",
    "    jmp -3  | 7\n",
    "    acc -99 |\n",
    "    acc +1  | 4\n",
    "    jmp -4  | 5\n",
    "    acc +6  |\n",
    "    \n",
    "First, the nop +0 does nothing. Then, the accumulator is increased from 0 to 1 (acc +1) and jmp +4 sets the next instruction to the other acc +1 near the bottom. After it increases the accumulator from 1 to 2, jmp -4 executes, setting the next instruction to the only acc +3. It sets the accumulator to 5, and jmp -3 causes the program to continue back at the first acc +1.\n",
    "\n",
    "This is an infinite loop: with this sequence of jumps, the program will run forever. The moment the program tries to run any instruction a second time, you know it will never terminate.\n",
    "\n",
    "Immediately before the program would run an instruction a second time, the value in the accumulator is 5.\n",
    "\n",
    "Run your copy of the boot code. Immediately before any instruction is executed a second time, what value is in the accumulator?"
   ]
  },
  {
   "cell_type": "code",
   "execution_count": 1,
   "metadata": {
    "ExecuteTime": {
     "end_time": "2020-12-08T21:04:21.221630Z",
     "start_time": "2020-12-08T21:04:21.215632Z"
    }
   },
   "outputs": [],
   "source": [
    "import collections\n",
    "import re\n",
    "\n",
    "with open(\"data/advent_08.txt\", \"r\") as f:\n",
    "    code = [line.rstrip('\\n') for line in f.readlines()]"
   ]
  },
  {
   "cell_type": "code",
   "execution_count": 2,
   "metadata": {
    "ExecuteTime": {
     "end_time": "2020-12-08T21:04:21.232434Z",
     "start_time": "2020-12-08T21:04:21.224684Z"
    }
   },
   "outputs": [
    {
     "name": "stdout",
     "output_type": "stream",
     "text": [
      "Solution: Before running an instruction 2 times the accumulator is 1317.\n"
     ]
    }
   ],
   "source": [
    "instructions = [(instruction[:3], int(instruction[4:])) for instruction in code]\n",
    "\n",
    "acc = 0\n",
    "pc = 0\n",
    "operator, operand = instructions[pc]\n",
    "while operator is not None:\n",
    "    instructions[pc] = (None, None)\n",
    "    if operator == 'nop':\n",
    "        pc += 1\n",
    "    elif operator == 'acc':\n",
    "        acc += operand\n",
    "        pc += 1\n",
    "    elif operator == 'jmp':\n",
    "        pc += operand\n",
    "    operator, operand = instructions[pc]\n",
    "    \n",
    "print('Solution: Before running an instruction 2 times the accumulator is {}.'.format(acc))"
   ]
  },
  {
   "cell_type": "markdown",
   "metadata": {},
   "source": [
    "<br>\n",
    "\n",
    "### Part Two\n",
    "\n",
    "After some careful analysis, you believe that exactly one instruction is corrupted.\n",
    "\n",
    "Somewhere in the program, either a jmp is supposed to be a nop, or a nop is supposed to be a jmp. (No acc instructions were harmed in the corruption of this boot code.)\n",
    "\n",
    "The program is supposed to terminate by attempting to execute an instruction immediately after the last instruction in the file. By changing exactly one jmp or nop, you can repair the boot code and make it terminate correctly.\n",
    "\n",
    "For example, consider the same program from above:\n",
    "\n",
    "    nop +0\n",
    "    acc +1\n",
    "    jmp +4\n",
    "    acc +3\n",
    "    jmp -3\n",
    "    acc -99\n",
    "    acc +1\n",
    "    jmp -4\n",
    "    acc +6\n",
    "    \n",
    "If you change the first instruction from nop +0 to jmp +0, it would create a single-instruction infinite loop, never leaving that instruction. If you change almost any of the jmp instructions, the program will still eventually find another jmp instruction and loop forever.\n",
    "\n",
    "However, if you change the second-to-last instruction (from jmp -4 to nop -4), the program terminates! The instructions are visited in this order:\n",
    "\n",
    "    nop +0  | 1\n",
    "    acc +1  | 2\n",
    "    jmp +4  | 3\n",
    "    acc +3  |\n",
    "    jmp -3  |\n",
    "    acc -99 |\n",
    "    acc +1  | 4\n",
    "    nop -4  | 5\n",
    "    acc +6  | 6\n",
    "    \n",
    "After the last instruction (acc +6), the program terminates by attempting to run the instruction below the last instruction in the file. With this change, after the program terminates, the accumulator contains the value 8 (acc +1, acc +1, acc +6).\n",
    "\n",
    "Fix the program so that it terminates normally by changing exactly one jmp (to nop) or nop (to jmp). What is the value of the accumulator after the program terminates?\n"
   ]
  },
  {
   "cell_type": "code",
   "execution_count": 3,
   "metadata": {
    "ExecuteTime": {
     "end_time": "2020-12-08T21:04:21.240503Z",
     "start_time": "2020-12-08T21:04:21.235416Z"
    }
   },
   "outputs": [],
   "source": [
    "def execute_program(execute_program):\n",
    "    instructions = execute_program[::]\n",
    "    acc = 0\n",
    "    pc = 0\n",
    "    while pc < len(instructions):\n",
    "        operator, operand = instructions[pc]\n",
    "        instructions[pc] = (None, None)\n",
    "        if operator is None:\n",
    "            return None\n",
    "        if operator == 'nop':\n",
    "            pc += 1\n",
    "        elif operator == 'acc':\n",
    "            acc += operand\n",
    "            pc += 1\n",
    "        elif operator == 'jmp':\n",
    "            pc += operand\n",
    "    return acc"
   ]
  },
  {
   "cell_type": "code",
   "execution_count": 4,
   "metadata": {
    "ExecuteTime": {
     "end_time": "2020-12-08T21:04:21.261136Z",
     "start_time": "2020-12-08T21:04:21.242986Z"
    }
   },
   "outputs": [],
   "source": [
    "instructions = [(instruction[:3], int(instruction[4:])) for instruction in code]\n",
    "\n",
    "i_modified = 0\n",
    "result = None\n",
    "while result is None:\n",
    "    instructions_modified = instructions[::]\n",
    "    operator, operand = instructions_modified[i_modified]\n",
    "    if operator in ['jmp', 'nop']:\n",
    "        new_operator = 'jmp' if operator == 'nop' else 'nop'\n",
    "        instructions_modified[i_modified] = (new_operator, operand)\n",
    "        result = execute_program(instructions_modified)\n",
    "    i_modified += 1"
   ]
  },
  {
   "cell_type": "code",
   "execution_count": 5,
   "metadata": {
    "ExecuteTime": {
     "end_time": "2020-12-08T21:04:21.268022Z",
     "start_time": "2020-12-08T21:04:21.263843Z"
    }
   },
   "outputs": [
    {
     "name": "stdout",
     "output_type": "stream",
     "text": [
      "Solution: The value of the accumulator after the program terminates is 1033.\n"
     ]
    }
   ],
   "source": [
    "print(\"Solution: The value of the accumulator after the program terminates is {}.\".format(result))"
   ]
  }
 ],
 "metadata": {
  "kernelspec": {
   "display_name": "Python 3",
   "language": "python",
   "name": "python3"
  },
  "language_info": {
   "codemirror_mode": {
    "name": "ipython",
    "version": 3
   },
   "file_extension": ".py",
   "mimetype": "text/x-python",
   "name": "python",
   "nbconvert_exporter": "python",
   "pygments_lexer": "ipython3",
   "version": "3.7.7"
  }
 },
 "nbformat": 4,
 "nbformat_minor": 4
}
